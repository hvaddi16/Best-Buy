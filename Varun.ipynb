{
 "cells": [
  {
   "cell_type": "code",
   "execution_count": 182,
   "metadata": {
    "collapsed": true,
    "pycharm": {
     "name": "#%%\n"
    }
   },
   "outputs": [],
   "source": [
    "import pandas as pd\n",
    "import numpy as np\n",
    "from catboost import CatBoostRegressor as cbr\n",
    "from datetime import datetime as dt\n",
    "from lightgbm import LGBMRegressor as lbr\n",
    "from xgboost import XGBRegressor as xgb\n",
    "from sklearn.ensemble import RandomForestRegressor as rf\n",
    "import matplotlib.pyplot as plt\n",
    "from sklearn.preprocessing import LabelEncoder\n",
    "from sklearn.metrics import mean_squared_error, r2_score, accuracy_score\n",
    "import statsmodels.api as sm\n",
    "from statsmodels.graphics import tsaplots\n",
    "from statsmodels.tsa.seasonal import STL"
   ]
  },
  {
   "cell_type": "markdown",
   "metadata": {
    "collapsed": false,
    "pycharm": {
     "name": "#%% md\n"
    }
   },
   "source": [
    "## Presentation Format\n",
    "\n",
    "Agenda 0.25\n",
    "Team Members 0.25\n",
    "Problem Statement - What is the Problem? Why are we doing this? Challenges? Aspects of Solution 0.75\n",
    "Data Sources - Explain current data (short), External Sources, why we think they are important 0.75\n",
    "Feature Engineering - Additional features, what are they capturing 1.5 (Black friday curve, product placement in class, discount %, competitor ratio, Prev Day Units, STL decomposition into Trend)\n",
    "Solution Approaches - Time Series Forecasting, Step wise classification-regression, Regression with Time Series features 0.5\n",
    "Final Solution & Results - 1.5 Time Series Splitting - Data Leakage - HyperParam Tuning - Model Performance - Prominent Features, RMSE\n",
    "Deployment - 0.5 Framwork - database, data update cycle, model training, model update cycle,\n",
    "Drawbacks & Future work - 0.5 Not weighted with value/profit on the product, Overfitting to SKUs with higher mean daily quantities."
   ]
  },
  {
   "cell_type": "code",
   "execution_count": null,
   "metadata": {
    "collapsed": false,
    "pycharm": {
     "name": "#%%\n"
    }
   },
   "outputs": [],
   "source": []
  },
  {
   "cell_type": "code",
   "execution_count": 2,
   "metadata": {
    "collapsed": false,
    "pycharm": {
     "name": "#%%\n"
    }
   },
   "outputs": [],
   "source": [
    "def addDateCols(df):\n",
    "    \"\"\"\n",
    "    This function takes in a pandas dataframe as an argument and adds new columns to it based on the 'sales_date' column.\n",
    "    The new columns are: \n",
    "    1. 'day' - day of the month from 'sales_date' column\n",
    "    2. 'month' - month of the year from 'sales_date' column\n",
    "    3. 'year' - year from 'sales_date' column\n",
    "    4. 'day_of_week' - day of the week from 'sales_date' column (Monday is 0 and Sunday is 6)\n",
    "    Args:\n",
    "    df : pandas dataframe containing a column 'sales_date' of datetime type\n",
    "    Returns:\n",
    "    df : pandas dataframe with new columns added\n",
    "    \"\"\"\n",
    "    df['day']=df['sales_date'].dt.day\n",
    "    df['month']=df['sales_date'].dt.month\n",
    "    df['year']=df['sales_date'].dt.year\n",
    "    df['day_of_week']=df['sales_date'].dt.dayofweek\n",
    "    return df"
   ]
  },
  {
   "cell_type": "code",
   "execution_count": 3,
   "metadata": {
    "collapsed": false,
    "pycharm": {
     "name": "#%%\n"
    }
   },
   "outputs": [
    {
     "name": "stdout",
     "output_type": "stream",
     "text": [
      "(846632, 184)\n"
     ]
    },
    {
     "data": {
      "text/html": [
       "<div>\n",
       "<style scoped>\n",
       "    .dataframe tbody tr th:only-of-type {\n",
       "        vertical-align: middle;\n",
       "    }\n",
       "\n",
       "    .dataframe tbody tr th {\n",
       "        vertical-align: top;\n",
       "    }\n",
       "\n",
       "    .dataframe thead th {\n",
       "        text-align: right;\n",
       "    }\n",
       "</style>\n",
       "<table border=\"1\" class=\"dataframe\">\n",
       "  <thead>\n",
       "    <tr style=\"text-align: right;\">\n",
       "      <th></th>\n",
       "      <th>Encoded_SKU_ID</th>\n",
       "      <th>SALES_DATE</th>\n",
       "      <th>RETAIL_PRICE</th>\n",
       "      <th>PROMO_PRICE</th>\n",
       "      <th>COMPETITOR_PRICE</th>\n",
       "      <th>DAILY_UNITS</th>\n",
       "      <th>day</th>\n",
       "      <th>month</th>\n",
       "      <th>year</th>\n",
       "      <th>Movingsum7</th>\n",
       "      <th>...</th>\n",
       "      <th>Inventory_Fully-Stocked</th>\n",
       "      <th>Inventory_Moderate</th>\n",
       "      <th>Inventory_Out-of-Stock</th>\n",
       "      <th>day_of_week_Friday</th>\n",
       "      <th>day_of_week_Monday</th>\n",
       "      <th>day_of_week_Saturday</th>\n",
       "      <th>day_of_week_Sunday</th>\n",
       "      <th>day_of_week_Thursday</th>\n",
       "      <th>day_of_week_Tuesday</th>\n",
       "      <th>day_of_week_Wednesday</th>\n",
       "    </tr>\n",
       "  </thead>\n",
       "  <tbody>\n",
       "    <tr>\n",
       "      <th>0</th>\n",
       "      <td>1</td>\n",
       "      <td>2017-05-28</td>\n",
       "      <td>89.99</td>\n",
       "      <td>0.0</td>\n",
       "      <td>0.0</td>\n",
       "      <td>0</td>\n",
       "      <td>28</td>\n",
       "      <td>5</td>\n",
       "      <td>2017</td>\n",
       "      <td>0.0</td>\n",
       "      <td>...</td>\n",
       "      <td>1</td>\n",
       "      <td>0</td>\n",
       "      <td>0</td>\n",
       "      <td>0</td>\n",
       "      <td>0</td>\n",
       "      <td>0</td>\n",
       "      <td>1</td>\n",
       "      <td>0</td>\n",
       "      <td>0</td>\n",
       "      <td>0</td>\n",
       "    </tr>\n",
       "    <tr>\n",
       "      <th>1</th>\n",
       "      <td>486</td>\n",
       "      <td>2017-05-28</td>\n",
       "      <td>17.99</td>\n",
       "      <td>0.0</td>\n",
       "      <td>0.0</td>\n",
       "      <td>0</td>\n",
       "      <td>28</td>\n",
       "      <td>5</td>\n",
       "      <td>2017</td>\n",
       "      <td>0.0</td>\n",
       "      <td>...</td>\n",
       "      <td>0</td>\n",
       "      <td>0</td>\n",
       "      <td>1</td>\n",
       "      <td>0</td>\n",
       "      <td>0</td>\n",
       "      <td>0</td>\n",
       "      <td>1</td>\n",
       "      <td>0</td>\n",
       "      <td>0</td>\n",
       "      <td>0</td>\n",
       "    </tr>\n",
       "    <tr>\n",
       "      <th>2</th>\n",
       "      <td>282</td>\n",
       "      <td>2017-05-28</td>\n",
       "      <td>16.99</td>\n",
       "      <td>0.0</td>\n",
       "      <td>0.0</td>\n",
       "      <td>0</td>\n",
       "      <td>28</td>\n",
       "      <td>5</td>\n",
       "      <td>2017</td>\n",
       "      <td>0.0</td>\n",
       "      <td>...</td>\n",
       "      <td>0</td>\n",
       "      <td>0</td>\n",
       "      <td>1</td>\n",
       "      <td>0</td>\n",
       "      <td>0</td>\n",
       "      <td>0</td>\n",
       "      <td>1</td>\n",
       "      <td>0</td>\n",
       "      <td>0</td>\n",
       "      <td>0</td>\n",
       "    </tr>\n",
       "    <tr>\n",
       "      <th>3</th>\n",
       "      <td>180</td>\n",
       "      <td>2017-05-28</td>\n",
       "      <td>16.99</td>\n",
       "      <td>0.0</td>\n",
       "      <td>0.0</td>\n",
       "      <td>0</td>\n",
       "      <td>28</td>\n",
       "      <td>5</td>\n",
       "      <td>2017</td>\n",
       "      <td>0.0</td>\n",
       "      <td>...</td>\n",
       "      <td>0</td>\n",
       "      <td>0</td>\n",
       "      <td>1</td>\n",
       "      <td>0</td>\n",
       "      <td>0</td>\n",
       "      <td>0</td>\n",
       "      <td>1</td>\n",
       "      <td>0</td>\n",
       "      <td>0</td>\n",
       "      <td>0</td>\n",
       "    </tr>\n",
       "    <tr>\n",
       "      <th>4</th>\n",
       "      <td>488</td>\n",
       "      <td>2017-05-28</td>\n",
       "      <td>39.99</td>\n",
       "      <td>0.0</td>\n",
       "      <td>0.0</td>\n",
       "      <td>0</td>\n",
       "      <td>28</td>\n",
       "      <td>5</td>\n",
       "      <td>2017</td>\n",
       "      <td>0.0</td>\n",
       "      <td>...</td>\n",
       "      <td>0</td>\n",
       "      <td>0</td>\n",
       "      <td>1</td>\n",
       "      <td>0</td>\n",
       "      <td>0</td>\n",
       "      <td>0</td>\n",
       "      <td>1</td>\n",
       "      <td>0</td>\n",
       "      <td>0</td>\n",
       "      <td>0</td>\n",
       "    </tr>\n",
       "  </tbody>\n",
       "</table>\n",
       "<p>5 rows × 184 columns</p>\n",
       "</div>"
      ],
      "text/plain": [
       "   Encoded_SKU_ID  SALES_DATE  RETAIL_PRICE  PROMO_PRICE  COMPETITOR_PRICE  \\\n",
       "0               1  2017-05-28         89.99          0.0               0.0   \n",
       "1             486  2017-05-28         17.99          0.0               0.0   \n",
       "2             282  2017-05-28         16.99          0.0               0.0   \n",
       "3             180  2017-05-28         16.99          0.0               0.0   \n",
       "4             488  2017-05-28         39.99          0.0               0.0   \n",
       "\n",
       "   DAILY_UNITS  day  month  year  Movingsum7  ...  Inventory_Fully-Stocked  \\\n",
       "0            0   28      5  2017         0.0  ...                        1   \n",
       "1            0   28      5  2017         0.0  ...                        0   \n",
       "2            0   28      5  2017         0.0  ...                        0   \n",
       "3            0   28      5  2017         0.0  ...                        0   \n",
       "4            0   28      5  2017         0.0  ...                        0   \n",
       "\n",
       "   Inventory_Moderate  Inventory_Out-of-Stock  day_of_week_Friday  \\\n",
       "0                   0                       0                   0   \n",
       "1                   0                       1                   0   \n",
       "2                   0                       1                   0   \n",
       "3                   0                       1                   0   \n",
       "4                   0                       1                   0   \n",
       "\n",
       "   day_of_week_Monday  day_of_week_Saturday  day_of_week_Sunday  \\\n",
       "0                   0                     0                   1   \n",
       "1                   0                     0                   1   \n",
       "2                   0                     0                   1   \n",
       "3                   0                     0                   1   \n",
       "4                   0                     0                   1   \n",
       "\n",
       "   day_of_week_Thursday  day_of_week_Tuesday  day_of_week_Wednesday  \n",
       "0                     0                    0                      0  \n",
       "1                     0                    0                      0  \n",
       "2                     0                    0                      0  \n",
       "3                     0                    0                      0  \n",
       "4                     0                    0                      0  \n",
       "\n",
       "[5 rows x 184 columns]"
      ]
     },
     "execution_count": 3,
     "metadata": {},
     "output_type": "execute_result"
    }
   ],
   "source": [
    "data=pd.read_csv(\"data/Merged3_data.csv\")\n",
    "data = data[~data.Encoded_SKU_ID.isna()]\n",
    "data = data[[i for i in data.columns if \"Unnamed\" not in i]]\n",
    "print(data.shape)\n",
    "data.head()"
   ]
  },
  {
   "cell_type": "code",
   "execution_count": 4,
   "metadata": {
    "collapsed": false,
    "pycharm": {
     "name": "#%%\n"
    }
   },
   "outputs": [
    {
     "name": "stdout",
     "output_type": "stream",
     "text": [
      "(846632, 11)\n"
     ]
    },
    {
     "data": {
      "text/html": [
       "<div>\n",
       "<style scoped>\n",
       "    .dataframe tbody tr th:only-of-type {\n",
       "        vertical-align: middle;\n",
       "    }\n",
       "\n",
       "    .dataframe tbody tr th {\n",
       "        vertical-align: top;\n",
       "    }\n",
       "\n",
       "    .dataframe thead th {\n",
       "        text-align: right;\n",
       "    }\n",
       "</style>\n",
       "<table border=\"1\" class=\"dataframe\">\n",
       "  <thead>\n",
       "    <tr style=\"text-align: right;\">\n",
       "      <th></th>\n",
       "      <th>Encoded_SKU_ID</th>\n",
       "      <th>SALES_DATE</th>\n",
       "      <th>SUBCLASS_NAME</th>\n",
       "      <th>CLASS_NAME</th>\n",
       "      <th>ML_NAME</th>\n",
       "      <th>CATEGORY_NAME</th>\n",
       "      <th>RETAIL_PRICE</th>\n",
       "      <th>PROMO_PRICE</th>\n",
       "      <th>COMPETITOR_PRICE</th>\n",
       "      <th>Inventory</th>\n",
       "      <th>DAILY_UNITS</th>\n",
       "    </tr>\n",
       "  </thead>\n",
       "  <tbody>\n",
       "    <tr>\n",
       "      <th>0</th>\n",
       "      <td>1.0</td>\n",
       "      <td>2017-09-28</td>\n",
       "      <td>MISC CAMERA ACCES</td>\n",
       "      <td>DIGITAL CAMERA ACCY</td>\n",
       "      <td>ML - DI Accessories</td>\n",
       "      <td>VP - Digital Imaging</td>\n",
       "      <td>89.99</td>\n",
       "      <td>?</td>\n",
       "      <td>?</td>\n",
       "      <td>Fully-Stocked</td>\n",
       "      <td>1.0</td>\n",
       "    </tr>\n",
       "    <tr>\n",
       "      <th>1</th>\n",
       "      <td>2.0</td>\n",
       "      <td>2017-11-24</td>\n",
       "      <td>CAMERA BATTERIES</td>\n",
       "      <td>DIGITAL CAMERA ACCY</td>\n",
       "      <td>ML - DI Accessories</td>\n",
       "      <td>VP - Digital Imaging</td>\n",
       "      <td>39.99</td>\n",
       "      <td>?</td>\n",
       "      <td>?</td>\n",
       "      <td>Fully-Stocked</td>\n",
       "      <td>18.0</td>\n",
       "    </tr>\n",
       "    <tr>\n",
       "      <th>2</th>\n",
       "      <td>3.0</td>\n",
       "      <td>2019-11-28</td>\n",
       "      <td>SO PARTS</td>\n",
       "      <td>MOBILE ACCESSORIES</td>\n",
       "      <td>ML - Connected Car</td>\n",
       "      <td>VP - Electrify &amp; Car</td>\n",
       "      <td>49.99</td>\n",
       "      <td>?</td>\n",
       "      <td>46.98</td>\n",
       "      <td>Constrained</td>\n",
       "      <td>7.0</td>\n",
       "    </tr>\n",
       "    <tr>\n",
       "      <th>3</th>\n",
       "      <td>4.0</td>\n",
       "      <td>2021-04-21</td>\n",
       "      <td>SO RANGEHOODS REG</td>\n",
       "      <td>KITCHEN VENTILATION</td>\n",
       "      <td>ML - Kitchen</td>\n",
       "      <td>VP - Major Appliances</td>\n",
       "      <td>549.99</td>\n",
       "      <td>?</td>\n",
       "      <td>498</td>\n",
       "      <td>Fully-Stocked</td>\n",
       "      <td>6.0</td>\n",
       "    </tr>\n",
       "    <tr>\n",
       "      <th>4</th>\n",
       "      <td>1.0</td>\n",
       "      <td>2018-10-27</td>\n",
       "      <td>MISC CAMERA ACCES</td>\n",
       "      <td>DIGITAL CAMERA ACCY</td>\n",
       "      <td>ML - DI Accessories</td>\n",
       "      <td>VP - Digital Imaging</td>\n",
       "      <td>89.99</td>\n",
       "      <td>?</td>\n",
       "      <td>?</td>\n",
       "      <td>Fully-Stocked</td>\n",
       "      <td>7.0</td>\n",
       "    </tr>\n",
       "  </tbody>\n",
       "</table>\n",
       "</div>"
      ],
      "text/plain": [
       "   Encoded_SKU_ID SALES_DATE      SUBCLASS_NAME           CLASS_NAME  \\\n",
       "0             1.0 2017-09-28  MISC CAMERA ACCES  DIGITAL CAMERA ACCY   \n",
       "1             2.0 2017-11-24   CAMERA BATTERIES  DIGITAL CAMERA ACCY   \n",
       "2             3.0 2019-11-28           SO PARTS   MOBILE ACCESSORIES   \n",
       "3             4.0 2021-04-21  SO RANGEHOODS REG  KITCHEN VENTILATION   \n",
       "4             1.0 2018-10-27  MISC CAMERA ACCES  DIGITAL CAMERA ACCY   \n",
       "\n",
       "               ML_NAME          CATEGORY_NAME  RETAIL_PRICE PROMO_PRICE  \\\n",
       "0  ML - DI Accessories   VP - Digital Imaging         89.99           ?   \n",
       "1  ML - DI Accessories   VP - Digital Imaging         39.99           ?   \n",
       "2   ML - Connected Car   VP - Electrify & Car         49.99           ?   \n",
       "3         ML - Kitchen  VP - Major Appliances        549.99           ?   \n",
       "4  ML - DI Accessories   VP - Digital Imaging         89.99           ?   \n",
       "\n",
       "  COMPETITOR_PRICE      Inventory  DAILY_UNITS  \n",
       "0                ?  Fully-Stocked          1.0  \n",
       "1                ?  Fully-Stocked         18.0  \n",
       "2            46.98    Constrained          7.0  \n",
       "3              498  Fully-Stocked          6.0  \n",
       "4                ?  Fully-Stocked          7.0  "
      ]
     },
     "execution_count": 4,
     "metadata": {},
     "output_type": "execute_result"
    }
   ],
   "source": [
    "data=pd.read_excel(\"data/Hackathon Data.xlsx\",engine='openpyxl')\n",
    "data = data[~data.Encoded_SKU_ID.isna()]\n",
    "data = data[[i for i in data.columns if \"Unnamed\" not in i]]\n",
    "print(data.shape)\n",
    "data.head()"
   ]
  },
  {
   "cell_type": "code",
   "execution_count": 12,
   "metadata": {
    "collapsed": false,
    "pycharm": {
     "name": "#%%\n"
    }
   },
   "outputs": [
    {
     "name": "stdout",
     "output_type": "stream",
     "text": [
      "(3773, 12)\n"
     ]
    },
    {
     "data": {
      "text/html": [
       "<div>\n",
       "<style scoped>\n",
       "    .dataframe tbody tr th:only-of-type {\n",
       "        vertical-align: middle;\n",
       "    }\n",
       "\n",
       "    .dataframe tbody tr th {\n",
       "        vertical-align: top;\n",
       "    }\n",
       "\n",
       "    .dataframe thead th {\n",
       "        text-align: right;\n",
       "    }\n",
       "</style>\n",
       "<table border=\"1\" class=\"dataframe\">\n",
       "  <thead>\n",
       "    <tr style=\"text-align: right;\">\n",
       "      <th></th>\n",
       "      <th>Encoded_SKU_ID</th>\n",
       "      <th>SALES_DATE</th>\n",
       "      <th>SUBCLASS_NAME</th>\n",
       "      <th>CLASS_NAME</th>\n",
       "      <th>ML_NAME</th>\n",
       "      <th>CATEGORY_NAME</th>\n",
       "      <th>RETAIL_PRICE</th>\n",
       "      <th>PROMO_PRICE</th>\n",
       "      <th>COMPETITOR_PRICE</th>\n",
       "      <th>Inventory</th>\n",
       "      <th>DAILY_UNITS</th>\n",
       "      <th>Forecasted Units</th>\n",
       "    </tr>\n",
       "  </thead>\n",
       "  <tbody>\n",
       "    <tr>\n",
       "      <th>0</th>\n",
       "      <td>23.0</td>\n",
       "      <td>2022-08-06</td>\n",
       "      <td>SO PARTS</td>\n",
       "      <td>MOBILE ACCESSORIES</td>\n",
       "      <td>ML - Connected Car</td>\n",
       "      <td>VP - Electrify &amp; Car</td>\n",
       "      <td>49.99</td>\n",
       "      <td>?</td>\n",
       "      <td>?</td>\n",
       "      <td>Moderate</td>\n",
       "      <td>3.0</td>\n",
       "      <td>NaN</td>\n",
       "    </tr>\n",
       "    <tr>\n",
       "      <th>1</th>\n",
       "      <td>100.0</td>\n",
       "      <td>2022-08-02</td>\n",
       "      <td>SO PARTS</td>\n",
       "      <td>MOBILE ACCESSORIES</td>\n",
       "      <td>ML - Connected Car</td>\n",
       "      <td>VP - Electrify &amp; Car</td>\n",
       "      <td>16.99</td>\n",
       "      <td>?</td>\n",
       "      <td>16.99</td>\n",
       "      <td>Fully-Stocked</td>\n",
       "      <td>2.0</td>\n",
       "      <td>NaN</td>\n",
       "    </tr>\n",
       "    <tr>\n",
       "      <th>2</th>\n",
       "      <td>121.0</td>\n",
       "      <td>2022-08-06</td>\n",
       "      <td>MISC ACCY</td>\n",
       "      <td>MOBILE ACCESSORIES</td>\n",
       "      <td>ML - Connected Car</td>\n",
       "      <td>VP - Electrify &amp; Car</td>\n",
       "      <td>24.99</td>\n",
       "      <td>?</td>\n",
       "      <td>?</td>\n",
       "      <td>Fully-Stocked</td>\n",
       "      <td>6.0</td>\n",
       "      <td>NaN</td>\n",
       "    </tr>\n",
       "    <tr>\n",
       "      <th>3</th>\n",
       "      <td>207.0</td>\n",
       "      <td>2022-08-03</td>\n",
       "      <td>OTR MIC</td>\n",
       "      <td>OTR MICROWAVE</td>\n",
       "      <td>ML - Kitchen</td>\n",
       "      <td>VP - Major Appliances</td>\n",
       "      <td>499.99</td>\n",
       "      <td>?</td>\n",
       "      <td>?</td>\n",
       "      <td>Fully-Stocked</td>\n",
       "      <td>0.0</td>\n",
       "      <td>NaN</td>\n",
       "    </tr>\n",
       "    <tr>\n",
       "      <th>4</th>\n",
       "      <td>416.0</td>\n",
       "      <td>2022-08-05</td>\n",
       "      <td>AMPS</td>\n",
       "      <td>CAR STEREO</td>\n",
       "      <td>ML - Connected Car</td>\n",
       "      <td>VP - Electrify &amp; Car</td>\n",
       "      <td>269.99</td>\n",
       "      <td>?</td>\n",
       "      <td>?</td>\n",
       "      <td>Fully-Stocked</td>\n",
       "      <td>9.0</td>\n",
       "      <td>NaN</td>\n",
       "    </tr>\n",
       "  </tbody>\n",
       "</table>\n",
       "</div>"
      ],
      "text/plain": [
       "   Encoded_SKU_ID SALES_DATE         SUBCLASS_NAME          CLASS_NAME  \\\n",
       "0            23.0 2022-08-06              SO PARTS  MOBILE ACCESSORIES   \n",
       "1           100.0 2022-08-02              SO PARTS  MOBILE ACCESSORIES   \n",
       "2           121.0 2022-08-06             MISC ACCY  MOBILE ACCESSORIES   \n",
       "3           207.0 2022-08-03               OTR MIC       OTR MICROWAVE   \n",
       "4           416.0 2022-08-05  AMPS                          CAR STEREO   \n",
       "\n",
       "              ML_NAME          CATEGORY_NAME  RETAIL_PRICE PROMO_PRICE  \\\n",
       "0  ML - Connected Car   VP - Electrify & Car         49.99           ?   \n",
       "1  ML - Connected Car   VP - Electrify & Car         16.99           ?   \n",
       "2  ML - Connected Car   VP - Electrify & Car         24.99           ?   \n",
       "3        ML - Kitchen  VP - Major Appliances        499.99           ?   \n",
       "4  ML - Connected Car   VP - Electrify & Car        269.99           ?   \n",
       "\n",
       "  COMPETITOR_PRICE      Inventory  DAILY_UNITS  Forecasted Units  \n",
       "0                ?       Moderate          3.0               NaN  \n",
       "1            16.99  Fully-Stocked          2.0               NaN  \n",
       "2                ?  Fully-Stocked          6.0               NaN  \n",
       "3                ?  Fully-Stocked          0.0               NaN  \n",
       "4                ?  Fully-Stocked          9.0               NaN  "
      ]
     },
     "execution_count": 12,
     "metadata": {},
     "output_type": "execute_result"
    }
   ],
   "source": [
    "val=pd.read_excel(\"data/Validation_Data.xlsx\",engine='openpyxl')\n",
    "val = val[~val.Encoded_SKU_ID.isna()]\n",
    "val = val[[i for i in val.columns if \"Unnamed\" not in i]]\n",
    "print(val.shape)\n",
    "val.head()"
   ]
  },
  {
   "cell_type": "code",
   "execution_count": 6,
   "metadata": {
    "collapsed": false,
    "pycharm": {
     "name": "#%%\n"
    }
   },
   "outputs": [],
   "source": [
    "dow_jones_index = pd.read_csv('data/dow_jones.csv')"
   ]
  },
  {
   "cell_type": "code",
   "execution_count": 146,
   "metadata": {
    "collapsed": false,
    "pycharm": {
     "name": "#%%\n"
    }
   },
   "outputs": [],
   "source": [
    "gscpi = pd.read_csv('data/gscpi_data.csv',names = [\"sales_date\", \"gscpi\"])\n",
    "gscpi[\"sales_date\"] = pd.to_datetime(gscpi[\"sales_date\"])\n",
    "owid = pd.read_csv('data/owid-covid-data.csv')\n",
    "owid = owid[owid[\"location\"]==\"United States\"][[\"date\", \"total_cases\", \"new_cases\"]].rename(columns = {\"date\":\"sales_date\"})\n",
    "owid[\"sales_date\"] = pd.to_datetime(owid[\"sales_date\"])"
   ]
  },
  {
   "cell_type": "code",
   "execution_count": 163,
   "metadata": {
    "collapsed": false,
    "pycharm": {
     "name": "#%%\n"
    }
   },
   "outputs": [],
   "source": [
    "trend = pd.read_csv('data/norm_trend_all_skus.csv')\n",
    "trend.columns = [i.lower() for i in trend.columns]\n",
    "trend = trend[[\"encoded_sku_id\", \"sales_date\", \"norm_trend\"]]\n",
    "trend[\"sales_date\"] = pd.to_datetime(trend[\"sales_date\"])"
   ]
  },
  {
   "cell_type": "code",
   "execution_count": 232,
   "metadata": {
    "collapsed": false,
    "pycharm": {
     "name": "#%%\n"
    }
   },
   "outputs": [],
   "source": [
    "df = data.copy()\n",
    "dfv = val.copy()\n",
    "df = pd.concat([df,dfv])"
   ]
  },
  {
   "cell_type": "code",
   "execution_count": 233,
   "metadata": {
    "collapsed": false,
    "pycharm": {
     "name": "#%%\n"
    }
   },
   "outputs": [],
   "source": [
    "def addCovidGSCPI(df):\n",
    "    df = df.merge(owid, how='left', on='sales_date')\n",
    "    df = df.merge(gscpi, how='left', on='sales_date')\n",
    "    df = df.merge(trend, how='left', on = [\"encoded_sku_id\", \"sales_date\"])\n",
    "    return df\n",
    "\n",
    "def addMarket(df):\n",
    "    \"\"\"\n",
    "    This function takes in a pandas dataframe as an argument and adds new columns to it based on the Dow Jones index.\n",
    "    It first copies the Dow Jones index and converts the date column to datetime format. Then it renames the columns\n",
    "    of the index dataframe to match the column names of the input dataframe. It then selects the distinct date values\n",
    "    from the input dataframe and merges it with the index dataframe on the date column. It then fills any missing market\n",
    "    values with forward fill method and calculates the return and log return of the market. Finally, it merges the \n",
    "    market dataframe with the input dataframe on the date column and returns the modified dataframe.\n",
    "    \n",
    "    Args:\n",
    "    df : pandas dataframe containing a column 'sales_date' of datetime type\n",
    "    \n",
    "    Returns:\n",
    "    df : pandas dataframe with new columns added 'market', 'i_return', 'i_return_log'\n",
    "    \"\"\"\n",
    "    index = dow_jones_index.copy()\n",
    "    index['date'] = pd.to_datetime(index['date'], format=\"%d-%m-%y\")\n",
    "    index.columns = ['sales_date', 'market']\n",
    "    dates_df = df[[\"sales_date\"]].drop_duplicates().sort_values(\"sales_date\").reset_index(drop=True)\n",
    "    index = dates_df.merge(index, how = \"left\", on=\"sales_date\").sort_values(\"sales_date\").reset_index(drop=True)\n",
    "    index[\"market\"] = index[\"market\"].fillna(method = \"ffill\")\n",
    "    index['i_return'] = index['market'].diff()\n",
    "    index['i_return_log'] = index['market'].apply(np.log).diff()\n",
    "    df = df.merge(index, how='left', on='sales_date')\n",
    "    return df\n",
    "\n",
    "def cleanNonObjColumns(df):\n",
    "    \"\"\"\n",
    "    This function takes in a pandas dataframe as an argument and performs cleaning and data type conversion on the non-object columns.\n",
    "    It first converts the column names to lowercase. Then it selects the columns 'encoded_sku_id' and 'daily_units' and converts their data type to int.\n",
    "    Next, it selects the columns 'retail_price', 'promo_price', 'competitor_price' and replaces any '?' with NaN and converts their data type to float.\n",
    "    Args:\n",
    "    df : pandas dataframe\n",
    "    Returns:\n",
    "    df : pandas dataframe with cleaned and converted non-object columns\n",
    "    \"\"\"\n",
    "    df.columns = [i.lower() for i in df.columns]\n",
    "    int_cols = [\"encoded_sku_id\", \"daily_units\"]\n",
    "    df[int_cols] = df[int_cols].astype(int)\n",
    "    float_cols = [\"retail_price\", \"promo_price\", \"competitor_price\"]\n",
    "    df[float_cols] = df[float_cols].replace(\"?\", np.nan).astype(float)\n",
    "    return df\n",
    "\n",
    "def cleanObjColumns(df):\n",
    "    \"\"\"\n",
    "    This function takes in a pandas dataframe as an argument and performs label encoding on the object columns.\n",
    "    It first selects all the object columns in the dataframe and stores them in a list 'obj_cols'.\n",
    "    It creates an empty dictionary 'label_encoders' to store the label encoders for each column.\n",
    "    It then defines an inner function 'labelEncode' which takes in a column and applies label encoding on it.\n",
    "    It stores the label encoder object in the 'label_encoders' dictionary with the column name as the key.\n",
    "    It then applies this inner function on each of the object columns in the dataframe using the 'apply' method.\n",
    "    It returns the modified dataframe.\n",
    "    \n",
    "    Args:\n",
    "    df : pandas dataframe\n",
    "    Returns:\n",
    "    df : pandas dataframe with label encoded object columns\n",
    "    \"\"\"\n",
    "    obj_cols = df.columns[df.dtypes == \"object\"].tolist()\n",
    "    label_encoders = {}\n",
    "    def labelEncode(x):\n",
    "        le = LabelEncoder()\n",
    "        le.fit(x)\n",
    "        label_encoders[x.name] = le\n",
    "        return le.transform(x)\n",
    "\n",
    "    df[obj_cols] = df[obj_cols].apply( labelEncode )\n",
    "    return df\n",
    "\n",
    "\n",
    "def dateGroupFeats(x):\n",
    "    \"\"\"\n",
    "    This function takes in a pandas dataframe as an argument and creates new columns based on the groupby of \n",
    "    specified columns and retail price. \n",
    "    It first selects the columns 'subclass_name', 'class_name', 'ml_name', 'category_name' and assigns it to the variable 'cols'.\n",
    "    Then it iterates over the columns in 'cols' and creates a new column 'retail_price_position_'+c for each column c.\n",
    "    The new column is created by applying the groupby operation on the input dataframe based on the column c and \n",
    "    dividing the retail price by the mean of retail price for each group.\n",
    "    It returns the modified dataframe\n",
    "    \n",
    "    Args:\n",
    "    x : pandas dataframe\n",
    "    Returns:\n",
    "    x : pandas dataframe with new columns 'retail_price_position_'+c for each column c in 'cols'\n",
    "    \"\"\"\n",
    "    cols = [\"subclass_name\", \"class_name\", \"ml_name\", \"category_name\"]\n",
    "    for c in cols:\n",
    "        x['retail_price_position_'+c] = x.groupby(c)[\"retail_price\"].apply(lambda x: x/x.mean())\n",
    "    return x\n",
    "\n",
    "\n",
    "def skuGroupFeats(x):\n",
    "    \"\"\"\n",
    "    This function takes in a pandas dataframe as an argument and creates a new column 'units_lag1' based on the 'daily_units' column.\n",
    "    It first sorts the dataframe by 'sales_date' and creates a new column 'units_lag1' which is the shifted version of the 'daily_units' column by 1.\n",
    "    It returns the modified dataframe.\n",
    "    \n",
    "    Args:\n",
    "    x : pandas dataframe\n",
    "    Returns:\n",
    "    x : pandas dataframe with added column 'units_lag1'\n",
    "    \"\"\"\n",
    "    x=x.sort_values(\"sales_date\")\n",
    "    x[\"units_lag1\"] = x['daily_units'].shift(1)\n",
    "    return x\n",
    "\n",
    "def get_norm_trend(x):\n",
    "    \"\"\"\n",
    "    This function takes in a pandas dataframe as an argument and creates a new column 'trend' based on the 'daily_units' column.\n",
    "    It uses the STL function from statsmodels package to decompose the time series data in the 'daily_units' column with a period of 365.\n",
    "    It then takes the trend component and normalizes it by subtracting the mean and dividing by the standard deviation.\n",
    "    It then adds the normalized trend as a new column 'trend' in the input dataframe.\n",
    "    It returns the modified dataframe.\n",
    "    \n",
    "    Args:\n",
    "    x : pandas dataframe\n",
    "    Returns:\n",
    "    x : pandas dataframe with added column 'trend'\n",
    "    \"\"\"\n",
    "    res = STL(x[\"daily_units\"], period=365).fit()\n",
    "    trend = res.trend\n",
    "    x[\"trend\"] = (trend-trend.mean())/trend.std()\n",
    "    return x\n",
    "\n",
    "\n",
    "def featureEng(df):\n",
    "    \"\"\"\n",
    "    This function takes in a pandas dataframe as an argument and performs feature engineering on it.\n",
    "    It first converts the 'sales_date' column to int64, divides it by 1e9 and assigns it back to the same column.\n",
    "    It then creates a new column 'competitor_price_ratio' which is the ratio of 'competitor_price' to 'retail_price' columns.\n",
    "    It creates a new column 'discount' which is the difference of 1 and the ratio of 'promo_price' to 'retail_price' columns.\n",
    "    It creates a new column 'black_friday' which is a binary column denoting whether the sale date is a black friday or not.\n",
    "    It then creates a new column 'black_friday' which is a column that denotes the proximity of the sale date to the nearest black friday.\n",
    "    The proximity is calculated by taking the minimum difference of the date and all the black friday dates and dividing it by 691200 (number of seconds in 8 days).\n",
    "    It applies the 'dateGroupFeats' function on the dataframe grouped by 'sales_date' and then applies the 'skuGroupFeats' function on the dataframe grouped by 'encoded_sku_id'.\n",
    "    It returns the modified dataframe.\n",
    "    \"\"\"\n",
    "    df[\"sales_date\"] = df.sales_date.astype('int64')/1e9\n",
    "    df[\"competitor_price_ratio\"] = df[\"competitor_price\"]/df[\"retail_price\"]\n",
    "    df[\"discount\"] = 1 - (df[\"promo_price\"]/df[\"retail_price\"])\n",
    "    df[\"black_friday\"] = ((df[\"month\"]==11) & (df[\"day_of_week\"]==4) & (df[\"day\"]<=29) & (df[\"day\"]>=23)).astype(int)\n",
    "    bf_days = df[df[\"black_friday\"]==1][\"sales_date\"].unique()\n",
    "    df[\"black_friday\"] = df[\"sales_date\"].apply( lambda x: max(0,1 - (np.abs(bf_days-x).min()/691200)) )\n",
    "    df = df.groupby(\"sales_date\").apply(dateGroupFeats)\n",
    "    df = df.groupby(\"encoded_sku_id\").apply(skuGroupFeats).droplevel(0)\n",
    "    return df\n",
    "\n",
    "def fillMissingDates(x, s, e):\n",
    "    \"\"\"\n",
    "    This function takes in a pandas dataframe, a start date and an end date as arguments.\n",
    "    It sorts the input dataframe by 'sales_date' column and separates the rows with 'sales_date' greater than the end date.\n",
    "    It then filters the input dataframe to only keep the rows with 'sales_date' less than or equal to the end date.\n",
    "    It sets the 'sales_date' column as index and reindexes the dataframe with date range from the start date to end date.\n",
    "    It fills any missing values in the dataframe using forward fill and backward fill.\n",
    "    It renames the index as 'sales_date' and resets the index of the dataframe.\n",
    "    It concatenates the filtered dataframe with the rows that were separated earlier.\n",
    "    It returns the modified dataframe.\n",
    "    \n",
    "    Args:\n",
    "    x : pandas dataframe\n",
    "    s : start date as string in format 'YYYY-MM-DD'\n",
    "    e : end date as string in format 'YYYY-MM-DD'\n",
    "    Returns:\n",
    "    x : pandas dataframe with missing dates filled and sorted by 'sales_date'\n",
    "    \"\"\"\n",
    "    x = x.sort_values(\"sales_date\")\n",
    "    x1 = x[x[\"sales_date\"]>e]\n",
    "    x = x[x[\"sales_date\"]<=e]\n",
    "    x = x.set_index('sales_date').reindex(\n",
    "        pd.date_range(s, e)\n",
    "    ).fillna(method='ffill').fillna(method='bfill').rename_axis('sales_date').reset_index()\n",
    "    x = pd.concat([x,x1])\n",
    "    return x\n",
    "\n",
    "def cleanData(df):\n",
    "    \"\"\"\n",
    "    This function takes in a pandas dataframe as an input.\n",
    "    It first calls the 'cleanNonObjColumns' function to clean up the non-object columns of the dataframe.\n",
    "    It then replaces all negative values in the 'daily_units' column with 0.\n",
    "    It then extracts the earliest and the 8th last date from the 'sales_date' column and assigns them as start and end dates.\n",
    "    It groups the dataframe by 'encoded_sku_id' column and applies the 'fillMissingDates' function on each group.\n",
    "    It then calls the 'addMarket' function, 'addCovidGSCPI' function, 'addDateCols' function and 'cleanObjColumns' function in that order.\n",
    "    It then calls the 'featureEng' function on the dataframe.\n",
    "    It sorts the dataframe by 'sales_date' and 'encoded_sku_id' columns and resets the index of the dataframe.\n",
    "    It returns the cleaned and transformed dataframe.\n",
    "    \n",
    "    Args:\n",
    "    df : pandas dataframe\n",
    "    Returns:\n",
    "    df : cleaned and transformed dataframe\n",
    "    \"\"\"\n",
    "    df = cleanNonObjColumns(df)\n",
    "    df[\"daily_units\"] = np.where(df.daily_units<0, 0, df.daily_units)\n",
    "    dates = sorted(df.sales_date.unique())\n",
    "    start, end = dates[0],dates[-8]\n",
    "    df = df.groupby('encoded_sku_id').apply(lambda x: fillMissingDates(x, start, end))\n",
    "    df = addMarket(df)\n",
    "    df = addCovidGSCPI(df)\n",
    "    df = addDateCols(df)\n",
    "    df = cleanObjColumns(df)\n",
    "    df = featureEng(df)\n",
    "    df = df.sort_values([\"sales_date\", \"encoded_sku_id\"]).reset_index(drop=True)\n",
    "    return df"
   ]
  },
  {
   "cell_type": "code",
   "execution_count": 234,
   "metadata": {
    "collapsed": false,
    "pycharm": {
     "name": "#%%\n"
    }
   },
   "outputs": [],
   "source": [
    "df = cleanData(df)"
   ]
  },
  {
   "cell_type": "code",
   "execution_count": 231,
   "metadata": {
    "collapsed": false,
    "pycharm": {
     "name": "#%%\n"
    }
   },
   "outputs": [
    {
     "data": {
      "text/html": [
       "<div>\n",
       "<style scoped>\n",
       "    .dataframe tbody tr th:only-of-type {\n",
       "        vertical-align: middle;\n",
       "    }\n",
       "\n",
       "    .dataframe tbody tr th {\n",
       "        vertical-align: top;\n",
       "    }\n",
       "\n",
       "    .dataframe thead th {\n",
       "        text-align: right;\n",
       "    }\n",
       "</style>\n",
       "<table border=\"1\" class=\"dataframe\">\n",
       "  <thead>\n",
       "    <tr style=\"text-align: right;\">\n",
       "      <th></th>\n",
       "      <th>sales_date</th>\n",
       "      <th>encoded_sku_id</th>\n",
       "      <th>subclass_name</th>\n",
       "      <th>class_name</th>\n",
       "      <th>ml_name</th>\n",
       "      <th>category_name</th>\n",
       "      <th>retail_price</th>\n",
       "      <th>promo_price</th>\n",
       "      <th>competitor_price</th>\n",
       "      <th>inventory</th>\n",
       "      <th>...</th>\n",
       "      <th>year</th>\n",
       "      <th>day_of_week</th>\n",
       "      <th>competitor_price_ratio</th>\n",
       "      <th>discount</th>\n",
       "      <th>black_friday</th>\n",
       "      <th>retail_price_position_subclass_name</th>\n",
       "      <th>retail_price_position_class_name</th>\n",
       "      <th>retail_price_position_ml_name</th>\n",
       "      <th>retail_price_position_category_name</th>\n",
       "      <th>units_lag1</th>\n",
       "    </tr>\n",
       "  </thead>\n",
       "  <tbody>\n",
       "    <tr>\n",
       "      <th>0</th>\n",
       "      <td>1.495930e+09</td>\n",
       "      <td>1.0</td>\n",
       "      <td>43</td>\n",
       "      <td>7</td>\n",
       "      <td>1</td>\n",
       "      <td>0</td>\n",
       "      <td>89.99</td>\n",
       "      <td>74.99</td>\n",
       "      <td>74.99</td>\n",
       "      <td>1</td>\n",
       "      <td>...</td>\n",
       "      <td>2017</td>\n",
       "      <td>6</td>\n",
       "      <td>0.833315</td>\n",
       "      <td>0.166685</td>\n",
       "      <td>0.0</td>\n",
       "      <td>1.180561</td>\n",
       "      <td>0.962282</td>\n",
       "      <td>0.955523</td>\n",
       "      <td>0.237436</td>\n",
       "      <td>NaN</td>\n",
       "    </tr>\n",
       "    <tr>\n",
       "      <th>1</th>\n",
       "      <td>1.496016e+09</td>\n",
       "      <td>1.0</td>\n",
       "      <td>43</td>\n",
       "      <td>7</td>\n",
       "      <td>1</td>\n",
       "      <td>0</td>\n",
       "      <td>89.99</td>\n",
       "      <td>74.99</td>\n",
       "      <td>74.99</td>\n",
       "      <td>1</td>\n",
       "      <td>...</td>\n",
       "      <td>2017</td>\n",
       "      <td>0</td>\n",
       "      <td>0.833315</td>\n",
       "      <td>0.166685</td>\n",
       "      <td>0.0</td>\n",
       "      <td>1.176578</td>\n",
       "      <td>0.958747</td>\n",
       "      <td>0.952363</td>\n",
       "      <td>0.236939</td>\n",
       "      <td>0.0</td>\n",
       "    </tr>\n",
       "    <tr>\n",
       "      <th>2</th>\n",
       "      <td>1.496102e+09</td>\n",
       "      <td>1.0</td>\n",
       "      <td>43</td>\n",
       "      <td>7</td>\n",
       "      <td>1</td>\n",
       "      <td>0</td>\n",
       "      <td>89.99</td>\n",
       "      <td>74.99</td>\n",
       "      <td>74.99</td>\n",
       "      <td>1</td>\n",
       "      <td>...</td>\n",
       "      <td>2017</td>\n",
       "      <td>1</td>\n",
       "      <td>0.833315</td>\n",
       "      <td>0.166685</td>\n",
       "      <td>0.0</td>\n",
       "      <td>1.174596</td>\n",
       "      <td>0.961219</td>\n",
       "      <td>0.954573</td>\n",
       "      <td>0.237150</td>\n",
       "      <td>0.0</td>\n",
       "    </tr>\n",
       "    <tr>\n",
       "      <th>3</th>\n",
       "      <td>1.496189e+09</td>\n",
       "      <td>1.0</td>\n",
       "      <td>43</td>\n",
       "      <td>7</td>\n",
       "      <td>1</td>\n",
       "      <td>0</td>\n",
       "      <td>89.99</td>\n",
       "      <td>74.99</td>\n",
       "      <td>74.99</td>\n",
       "      <td>1</td>\n",
       "      <td>...</td>\n",
       "      <td>2017</td>\n",
       "      <td>2</td>\n",
       "      <td>0.833315</td>\n",
       "      <td>0.166685</td>\n",
       "      <td>0.0</td>\n",
       "      <td>1.176082</td>\n",
       "      <td>0.958219</td>\n",
       "      <td>0.951891</td>\n",
       "      <td>0.237335</td>\n",
       "      <td>0.0</td>\n",
       "    </tr>\n",
       "    <tr>\n",
       "      <th>4</th>\n",
       "      <td>1.496275e+09</td>\n",
       "      <td>1.0</td>\n",
       "      <td>43</td>\n",
       "      <td>7</td>\n",
       "      <td>1</td>\n",
       "      <td>0</td>\n",
       "      <td>89.99</td>\n",
       "      <td>74.99</td>\n",
       "      <td>74.99</td>\n",
       "      <td>1</td>\n",
       "      <td>...</td>\n",
       "      <td>2017</td>\n",
       "      <td>3</td>\n",
       "      <td>0.833315</td>\n",
       "      <td>0.166685</td>\n",
       "      <td>0.0</td>\n",
       "      <td>1.182062</td>\n",
       "      <td>0.959452</td>\n",
       "      <td>0.952994</td>\n",
       "      <td>0.237107</td>\n",
       "      <td>0.0</td>\n",
       "    </tr>\n",
       "    <tr>\n",
       "      <th>5</th>\n",
       "      <td>1.496362e+09</td>\n",
       "      <td>1.0</td>\n",
       "      <td>43</td>\n",
       "      <td>7</td>\n",
       "      <td>1</td>\n",
       "      <td>0</td>\n",
       "      <td>89.99</td>\n",
       "      <td>74.99</td>\n",
       "      <td>74.99</td>\n",
       "      <td>1</td>\n",
       "      <td>...</td>\n",
       "      <td>2017</td>\n",
       "      <td>4</td>\n",
       "      <td>0.833315</td>\n",
       "      <td>0.166685</td>\n",
       "      <td>0.0</td>\n",
       "      <td>1.183567</td>\n",
       "      <td>0.964060</td>\n",
       "      <td>0.957111</td>\n",
       "      <td>0.237632</td>\n",
       "      <td>0.0</td>\n",
       "    </tr>\n",
       "    <tr>\n",
       "      <th>6</th>\n",
       "      <td>1.496448e+09</td>\n",
       "      <td>1.0</td>\n",
       "      <td>43</td>\n",
       "      <td>7</td>\n",
       "      <td>1</td>\n",
       "      <td>0</td>\n",
       "      <td>89.99</td>\n",
       "      <td>74.99</td>\n",
       "      <td>74.99</td>\n",
       "      <td>1</td>\n",
       "      <td>...</td>\n",
       "      <td>2017</td>\n",
       "      <td>5</td>\n",
       "      <td>0.833315</td>\n",
       "      <td>0.166685</td>\n",
       "      <td>0.0</td>\n",
       "      <td>1.183567</td>\n",
       "      <td>0.960423</td>\n",
       "      <td>0.953862</td>\n",
       "      <td>0.237493</td>\n",
       "      <td>4.0</td>\n",
       "    </tr>\n",
       "    <tr>\n",
       "      <th>7</th>\n",
       "      <td>1.496534e+09</td>\n",
       "      <td>1.0</td>\n",
       "      <td>43</td>\n",
       "      <td>7</td>\n",
       "      <td>1</td>\n",
       "      <td>0</td>\n",
       "      <td>89.99</td>\n",
       "      <td>74.99</td>\n",
       "      <td>74.99</td>\n",
       "      <td>1</td>\n",
       "      <td>...</td>\n",
       "      <td>2017</td>\n",
       "      <td>6</td>\n",
       "      <td>0.833315</td>\n",
       "      <td>0.166685</td>\n",
       "      <td>0.0</td>\n",
       "      <td>1.183567</td>\n",
       "      <td>0.964060</td>\n",
       "      <td>0.957111</td>\n",
       "      <td>0.237632</td>\n",
       "      <td>7.0</td>\n",
       "    </tr>\n",
       "    <tr>\n",
       "      <th>8</th>\n",
       "      <td>1.496621e+09</td>\n",
       "      <td>1.0</td>\n",
       "      <td>43</td>\n",
       "      <td>7</td>\n",
       "      <td>1</td>\n",
       "      <td>0</td>\n",
       "      <td>89.99</td>\n",
       "      <td>74.99</td>\n",
       "      <td>74.99</td>\n",
       "      <td>1</td>\n",
       "      <td>...</td>\n",
       "      <td>2017</td>\n",
       "      <td>0</td>\n",
       "      <td>0.833315</td>\n",
       "      <td>0.166685</td>\n",
       "      <td>0.0</td>\n",
       "      <td>1.183567</td>\n",
       "      <td>0.964060</td>\n",
       "      <td>0.957111</td>\n",
       "      <td>0.237632</td>\n",
       "      <td>4.0</td>\n",
       "    </tr>\n",
       "    <tr>\n",
       "      <th>9</th>\n",
       "      <td>1.496707e+09</td>\n",
       "      <td>1.0</td>\n",
       "      <td>43</td>\n",
       "      <td>7</td>\n",
       "      <td>1</td>\n",
       "      <td>0</td>\n",
       "      <td>89.99</td>\n",
       "      <td>74.99</td>\n",
       "      <td>74.99</td>\n",
       "      <td>1</td>\n",
       "      <td>...</td>\n",
       "      <td>2017</td>\n",
       "      <td>1</td>\n",
       "      <td>0.833315</td>\n",
       "      <td>0.166685</td>\n",
       "      <td>0.0</td>\n",
       "      <td>1.183567</td>\n",
       "      <td>0.964060</td>\n",
       "      <td>0.957111</td>\n",
       "      <td>0.237144</td>\n",
       "      <td>2.0</td>\n",
       "    </tr>\n",
       "  </tbody>\n",
       "</table>\n",
       "<p>10 rows × 31 columns</p>\n",
       "</div>"
      ],
      "text/plain": [
       "     sales_date  encoded_sku_id  subclass_name  class_name  ml_name  \\\n",
       "0  1.495930e+09             1.0             43           7        1   \n",
       "1  1.496016e+09             1.0             43           7        1   \n",
       "2  1.496102e+09             1.0             43           7        1   \n",
       "3  1.496189e+09             1.0             43           7        1   \n",
       "4  1.496275e+09             1.0             43           7        1   \n",
       "5  1.496362e+09             1.0             43           7        1   \n",
       "6  1.496448e+09             1.0             43           7        1   \n",
       "7  1.496534e+09             1.0             43           7        1   \n",
       "8  1.496621e+09             1.0             43           7        1   \n",
       "9  1.496707e+09             1.0             43           7        1   \n",
       "\n",
       "   category_name  retail_price  promo_price  competitor_price  inventory  ...  \\\n",
       "0              0         89.99        74.99             74.99          1  ...   \n",
       "1              0         89.99        74.99             74.99          1  ...   \n",
       "2              0         89.99        74.99             74.99          1  ...   \n",
       "3              0         89.99        74.99             74.99          1  ...   \n",
       "4              0         89.99        74.99             74.99          1  ...   \n",
       "5              0         89.99        74.99             74.99          1  ...   \n",
       "6              0         89.99        74.99             74.99          1  ...   \n",
       "7              0         89.99        74.99             74.99          1  ...   \n",
       "8              0         89.99        74.99             74.99          1  ...   \n",
       "9              0         89.99        74.99             74.99          1  ...   \n",
       "\n",
       "   year  day_of_week  competitor_price_ratio  discount  black_friday  \\\n",
       "0  2017            6                0.833315  0.166685           0.0   \n",
       "1  2017            0                0.833315  0.166685           0.0   \n",
       "2  2017            1                0.833315  0.166685           0.0   \n",
       "3  2017            2                0.833315  0.166685           0.0   \n",
       "4  2017            3                0.833315  0.166685           0.0   \n",
       "5  2017            4                0.833315  0.166685           0.0   \n",
       "6  2017            5                0.833315  0.166685           0.0   \n",
       "7  2017            6                0.833315  0.166685           0.0   \n",
       "8  2017            0                0.833315  0.166685           0.0   \n",
       "9  2017            1                0.833315  0.166685           0.0   \n",
       "\n",
       "   retail_price_position_subclass_name  retail_price_position_class_name  \\\n",
       "0                             1.180561                          0.962282   \n",
       "1                             1.176578                          0.958747   \n",
       "2                             1.174596                          0.961219   \n",
       "3                             1.176082                          0.958219   \n",
       "4                             1.182062                          0.959452   \n",
       "5                             1.183567                          0.964060   \n",
       "6                             1.183567                          0.960423   \n",
       "7                             1.183567                          0.964060   \n",
       "8                             1.183567                          0.964060   \n",
       "9                             1.183567                          0.964060   \n",
       "\n",
       "   retail_price_position_ml_name  retail_price_position_category_name  \\\n",
       "0                       0.955523                             0.237436   \n",
       "1                       0.952363                             0.236939   \n",
       "2                       0.954573                             0.237150   \n",
       "3                       0.951891                             0.237335   \n",
       "4                       0.952994                             0.237107   \n",
       "5                       0.957111                             0.237632   \n",
       "6                       0.953862                             0.237493   \n",
       "7                       0.957111                             0.237632   \n",
       "8                       0.957111                             0.237632   \n",
       "9                       0.957111                             0.237144   \n",
       "\n",
       "   units_lag1  \n",
       "0         NaN  \n",
       "1         0.0  \n",
       "2         0.0  \n",
       "3         0.0  \n",
       "4         0.0  \n",
       "5         0.0  \n",
       "6         4.0  \n",
       "7         7.0  \n",
       "8         4.0  \n",
       "9         2.0  \n",
       "\n",
       "[10 rows x 31 columns]"
      ]
     },
     "execution_count": 231,
     "metadata": {},
     "output_type": "execute_result"
    }
   ],
   "source": [
    "df.head(10)"
   ]
  },
  {
   "cell_type": "code",
   "execution_count": 235,
   "metadata": {
    "collapsed": false,
    "pycharm": {
     "name": "#%%\n"
    }
   },
   "outputs": [],
   "source": [
    "def createTrTs(df, splits=10, test_size=7):\n",
    "    \"\"\"\n",
    "    This function takes in a pandas dataframe and splits it into train and test sets.\n",
    "    It first extracts all unique dates in the 'sales_date' column and sorts them.\n",
    "    It then selects the last 'test_size' number of dates and assigns them as the test set.\n",
    "    It splits the remaining dates into 'splits' number of train sets.\n",
    "    It then creates a list of test sets by taking the first 'test_size' number of dates from each of the train sets except the first one and appending the last test set.\n",
    "    It returns the train sets and test sets as two separate lists.\n",
    "    \n",
    "    Args:\n",
    "    df : pandas dataframe\n",
    "    splits : number of splits for train sets, default value is 10\n",
    "    test_size : number of last dates to be selected as test set, default value is 7\n",
    "    \n",
    "    Returns:\n",
    "    trains : list of train sets\n",
    "    tests : list of test sets\n",
    "    \"\"\"\n",
    "    dates = np.array(sorted(df.sales_date.unique()))\n",
    "    test = dates[-test_size:]\n",
    "    dates = dates[:-test_size]\n",
    "    trains = np.array_split(dates,splits)\n",
    "    tests = [i[:test_size] for i in trains[1:]] + [test]\n",
    "    return trains, tests\n",
    "\n",
    "def generateTimeSeriesSplits(trains, tests, df):\n",
    "    \"\"\"\n",
    "    This function takes in a list of train sets, a list of test sets and the original dataframe.\n",
    "    It iterates over the test sets and for each test set, it concatenates all the train sets up to that point.\n",
    "    It then creates a train set and a test set by filtering the original dataframe based on the sales dates present in the train and test sets respectively.\n",
    "    It sorts these dataframes by encoded_sku_id and sales_date and resets the index.\n",
    "    It returns a tuple of the train and test sets for each iteration.\n",
    "    \n",
    "    Args:\n",
    "    trains : list of train sets\n",
    "    tests : list of test sets\n",
    "    df : original dataframe\n",
    "    \n",
    "    Returns:\n",
    "    tr : train set\n",
    "    ts : test set\n",
    "    \"\"\"\n",
    "    for i, ts in enumerate(tests):\n",
    "        tr = np.concatenate(trains[:i+1])\n",
    "        tr,ts = df[df.sales_date.isin(tr)].copy(), df[df.sales_date.isin(ts)].copy()\n",
    "        yield tr.sort_values([\"encoded_sku_id\",\"sales_date\"]).reset_index(drop=True),ts.sort_values([\"encoded_sku_id\",\"sales_date\"]).reset_index(drop=True)\n",
    "\n",
    "trains, tests = createTrTs(df)"
   ]
  },
  {
   "cell_type": "code",
   "execution_count": 168,
   "metadata": {
    "collapsed": false,
    "pycharm": {
     "name": "#%%\n"
    }
   },
   "outputs": [],
   "source": [
    "def func(x):\n",
    "    x=x.sort_values(\"sales_date\")\n",
    "    x[\"units_lag1\"] = x['daily_units'].shift(1)\n",
    "    #x[\"units_mean7\"]=x['daily_units'].rolling(window=7).mean().shift(1)\n",
    "    # x[\"movingsum5\"]=x['daily_units'].rolling(window=5).mean().shift(1)\n",
    "    # x[\"movingsum3\"]=x['daily_units'].rolling(window=3).sum().shift(1)\n",
    "    # x[\"movingvar7\"]=x['daily_units'].rolling(window=7).var().shift(1)\n",
    "    # x[\"movingvar5\"]=x['daily_units'].rolling(window=5).var().shift(1)\n",
    "    # x[\"movingvar3\"]=x['daily_units'].rolling(window=3).var().shift(1)\n",
    "    # cols=[i for i in x.columns if (\"moving\" in i)]\n",
    "    # x.reset_index(inplace=True,drop=True)\n",
    "    # x.loc[int(0.9*len(x)):,cols]=np.nan\n",
    "    # x[cols]=x[cols].fillna(method=\"ffill\")\n",
    "    return x"
   ]
  },
  {
   "cell_type": "code",
   "execution_count": 176,
   "metadata": {
    "collapsed": false,
    "pycharm": {
     "name": "#%%\n"
    }
   },
   "outputs": [
    {
     "data": {
      "text/html": [
       "<div>\n",
       "<style scoped>\n",
       "    .dataframe tbody tr th:only-of-type {\n",
       "        vertical-align: middle;\n",
       "    }\n",
       "\n",
       "    .dataframe tbody tr th {\n",
       "        vertical-align: top;\n",
       "    }\n",
       "\n",
       "    .dataframe thead th {\n",
       "        text-align: right;\n",
       "    }\n",
       "</style>\n",
       "<table border=\"1\" class=\"dataframe\">\n",
       "  <thead>\n",
       "    <tr style=\"text-align: right;\">\n",
       "      <th></th>\n",
       "      <th>sales_date</th>\n",
       "      <th>encoded_sku_id</th>\n",
       "      <th>subclass_name</th>\n",
       "      <th>class_name</th>\n",
       "      <th>ml_name</th>\n",
       "      <th>category_name</th>\n",
       "      <th>retail_price</th>\n",
       "      <th>promo_price</th>\n",
       "      <th>competitor_price</th>\n",
       "      <th>inventory</th>\n",
       "      <th>...</th>\n",
       "      <th>month</th>\n",
       "      <th>year</th>\n",
       "      <th>day_of_week</th>\n",
       "      <th>competitor_price_ratio</th>\n",
       "      <th>discount</th>\n",
       "      <th>black_friday</th>\n",
       "      <th>retail_price_position_subclass_name</th>\n",
       "      <th>retail_price_position_class_name</th>\n",
       "      <th>retail_price_position_ml_name</th>\n",
       "      <th>retail_price_position_category_name</th>\n",
       "    </tr>\n",
       "  </thead>\n",
       "  <tbody>\n",
       "    <tr>\n",
       "      <th>978650</th>\n",
       "      <td>1.642982e+09</td>\n",
       "      <td>1.0</td>\n",
       "      <td>43</td>\n",
       "      <td>7</td>\n",
       "      <td>1</td>\n",
       "      <td>0</td>\n",
       "      <td>89.99</td>\n",
       "      <td>74.99</td>\n",
       "      <td>68.90</td>\n",
       "      <td>1</td>\n",
       "      <td>...</td>\n",
       "      <td>1</td>\n",
       "      <td>2022</td>\n",
       "      <td>0</td>\n",
       "      <td>0.765641</td>\n",
       "      <td>0.166685</td>\n",
       "      <td>0.0</td>\n",
       "      <td>1.159159</td>\n",
       "      <td>0.951683</td>\n",
       "      <td>0.979675</td>\n",
       "      <td>0.249975</td>\n",
       "    </tr>\n",
       "    <tr>\n",
       "      <th>978651</th>\n",
       "      <td>1.642982e+09</td>\n",
       "      <td>2.0</td>\n",
       "      <td>7</td>\n",
       "      <td>7</td>\n",
       "      <td>1</td>\n",
       "      <td>0</td>\n",
       "      <td>39.99</td>\n",
       "      <td>23.99</td>\n",
       "      <td>68.78</td>\n",
       "      <td>1</td>\n",
       "      <td>...</td>\n",
       "      <td>1</td>\n",
       "      <td>2022</td>\n",
       "      <td>0</td>\n",
       "      <td>1.719930</td>\n",
       "      <td>0.400100</td>\n",
       "      <td>0.0</td>\n",
       "      <td>0.848453</td>\n",
       "      <td>0.422911</td>\n",
       "      <td>0.435350</td>\n",
       "      <td>0.111085</td>\n",
       "    </tr>\n",
       "    <tr>\n",
       "      <th>978652</th>\n",
       "      <td>1.642982e+09</td>\n",
       "      <td>3.0</td>\n",
       "      <td>88</td>\n",
       "      <td>18</td>\n",
       "      <td>0</td>\n",
       "      <td>1</td>\n",
       "      <td>49.99</td>\n",
       "      <td>44.99</td>\n",
       "      <td>40.84</td>\n",
       "      <td>3</td>\n",
       "      <td>...</td>\n",
       "      <td>1</td>\n",
       "      <td>2022</td>\n",
       "      <td>0</td>\n",
       "      <td>0.816963</td>\n",
       "      <td>0.100020</td>\n",
       "      <td>0.0</td>\n",
       "      <td>1.710043</td>\n",
       "      <td>1.552116</td>\n",
       "      <td>0.625491</td>\n",
       "      <td>0.609308</td>\n",
       "    </tr>\n",
       "    <tr>\n",
       "      <th>978653</th>\n",
       "      <td>1.642982e+09</td>\n",
       "      <td>4.0</td>\n",
       "      <td>92</td>\n",
       "      <td>15</td>\n",
       "      <td>4</td>\n",
       "      <td>2</td>\n",
       "      <td>549.99</td>\n",
       "      <td>399.99</td>\n",
       "      <td>549.00</td>\n",
       "      <td>1</td>\n",
       "      <td>...</td>\n",
       "      <td>1</td>\n",
       "      <td>2022</td>\n",
       "      <td>0</td>\n",
       "      <td>0.998200</td>\n",
       "      <td>0.272732</td>\n",
       "      <td>0.0</td>\n",
       "      <td>0.577010</td>\n",
       "      <td>0.715942</td>\n",
       "      <td>0.346528</td>\n",
       "      <td>0.387646</td>\n",
       "    </tr>\n",
       "    <tr>\n",
       "      <th>978654</th>\n",
       "      <td>1.642982e+09</td>\n",
       "      <td>5.0</td>\n",
       "      <td>61</td>\n",
       "      <td>18</td>\n",
       "      <td>0</td>\n",
       "      <td>1</td>\n",
       "      <td>16.99</td>\n",
       "      <td>12.74</td>\n",
       "      <td>13.38</td>\n",
       "      <td>1</td>\n",
       "      <td>...</td>\n",
       "      <td>1</td>\n",
       "      <td>2022</td>\n",
       "      <td>0</td>\n",
       "      <td>0.787522</td>\n",
       "      <td>0.250147</td>\n",
       "      <td>0.0</td>\n",
       "      <td>0.617642</td>\n",
       "      <td>0.527514</td>\n",
       "      <td>0.212584</td>\n",
       "      <td>0.207084</td>\n",
       "    </tr>\n",
       "    <tr>\n",
       "      <th>...</th>\n",
       "      <td>...</td>\n",
       "      <td>...</td>\n",
       "      <td>...</td>\n",
       "      <td>...</td>\n",
       "      <td>...</td>\n",
       "      <td>...</td>\n",
       "      <td>...</td>\n",
       "      <td>...</td>\n",
       "      <td>...</td>\n",
       "      <td>...</td>\n",
       "      <td>...</td>\n",
       "      <td>...</td>\n",
       "      <td>...</td>\n",
       "      <td>...</td>\n",
       "      <td>...</td>\n",
       "      <td>...</td>\n",
       "      <td>...</td>\n",
       "      <td>...</td>\n",
       "      <td>...</td>\n",
       "      <td>...</td>\n",
       "      <td>...</td>\n",
       "    </tr>\n",
       "    <tr>\n",
       "      <th>982670</th>\n",
       "      <td>1.643501e+09</td>\n",
       "      <td>571.0</td>\n",
       "      <td>11</td>\n",
       "      <td>7</td>\n",
       "      <td>1</td>\n",
       "      <td>0</td>\n",
       "      <td>599.99</td>\n",
       "      <td>NaN</td>\n",
       "      <td>599.00</td>\n",
       "      <td>1</td>\n",
       "      <td>...</td>\n",
       "      <td>1</td>\n",
       "      <td>2022</td>\n",
       "      <td>6</td>\n",
       "      <td>0.998350</td>\n",
       "      <td>NaN</td>\n",
       "      <td>0.0</td>\n",
       "      <td>2.823615</td>\n",
       "      <td>6.314641</td>\n",
       "      <td>6.502470</td>\n",
       "      <td>1.663357</td>\n",
       "    </tr>\n",
       "    <tr>\n",
       "      <th>982671</th>\n",
       "      <td>1.643501e+09</td>\n",
       "      <td>572.0</td>\n",
       "      <td>48</td>\n",
       "      <td>7</td>\n",
       "      <td>1</td>\n",
       "      <td>0</td>\n",
       "      <td>129.99</td>\n",
       "      <td>59.99</td>\n",
       "      <td>129.99</td>\n",
       "      <td>1</td>\n",
       "      <td>...</td>\n",
       "      <td>1</td>\n",
       "      <td>2022</td>\n",
       "      <td>6</td>\n",
       "      <td>1.000000</td>\n",
       "      <td>0.538503</td>\n",
       "      <td>0.0</td>\n",
       "      <td>1.374662</td>\n",
       "      <td>1.368090</td>\n",
       "      <td>1.408784</td>\n",
       "      <td>0.360372</td>\n",
       "    </tr>\n",
       "    <tr>\n",
       "      <th>982672</th>\n",
       "      <td>1.643501e+09</td>\n",
       "      <td>573.0</td>\n",
       "      <td>112</td>\n",
       "      <td>7</td>\n",
       "      <td>1</td>\n",
       "      <td>0</td>\n",
       "      <td>104.99</td>\n",
       "      <td>69.99</td>\n",
       "      <td>48.99</td>\n",
       "      <td>1</td>\n",
       "      <td>...</td>\n",
       "      <td>1</td>\n",
       "      <td>2022</td>\n",
       "      <td>6</td>\n",
       "      <td>0.466616</td>\n",
       "      <td>0.333365</td>\n",
       "      <td>0.0</td>\n",
       "      <td>1.354212</td>\n",
       "      <td>1.104975</td>\n",
       "      <td>1.137843</td>\n",
       "      <td>0.291065</td>\n",
       "    </tr>\n",
       "    <tr>\n",
       "      <th>982673</th>\n",
       "      <td>1.643501e+09</td>\n",
       "      <td>574.0</td>\n",
       "      <td>35</td>\n",
       "      <td>7</td>\n",
       "      <td>1</td>\n",
       "      <td>0</td>\n",
       "      <td>21.99</td>\n",
       "      <td>NaN</td>\n",
       "      <td>21.99</td>\n",
       "      <td>1</td>\n",
       "      <td>...</td>\n",
       "      <td>1</td>\n",
       "      <td>2022</td>\n",
       "      <td>6</td>\n",
       "      <td>1.000000</td>\n",
       "      <td>NaN</td>\n",
       "      <td>0.0</td>\n",
       "      <td>1.000000</td>\n",
       "      <td>0.231435</td>\n",
       "      <td>0.238319</td>\n",
       "      <td>0.060963</td>\n",
       "    </tr>\n",
       "    <tr>\n",
       "      <th>982674</th>\n",
       "      <td>1.643501e+09</td>\n",
       "      <td>575.0</td>\n",
       "      <td>36</td>\n",
       "      <td>3</td>\n",
       "      <td>6</td>\n",
       "      <td>0</td>\n",
       "      <td>149.99</td>\n",
       "      <td>129.99</td>\n",
       "      <td>149.99</td>\n",
       "      <td>1</td>\n",
       "      <td>...</td>\n",
       "      <td>1</td>\n",
       "      <td>2022</td>\n",
       "      <td>6</td>\n",
       "      <td>1.000000</td>\n",
       "      <td>0.133342</td>\n",
       "      <td>0.0</td>\n",
       "      <td>1.200016</td>\n",
       "      <td>0.394375</td>\n",
       "      <td>0.256589</td>\n",
       "      <td>0.415818</td>\n",
       "    </tr>\n",
       "  </tbody>\n",
       "</table>\n",
       "<p>4025 rows × 30 columns</p>\n",
       "</div>"
      ],
      "text/plain": [
       "          sales_date  encoded_sku_id  subclass_name  class_name  ml_name  \\\n",
       "978650  1.642982e+09             1.0             43           7        1   \n",
       "978651  1.642982e+09             2.0              7           7        1   \n",
       "978652  1.642982e+09             3.0             88          18        0   \n",
       "978653  1.642982e+09             4.0             92          15        4   \n",
       "978654  1.642982e+09             5.0             61          18        0   \n",
       "...              ...             ...            ...         ...      ...   \n",
       "982670  1.643501e+09           571.0             11           7        1   \n",
       "982671  1.643501e+09           572.0             48           7        1   \n",
       "982672  1.643501e+09           573.0            112           7        1   \n",
       "982673  1.643501e+09           574.0             35           7        1   \n",
       "982674  1.643501e+09           575.0             36           3        6   \n",
       "\n",
       "        category_name  retail_price  promo_price  competitor_price  inventory  \\\n",
       "978650              0         89.99        74.99             68.90          1   \n",
       "978651              0         39.99        23.99             68.78          1   \n",
       "978652              1         49.99        44.99             40.84          3   \n",
       "978653              2        549.99       399.99            549.00          1   \n",
       "978654              1         16.99        12.74             13.38          1   \n",
       "...               ...           ...          ...               ...        ...   \n",
       "982670              0        599.99          NaN            599.00          1   \n",
       "982671              0        129.99        59.99            129.99          1   \n",
       "982672              0        104.99        69.99             48.99          1   \n",
       "982673              0         21.99          NaN             21.99          1   \n",
       "982674              0        149.99       129.99            149.99          1   \n",
       "\n",
       "        ...  month  year  day_of_week  competitor_price_ratio  discount  \\\n",
       "978650  ...      1  2022            0                0.765641  0.166685   \n",
       "978651  ...      1  2022            0                1.719930  0.400100   \n",
       "978652  ...      1  2022            0                0.816963  0.100020   \n",
       "978653  ...      1  2022            0                0.998200  0.272732   \n",
       "978654  ...      1  2022            0                0.787522  0.250147   \n",
       "...     ...    ...   ...          ...                     ...       ...   \n",
       "982670  ...      1  2022            6                0.998350       NaN   \n",
       "982671  ...      1  2022            6                1.000000  0.538503   \n",
       "982672  ...      1  2022            6                0.466616  0.333365   \n",
       "982673  ...      1  2022            6                1.000000       NaN   \n",
       "982674  ...      1  2022            6                1.000000  0.133342   \n",
       "\n",
       "        black_friday  retail_price_position_subclass_name  \\\n",
       "978650           0.0                             1.159159   \n",
       "978651           0.0                             0.848453   \n",
       "978652           0.0                             1.710043   \n",
       "978653           0.0                             0.577010   \n",
       "978654           0.0                             0.617642   \n",
       "...              ...                                  ...   \n",
       "982670           0.0                             2.823615   \n",
       "982671           0.0                             1.374662   \n",
       "982672           0.0                             1.354212   \n",
       "982673           0.0                             1.000000   \n",
       "982674           0.0                             1.200016   \n",
       "\n",
       "        retail_price_position_class_name  retail_price_position_ml_name  \\\n",
       "978650                          0.951683                       0.979675   \n",
       "978651                          0.422911                       0.435350   \n",
       "978652                          1.552116                       0.625491   \n",
       "978653                          0.715942                       0.346528   \n",
       "978654                          0.527514                       0.212584   \n",
       "...                                  ...                            ...   \n",
       "982670                          6.314641                       6.502470   \n",
       "982671                          1.368090                       1.408784   \n",
       "982672                          1.104975                       1.137843   \n",
       "982673                          0.231435                       0.238319   \n",
       "982674                          0.394375                       0.256589   \n",
       "\n",
       "        retail_price_position_category_name  \n",
       "978650                             0.249975  \n",
       "978651                             0.111085  \n",
       "978652                             0.609308  \n",
       "978653                             0.387646  \n",
       "978654                             0.207084  \n",
       "...                                     ...  \n",
       "982670                             1.663357  \n",
       "982671                             0.360372  \n",
       "982672                             0.291065  \n",
       "982673                             0.060963  \n",
       "982674                             0.415818  \n",
       "\n",
       "[4025 rows x 30 columns]"
      ]
     },
     "execution_count": 176,
     "metadata": {},
     "output_type": "execute_result"
    }
   ],
   "source": [
    "df[df.sales_date.isin(tests[-2])]"
   ]
  },
  {
   "cell_type": "code",
   "execution_count": 245,
   "metadata": {
    "collapsed": false,
    "pycharm": {
     "name": "#%%\n"
    }
   },
   "outputs": [],
   "source": [
    "import optuna"
   ]
  },
  {
   "cell_type": "code",
   "execution_count": 246,
   "metadata": {
    "collapsed": false,
    "pycharm": {
     "name": "#%%\n"
    }
   },
   "outputs": [],
   "source": [
    "def objective(trial):\n",
    "    \"\"\"\n",
    "    This function is using Optuna library to perform a hyperparameter tuning for an XGBoost model. \n",
    "    The function takes a dataframe as input, and splits it into a train and test set using the generateTimeSeriesSplits function. \n",
    "    It then uses the Optuna library to perform a random search of the hyperparameter space to find the best set of hyperparameters. \n",
    "    The parameters being tuned are max_depth, eta, colsample_bytree, and gamma.\n",
    "    It then fits an XGBoost model with the best hyperparameters on the training data, and predicts on the test set. \n",
    "    The objective of the tuning is to minimize the Root Mean Squared Error (RMSE) of the predictions on the test set.\n",
    "    It returns the RMSE of the predictions on the test set.\n",
    "    \"\"\"\n",
    "    generator = generateTimeSeriesSplits(trains, tests, df)\n",
    "    params = {\n",
    "        'max_depth': trial.suggest_int('max_depth', 2, 5),\n",
    "        'eta': trial.suggest_uniform('eta', 0.01, 0.2),\n",
    "        'colsample_bytree': trial.suggest_uniform('colsample_bytree', 0.1, 1.0),\n",
    "        'gamma' : trial.suggest_uniform('gamma', 0.1, 10),\n",
    "    }\n",
    "    for i,ts in enumerate(tests):\n",
    "        tr,ts = next(generator)\n",
    "        if i<9:\n",
    "            continue\n",
    "        reg = xgb(**params)\n",
    "        xtr,ytr = tr.drop(\"daily_units\", axis=1), tr[\"daily_units\"]\n",
    "        ts_save =  ts.copy()\n",
    "        reg.fit(xtr,ytr)\n",
    "        yts = reg.predict(ts.drop(\"daily_units\",axis=1))\n",
    "    return mean_squared_error(ts_save[\"daily_units\"], yts, squared=False)\n",
    "\n"
   ]
  },
  {
   "cell_type": "code",
   "execution_count": 247,
   "metadata": {
    "collapsed": false,
    "pycharm": {
     "name": "#%%\n"
    }
   },
   "outputs": [
    {
     "name": "stderr",
     "output_type": "stream",
     "text": [
      "\u001b[32m[I 2023-01-19 13:36:32,321]\u001b[0m A new study created in memory with name: no-name-6f6ea080-6b20-4a58-b98f-3038261ab405\u001b[0m\n",
      "\u001b[32m[I 2023-01-19 13:37:22,455]\u001b[0m Trial 0 finished with value: 7.089884575940858 and parameters: {'max_depth': 4, 'eta': 0.1777278748531542, 'colsample_bytree': 0.4062761718802905, 'gamma': 7.453596156135384}. Best is trial 0 with value: 7.089884575940858.\u001b[0m\n",
      "\u001b[32m[I 2023-01-19 13:37:51,614]\u001b[0m Trial 1 finished with value: 6.643998737036043 and parameters: {'max_depth': 2, 'eta': 0.16256038660506283, 'colsample_bytree': 0.35604713668438204, 'gamma': 3.1856766869806434}. Best is trial 1 with value: 6.643998737036043.\u001b[0m\n",
      "\u001b[32m[I 2023-01-19 13:39:07,735]\u001b[0m Trial 2 finished with value: 5.30996576312021 and parameters: {'max_depth': 5, 'eta': 0.17555048960497974, 'colsample_bytree': 0.6931493979822769, 'gamma': 9.79584987650468}. Best is trial 2 with value: 5.30996576312021.\u001b[0m\n",
      "\u001b[32m[I 2023-01-19 13:40:04,202]\u001b[0m Trial 3 finished with value: 9.41939220429218 and parameters: {'max_depth': 4, 'eta': 0.07756836217016926, 'colsample_bytree': 0.4914139482305028, 'gamma': 3.8370244674818443}. Best is trial 2 with value: 5.30996576312021.\u001b[0m\n",
      "\u001b[32m[I 2023-01-19 13:41:21,434]\u001b[0m Trial 4 finished with value: 4.2030085911360615 and parameters: {'max_depth': 4, 'eta': 0.06627882138934632, 'colsample_bytree': 0.8039851355427627, 'gamma': 9.770051692929467}. Best is trial 4 with value: 4.2030085911360615.\u001b[0m\n",
      "\u001b[32m[I 2023-01-19 13:41:59,011]\u001b[0m Trial 5 finished with value: 16.672720614913693 and parameters: {'max_depth': 3, 'eta': 0.01470209089080855, 'colsample_bytree': 0.142203217698803, 'gamma': 0.9421123762085257}. Best is trial 4 with value: 4.2030085911360615.\u001b[0m\n",
      "\u001b[32m[I 2023-01-19 13:42:38,177]\u001b[0m Trial 6 finished with value: 8.252345683776205 and parameters: {'max_depth': 2, 'eta': 0.0418479284342272, 'colsample_bytree': 0.4400414303216543, 'gamma': 4.116425131888864}. Best is trial 4 with value: 4.2030085911360615.\u001b[0m\n",
      "\u001b[32m[I 2023-01-19 13:43:20,511]\u001b[0m Trial 7 finished with value: 14.986959721109676 and parameters: {'max_depth': 5, 'eta': 0.13291741601930693, 'colsample_bytree': 0.1166643286009594, 'gamma': 6.225225674876117}. Best is trial 4 with value: 4.2030085911360615.\u001b[0m\n",
      "\u001b[32m[I 2023-01-19 13:44:23,888]\u001b[0m Trial 8 finished with value: 3.3358357385196684 and parameters: {'max_depth': 3, 'eta': 0.13509219123048447, 'colsample_bytree': 0.8514011669529575, 'gamma': 1.7294071358818446}. Best is trial 8 with value: 3.3358357385196684.\u001b[0m\n",
      "\u001b[32m[I 2023-01-19 13:45:07,709]\u001b[0m Trial 9 finished with value: 15.245309531575876 and parameters: {'max_depth': 3, 'eta': 0.18264870265989896, 'colsample_bytree': 0.4514618621265767, 'gamma': 9.15424543479546}. Best is trial 8 with value: 3.3358357385196684.\u001b[0m\n",
      "\u001b[32m[I 2023-01-19 13:46:18,856]\u001b[0m Trial 10 finished with value: 3.2301593299276696 and parameters: {'max_depth': 3, 'eta': 0.1329263133255387, 'colsample_bytree': 0.9949505087581918, 'gamma': 0.3475062455648281}. Best is trial 10 with value: 3.2301593299276696.\u001b[0m\n",
      "\u001b[32m[I 2023-01-19 13:47:31,874]\u001b[0m Trial 11 finished with value: 3.1198696954847605 and parameters: {'max_depth': 3, 'eta': 0.12301441159840429, 'colsample_bytree': 0.9705301510163854, 'gamma': 0.1129150407382844}. Best is trial 11 with value: 3.1198696954847605.\u001b[0m\n",
      "\u001b[32m[I 2023-01-19 13:48:20,076]\u001b[0m Trial 12 finished with value: 3.8437031597946247 and parameters: {'max_depth': 2, 'eta': 0.11223144761430405, 'colsample_bytree': 0.9987241729836014, 'gamma': 0.11609440085483763}. Best is trial 11 with value: 3.1198696954847605.\u001b[0m\n",
      "\u001b[32m[I 2023-01-19 13:49:25,774]\u001b[0m Trial 13 finished with value: 3.634035587264851 and parameters: {'max_depth': 3, 'eta': 0.13629301558777723, 'colsample_bytree': 0.9158058074877968, 'gamma': 2.121246183092854}. Best is trial 11 with value: 3.1198696954847605.\u001b[0m\n",
      "\u001b[32m[I 2023-01-19 13:50:34,349]\u001b[0m Trial 14 finished with value: 3.5950446632238426 and parameters: {'max_depth': 3, 'eta': 0.0956801569911163, 'colsample_bytree': 0.9977312106729351, 'gamma': 0.24061308213093469}. Best is trial 11 with value: 3.1198696954847605.\u001b[0m\n",
      "\u001b[32m[I 2023-01-19 13:51:37,970]\u001b[0m Trial 15 finished with value: 4.469946531015826 and parameters: {'max_depth': 4, 'eta': 0.1119836882290415, 'colsample_bytree': 0.669806212102515, 'gamma': 1.766728221459578}. Best is trial 11 with value: 3.1198696954847605.\u001b[0m\n",
      "\u001b[32m[I 2023-01-19 13:52:15,724]\u001b[0m Trial 16 finished with value: 4.782426419559194 and parameters: {'max_depth': 2, 'eta': 0.15137082118081166, 'colsample_bytree': 0.7284258677883433, 'gamma': 5.267400115363386}. Best is trial 11 with value: 3.1198696954847605.\u001b[0m\n",
      "\u001b[32m[I 2023-01-19 13:53:23,890]\u001b[0m Trial 17 finished with value: 3.4654738349238827 and parameters: {'max_depth': 3, 'eta': 0.199389941512172, 'colsample_bytree': 0.9341377211724038, 'gamma': 0.2675184535522517}. Best is trial 11 with value: 3.1198696954847605.\u001b[0m\n",
      "\u001b[32m[I 2023-01-19 13:54:38,243]\u001b[0m Trial 18 finished with value: 4.1093204459900035 and parameters: {'max_depth': 4, 'eta': 0.08704225508168358, 'colsample_bytree': 0.8096382681961324, 'gamma': 2.839616545101239}. Best is trial 11 with value: 3.1198696954847605.\u001b[0m\n",
      "\u001b[32m[I 2023-01-19 13:55:23,495]\u001b[0m Trial 19 finished with value: 4.745411977419339 and parameters: {'max_depth': 3, 'eta': 0.12032777302596649, 'colsample_bytree': 0.574304933354063, 'gamma': 1.0392038193959579}. Best is trial 11 with value: 3.1198696954847605.\u001b[0m\n",
      "\u001b[32m[I 2023-01-19 13:55:50,257]\u001b[0m Trial 20 finished with value: 9.408880642313019 and parameters: {'max_depth': 2, 'eta': 0.056750327961043165, 'colsample_bytree': 0.2681522389277974, 'gamma': 8.233830863387276}. Best is trial 11 with value: 3.1198696954847605.\u001b[0m\n",
      "\u001b[32m[I 2023-01-19 13:56:50,776]\u001b[0m Trial 21 finished with value: 3.3793610217813868 and parameters: {'max_depth': 3, 'eta': 0.1429673022039834, 'colsample_bytree': 0.8860452105861322, 'gamma': 1.3003502768795658}. Best is trial 11 with value: 3.1198696954847605.\u001b[0m\n",
      "\u001b[32m[I 2023-01-19 13:57:58,299]\u001b[0m Trial 22 finished with value: 3.152421912384675 and parameters: {'max_depth': 3, 'eta': 0.1316051731980101, 'colsample_bytree': 0.9813485106626206, 'gamma': 0.2954721821332861}. Best is trial 11 with value: 3.1198696954847605.\u001b[0m\n",
      "\u001b[32m[I 2023-01-19 13:59:03,232]\u001b[0m Trial 23 finished with value: 3.1529251841867567 and parameters: {'max_depth': 3, 'eta': 0.12076750991955047, 'colsample_bytree': 0.9446693303139961, 'gamma': 0.44120281230620767}. Best is trial 11 with value: 3.1198696954847605.\u001b[0m\n",
      "\u001b[32m[I 2023-01-19 14:00:08,398]\u001b[0m Trial 24 finished with value: 3.6419279488099194 and parameters: {'max_depth': 3, 'eta': 0.09984827755370856, 'colsample_bytree': 0.9476616155263053, 'gamma': 2.327480220451112}. Best is trial 11 with value: 3.1198696954847605.\u001b[0m\n",
      "\u001b[32m[I 2023-01-19 14:01:11,535]\u001b[0m Trial 25 finished with value: 4.046928682747583 and parameters: {'max_depth': 4, 'eta': 0.12295648244078329, 'colsample_bytree': 0.7521375203682535, 'gamma': 0.8240776510844477}. Best is trial 11 with value: 3.1198696954847605.\u001b[0m\n",
      "\u001b[32m[I 2023-01-19 14:01:45,469]\u001b[0m Trial 26 finished with value: 5.35739718652931 and parameters: {'max_depth': 2, 'eta': 0.16486857043723277, 'colsample_bytree': 0.5946460499832324, 'gamma': 2.816175787033077}. Best is trial 11 with value: 3.1198696954847605.\u001b[0m\n",
      "\u001b[32m[I 2023-01-19 14:02:44,562]\u001b[0m Trial 27 finished with value: 3.5517472992053962 and parameters: {'max_depth': 3, 'eta': 0.15246336650178385, 'colsample_bytree': 0.86456287424342, 'gamma': 0.38000974859538983}. Best is trial 11 with value: 3.1198696954847605.\u001b[0m\n",
      "\u001b[32m[I 2023-01-19 14:03:50,382]\u001b[0m Trial 28 finished with value: 3.4944810953379224 and parameters: {'max_depth': 3, 'eta': 0.10458936765898946, 'colsample_bytree': 0.9958621281641172, 'gamma': 1.3197667549177436}. Best is trial 11 with value: 3.1198696954847605.\u001b[0m\n",
      "\u001b[32m[I 2023-01-19 14:05:00,856]\u001b[0m Trial 29 finished with value: 4.2371142905680435 and parameters: {'max_depth': 4, 'eta': 0.08610985740067015, 'colsample_bytree': 0.8173868270713885, 'gamma': 6.02482929540697}. Best is trial 11 with value: 3.1198696954847605.\u001b[0m\n",
      "\u001b[32m[I 2023-01-19 14:06:23,870]\u001b[0m Trial 30 finished with value: 3.6377462652942945 and parameters: {'max_depth': 4, 'eta': 0.12098062001066179, 'colsample_bytree': 0.9418674664435345, 'gamma': 4.0675405029539125}. Best is trial 11 with value: 3.1198696954847605.\u001b[0m\n",
      "\u001b[32m[I 2023-01-19 14:07:30,008]\u001b[0m Trial 31 finished with value: 3.232906866243679 and parameters: {'max_depth': 3, 'eta': 0.12461415630441337, 'colsample_bytree': 0.9977995764004379, 'gamma': 0.3151354909837837}. Best is trial 11 with value: 3.1198696954847605.\u001b[0m\n",
      "\u001b[32m[I 2023-01-19 14:08:34,891]\u001b[0m Trial 32 finished with value: 3.2857431213896002 and parameters: {'max_depth': 3, 'eta': 0.14874186919847243, 'colsample_bytree': 0.962931779410845, 'gamma': 0.7346747986313937}. Best is trial 11 with value: 3.1198696954847605.\u001b[0m\n",
      "\u001b[32m[I 2023-01-19 14:09:19,280]\u001b[0m Trial 33 finished with value: 4.292789792754635 and parameters: {'max_depth': 2, 'eta': 0.16188357654868477, 'colsample_bytree': 0.8834584941754545, 'gamma': 0.15783719873933755}. Best is trial 11 with value: 3.1198696954847605.\u001b[0m\n",
      "\u001b[32m[I 2023-01-19 14:10:09,935]\u001b[0m Trial 34 finished with value: 4.013573810081523 and parameters: {'max_depth': 3, 'eta': 0.11112377418703141, 'colsample_bytree': 0.7636983319019254, 'gamma': 1.6409033894997274}. Best is trial 11 with value: 3.1198696954847605.\u001b[0m\n",
      "\u001b[32m[I 2023-01-19 14:10:57,526]\u001b[0m Trial 35 finished with value: 4.683312213306206 and parameters: {'max_depth': 3, 'eta': 0.17411049014415025, 'colsample_bytree': 0.6506892629102958, 'gamma': 2.259865508692523}. Best is trial 11 with value: 3.1198696954847605.\u001b[0m\n",
      "\u001b[32m[I 2023-01-19 14:11:35,006]\u001b[0m Trial 36 finished with value: 6.798442055082917 and parameters: {'max_depth': 3, 'eta': 0.13329062403426065, 'colsample_bytree': 0.349260316737139, 'gamma': 3.280262892047046}. Best is trial 11 with value: 3.1198696954847605.\u001b[0m\n",
      "\u001b[32m[I 2023-01-19 14:13:00,815]\u001b[0m Trial 37 finished with value: 3.6991672358146857 and parameters: {'max_depth': 4, 'eta': 0.09240036547356192, 'colsample_bytree': 0.9899308509013997, 'gamma': 0.7054300912346968}. Best is trial 11 with value: 3.1198696954847605.\u001b[0m\n",
      "\u001b[32m[I 2023-01-19 14:13:48,943]\u001b[0m Trial 38 finished with value: 4.854302518778898 and parameters: {'max_depth': 2, 'eta': 0.07498925821329422, 'colsample_bytree': 0.9090180581942118, 'gamma': 1.1404136890023882}. Best is trial 11 with value: 3.1198696954847605.\u001b[0m\n",
      "\u001b[32m[I 2023-01-19 14:15:17,950]\u001b[0m Trial 39 finished with value: 5.070789241443429 and parameters: {'max_depth': 5, 'eta': 0.1629885072447264, 'colsample_bytree': 0.8286448826926397, 'gamma': 0.11453053495191157}. Best is trial 11 with value: 3.1198696954847605.\u001b[0m\n",
      "\u001b[32m[I 2023-01-19 14:16:24,204]\u001b[0m Trial 40 finished with value: 3.2001440556610814 and parameters: {'max_depth': 3, 'eta': 0.12811547349660385, 'colsample_bytree': 0.9674092313204707, 'gamma': 4.737183168024252}. Best is trial 11 with value: 3.1198696954847605.\u001b[0m\n",
      "\u001b[32m[I 2023-01-19 14:17:30,417]\u001b[0m Trial 41 finished with value: 3.0676557003273612 and parameters: {'max_depth': 3, 'eta': 0.1390088634571252, 'colsample_bytree': 0.9500837705904258, 'gamma': 7.079548559337446}. Best is trial 41 with value: 3.0676557003273612.\u001b[0m\n",
      "\u001b[32m[I 2023-01-19 14:18:35,176]\u001b[0m Trial 42 finished with value: 3.321088634963369 and parameters: {'max_depth': 3, 'eta': 0.14320249555162506, 'colsample_bytree': 0.9503666803431919, 'gamma': 7.3885760805290195}. Best is trial 41 with value: 3.0676557003273612.\u001b[0m\n",
      "\u001b[32m[I 2023-01-19 14:19:35,361]\u001b[0m Trial 43 finished with value: 3.6518056012659965 and parameters: {'max_depth': 3, 'eta': 0.12709372608457833, 'colsample_bytree': 0.8686295382045727, 'gamma': 7.447510896912622}. Best is trial 41 with value: 3.0676557003273612.\u001b[0m\n",
      "\u001b[32m[I 2023-01-19 14:20:38,612]\u001b[0m Trial 44 finished with value: 3.7499884850920173 and parameters: {'max_depth': 3, 'eta': 0.11360298449084232, 'colsample_bytree': 0.9179022958672604, 'gamma': 6.818992277301074}. Best is trial 41 with value: 3.0676557003273612.\u001b[0m\n",
      "\u001b[32m[I 2023-01-19 14:21:32,751]\u001b[0m Trial 45 finished with value: 3.330292861873533 and parameters: {'max_depth': 3, 'eta': 0.14246808477377212, 'colsample_bytree': 0.7871520873242206, 'gamma': 8.479268212377766}. Best is trial 41 with value: 3.0676557003273612.\u001b[0m\n",
      "\u001b[32m[I 2023-01-19 14:22:39,009]\u001b[0m Trial 46 finished with value: 3.474434485115102 and parameters: {'max_depth': 3, 'eta': 0.10607001332360431, 'colsample_bytree': 0.9685456336576118, 'gamma': 5.284688030770582}. Best is trial 41 with value: 3.0676557003273612.\u001b[0m\n",
      "\u001b[32m[I 2023-01-19 14:23:37,604]\u001b[0m Trial 47 finished with value: 3.6397681721927295 and parameters: {'max_depth': 3, 'eta': 0.12957612145506991, 'colsample_bytree': 0.8451953615266983, 'gamma': 4.884300515575907}. Best is trial 41 with value: 3.0676557003273612.\u001b[0m\n",
      "\u001b[32m[I 2023-01-19 14:24:24,057]\u001b[0m Trial 48 finished with value: 4.234238118469721 and parameters: {'max_depth': 2, 'eta': 0.1556984547607522, 'colsample_bytree': 0.9060119093667711, 'gamma': 4.535117987270102}. Best is trial 41 with value: 3.0676557003273612.\u001b[0m\n",
      "\u001b[32m[I 2023-01-19 14:25:14,220]\u001b[0m Trial 49 finished with value: 3.7758135679080183 and parameters: {'max_depth': 3, 'eta': 0.1398207160322758, 'colsample_bytree': 0.7066173175434333, 'gamma': 9.75376808352313}. Best is trial 41 with value: 3.0676557003273612.\u001b[0m\n",
      "\u001b[32m[I 2023-01-19 14:26:38,649]\u001b[0m Trial 50 finished with value: 3.6553445262556963 and parameters: {'max_depth': 4, 'eta': 0.11491847112114728, 'colsample_bytree': 0.985368115299297, 'gamma': 6.07325730562974}. Best is trial 41 with value: 3.0676557003273612.\u001b[0m\n",
      "\u001b[32m[I 2023-01-19 14:27:44,566]\u001b[0m Trial 51 finished with value: 3.2285774744486964 and parameters: {'max_depth': 3, 'eta': 0.13277418054775608, 'colsample_bytree': 0.9981291826890126, 'gamma': 8.197593431509738}. Best is trial 41 with value: 3.0676557003273612.\u001b[0m\n",
      "\u001b[32m[I 2023-01-19 14:28:49,564]\u001b[0m Trial 52 finished with value: 3.520765894513491 and parameters: {'max_depth': 3, 'eta': 0.12929167130497546, 'colsample_bytree': 0.95204023477217, 'gamma': 8.273372065067628}. Best is trial 41 with value: 3.0676557003273612.\u001b[0m\n",
      "\u001b[32m[I 2023-01-19 14:29:49,474]\u001b[0m Trial 53 finished with value: 8.294048195915462 and parameters: {'max_depth': 3, 'eta': 0.010748889684604496, 'colsample_bytree': 0.8970861598758112, 'gamma': 6.679217368098662}. Best is trial 41 with value: 3.0676557003273612.\u001b[0m\n",
      "\u001b[32m[I 2023-01-19 14:30:59,078]\u001b[0m Trial 54 finished with value: 3.606684076618225 and parameters: {'max_depth': 3, 'eta': 0.11783644426696835, 'colsample_bytree': 0.9953865704248264, 'gamma': 9.360923987384218}. Best is trial 41 with value: 3.0676557003273612.\u001b[0m\n",
      "\u001b[32m[I 2023-01-19 14:32:10,109]\u001b[0m Trial 55 finished with value: 3.3094139495259784 and parameters: {'max_depth': 3, 'eta': 0.1359174648169499, 'colsample_bytree': 0.9251429992740339, 'gamma': 8.657131825693074}. Best is trial 41 with value: 3.0676557003273612.\u001b[0m\n",
      "\u001b[32m[I 2023-01-19 14:33:13,163]\u001b[0m Trial 56 finished with value: 3.2773002778588367 and parameters: {'max_depth': 3, 'eta': 0.14524059180730248, 'colsample_bytree': 0.8550258168685692, 'gamma': 7.698735226278734}. Best is trial 41 with value: 3.0676557003273612.\u001b[0m\n",
      "\u001b[32m[I 2023-01-19 14:34:19,660]\u001b[0m Trial 57 finished with value: 3.6479541854620896 and parameters: {'max_depth': 3, 'eta': 0.10078656690587968, 'colsample_bytree': 0.9662158287828092, 'gamma': 7.742471642334117}. Best is trial 41 with value: 3.0676557003273612.\u001b[0m\n",
      "\u001b[32m[I 2023-01-19 14:34:45,033]\u001b[0m Trial 58 finished with value: 21.15331579856908 and parameters: {'max_depth': 2, 'eta': 0.10802661699809313, 'colsample_bytree': 0.18890297454242722, 'gamma': 6.815587469092851}. Best is trial 41 with value: 3.0676557003273612.\u001b[0m\n",
      "\u001b[32m[I 2023-01-19 14:36:07,765]\u001b[0m Trial 59 finished with value: 3.4044498212031424 and parameters: {'max_depth': 4, 'eta': 0.15653450754175557, 'colsample_bytree': 0.928408707270992, 'gamma': 9.425501577175181}. Best is trial 41 with value: 3.0676557003273612.\u001b[0m\n",
      "\u001b[32m[I 2023-01-19 14:37:09,734]\u001b[0m Trial 60 finished with value: 3.623777382567496 and parameters: {'max_depth': 3, 'eta': 0.12355027872922135, 'colsample_bytree': 0.8874646665263682, 'gamma': 5.741724049090895}. Best is trial 41 with value: 3.0676557003273612.\u001b[0m\n",
      "\u001b[32m[I 2023-01-19 14:38:17,474]\u001b[0m Trial 61 finished with value: 3.2742094435580755 and parameters: {'max_depth': 3, 'eta': 0.13501237996944687, 'colsample_bytree': 0.9995053308372703, 'gamma': 0.5603593046650344}. Best is trial 41 with value: 3.0676557003273612.\u001b[0m\n",
      "\u001b[32m[I 2023-01-19 14:39:25,031]\u001b[0m Trial 62 finished with value: 3.1554563890257668 and parameters: {'max_depth': 3, 'eta': 0.12856289662372997, 'colsample_bytree': 0.9791309893092995, 'gamma': 8.867525466637574}. Best is trial 41 with value: 3.0676557003273612.\u001b[0m\n",
      "\u001b[32m[I 2023-01-19 14:40:08,176]\u001b[0m Trial 63 finished with value: 11.252953721388806 and parameters: {'max_depth': 3, 'eta': 0.1295267972749466, 'colsample_bytree': 0.4990136057810592, 'gamma': 9.13186030411605}. Best is trial 41 with value: 3.0676557003273612.\u001b[0m\n",
      "\u001b[32m[I 2023-01-19 14:41:16,484]\u001b[0m Trial 64 finished with value: 3.294766391943836 and parameters: {'max_depth': 3, 'eta': 0.11843477285235192, 'colsample_bytree': 0.97535264349654, 'gamma': 8.579609507753574}. Best is trial 41 with value: 3.0676557003273612.\u001b[0m\n",
      "\u001b[32m[I 2023-01-19 14:42:22,719]\u001b[0m Trial 65 finished with value: 3.151496810392064 and parameters: {'max_depth': 3, 'eta': 0.13860408311337027, 'colsample_bytree': 0.9388423344769216, 'gamma': 8.890392383384796}. Best is trial 41 with value: 3.0676557003273612.\u001b[0m\n",
      "\u001b[32m[I 2023-01-19 14:43:22,658]\u001b[0m Trial 66 finished with value: 3.393805113682671 and parameters: {'max_depth': 3, 'eta': 0.13922434944509168, 'colsample_bytree': 0.8414967875515563, 'gamma': 9.05719750731661}. Best is trial 41 with value: 3.0676557003273612.\u001b[0m\n",
      "\u001b[32m[I 2023-01-19 14:44:16,750]\u001b[0m Trial 67 finished with value: 3.9651302187189774 and parameters: {'max_depth': 3, 'eta': 0.1715828443130004, 'colsample_bytree': 0.7967104868760939, 'gamma': 9.557857533795039}. Best is trial 41 with value: 3.0676557003273612.\u001b[0m\n",
      "\u001b[32m[I 2023-01-19 14:45:24,489]\u001b[0m Trial 68 finished with value: 3.1832866328967926 and parameters: {'max_depth': 3, 'eta': 0.14840127209012494, 'colsample_bytree': 0.935007785397903, 'gamma': 3.492550455006733}. Best is trial 41 with value: 3.0676557003273612.\u001b[0m\n",
      "\u001b[32m[I 2023-01-19 14:46:33,778]\u001b[0m Trial 69 finished with value: 3.0877766281188705 and parameters: {'max_depth': 3, 'eta': 0.14847892826096837, 'colsample_bytree': 0.9361044276519771, 'gamma': 8.892184178642308}. Best is trial 41 with value: 3.0676557003273612.\u001b[0m\n",
      "\u001b[32m[I 2023-01-19 14:47:40,304]\u001b[0m Trial 70 finished with value: 3.357817652920752 and parameters: {'max_depth': 3, 'eta': 0.1906616502467113, 'colsample_bytree': 0.8818168376981337, 'gamma': 9.901453941109434}. Best is trial 41 with value: 3.0676557003273612.\u001b[0m\n",
      "\u001b[32m[I 2023-01-19 14:48:47,257]\u001b[0m Trial 71 finished with value: 3.529182357537429 and parameters: {'max_depth': 3, 'eta': 0.1495983444226932, 'colsample_bytree': 0.9369703482572017, 'gamma': 8.00530477332468}. Best is trial 41 with value: 3.0676557003273612.\u001b[0m\n",
      "\u001b[32m[I 2023-01-19 14:49:51,503]\u001b[0m Trial 72 finished with value: 3.3367298058806165 and parameters: {'max_depth': 3, 'eta': 0.14699703263440378, 'colsample_bytree': 0.9176265573354945, 'gamma': 1.5405720183145735}. Best is trial 41 with value: 3.0676557003273612.\u001b[0m\n",
      "\u001b[32m[I 2023-01-19 14:50:58,133]\u001b[0m Trial 73 finished with value: 3.1220527238155618 and parameters: {'max_depth': 3, 'eta': 0.15701798974943407, 'colsample_bytree': 0.9548648442569139, 'gamma': 7.8057056610315545}. Best is trial 41 with value: 3.0676557003273612.\u001b[0m\n",
      "\u001b[32m[I 2023-01-19 14:52:04,539]\u001b[0m Trial 74 finished with value: 3.3400779375588208 and parameters: {'max_depth': 3, 'eta': 0.15851924342964782, 'colsample_bytree': 0.95513756715805, 'gamma': 8.79639617292101}. Best is trial 41 with value: 3.0676557003273612.\u001b[0m\n",
      "\u001b[32m[I 2023-01-19 14:53:06,225]\u001b[0m Trial 75 finished with value: 3.445305297374177 and parameters: {'max_depth': 3, 'eta': 0.13919190754316155, 'colsample_bytree': 0.8690600257091882, 'gamma': 7.138642631541845}. Best is trial 41 with value: 3.0676557003273612.\u001b[0m\n",
      "\u001b[32m[I 2023-01-19 14:54:12,439]\u001b[0m Trial 76 finished with value: 3.324186997231075 and parameters: {'max_depth': 3, 'eta': 0.16909496476485902, 'colsample_bytree': 0.9022087999899507, 'gamma': 8.874733494026747}. Best is trial 41 with value: 3.0676557003273612.\u001b[0m\n",
      "\u001b[32m[I 2023-01-19 14:55:20,130]\u001b[0m Trial 77 finished with value: 3.1424917931325154 and parameters: {'max_depth': 3, 'eta': 0.18430300045951464, 'colsample_bytree': 0.9736336416632032, 'gamma': 7.8228334254567065}. Best is trial 41 with value: 3.0676557003273612.\u001b[0m\n",
      "\u001b[32m[I 2023-01-19 14:56:26,243]\u001b[0m Trial 78 finished with value: 3.1338605833898456 and parameters: {'max_depth': 3, 'eta': 0.18001388282912636, 'colsample_bytree': 0.947547319235387, 'gamma': 7.82779538811177}. Best is trial 41 with value: 3.0676557003273612.\u001b[0m\n",
      "\u001b[32m[I 2023-01-19 14:57:52,286]\u001b[0m Trial 79 finished with value: 4.596144076345039 and parameters: {'max_depth': 4, 'eta': 0.18278972809945063, 'colsample_bytree': 0.999397608469229, 'gamma': 7.949689255287229}. Best is trial 41 with value: 3.0676557003273612.\u001b[0m\n",
      "\u001b[32m[I 2023-01-19 14:58:37,015]\u001b[0m Trial 80 finished with value: 4.661053570720823 and parameters: {'max_depth': 2, 'eta': 0.18736258447401302, 'colsample_bytree': 0.8348355773292245, 'gamma': 7.03224431926251}. Best is trial 41 with value: 3.0676557003273612.\u001b[0m\n",
      "\u001b[32m[I 2023-01-19 14:59:44,065]\u001b[0m Trial 81 finished with value: 3.2047808283759447 and parameters: {'max_depth': 3, 'eta': 0.19561712190032737, 'colsample_bytree': 0.9503819382541226, 'gamma': 7.684304464777071}. Best is trial 41 with value: 3.0676557003273612.\u001b[0m\n",
      "\u001b[32m[I 2023-01-19 15:00:48,983]\u001b[0m Trial 82 finished with value: 3.149420231168321 and parameters: {'max_depth': 3, 'eta': 0.1782315702879479, 'colsample_bytree': 0.9195896072855023, 'gamma': 7.294075432726346}. Best is trial 41 with value: 3.0676557003273612.\u001b[0m\n",
      "\u001b[32m[I 2023-01-19 15:01:53,747]\u001b[0m Trial 83 finished with value: 3.1775540194775553 and parameters: {'max_depth': 3, 'eta': 0.1778295110128209, 'colsample_bytree': 0.9080798222538862, 'gamma': 6.364277609236805}. Best is trial 41 with value: 3.0676557003273612.\u001b[0m\n",
      "\u001b[32m[I 2023-01-19 15:03:01,488]\u001b[0m Trial 84 finished with value: 3.1105722496785324 and parameters: {'max_depth': 3, 'eta': 0.16695885599086552, 'colsample_bytree': 0.9732574744594479, 'gamma': 7.362105254960223}. Best is trial 41 with value: 3.0676557003273612.\u001b[0m\n",
      "\u001b[32m[I 2023-01-19 15:04:03,708]\u001b[0m Trial 85 finished with value: 3.3218190554847125 and parameters: {'max_depth': 3, 'eta': 0.18038916382798206, 'colsample_bytree': 0.8761133822215552, 'gamma': 7.293089856388063}. Best is trial 41 with value: 3.0676557003273612.\u001b[0m\n",
      "\u001b[32m[I 2023-01-19 15:05:09,058]\u001b[0m Trial 86 finished with value: 3.350978371448276 and parameters: {'max_depth': 3, 'eta': 0.16692917713109587, 'colsample_bytree': 0.9281102472148401, 'gamma': 8.428536748172625}. Best is trial 41 with value: 3.0676557003273612.\u001b[0m\n",
      "\u001b[32m[I 2023-01-19 15:06:17,643]\u001b[0m Trial 87 finished with value: 3.2158639996327927 and parameters: {'max_depth': 3, 'eta': 0.16083466995044463, 'colsample_bytree': 0.9699255906582797, 'gamma': 6.50445720008014}. Best is trial 41 with value: 3.0676557003273612.\u001b[0m\n",
      "\u001b[32m[I 2023-01-19 15:07:19,251]\u001b[0m Trial 88 finished with value: 3.770673431846454 and parameters: {'max_depth': 3, 'eta': 0.1725283513518221, 'colsample_bytree': 0.8913746176689191, 'gamma': 7.8927338397540705}. Best is trial 41 with value: 3.0676557003273612.\u001b[0m\n",
      "\u001b[32m[I 2023-01-19 15:08:26,114]\u001b[0m Trial 89 finished with value: 3.582298341345836 and parameters: {'max_depth': 3, 'eta': 0.18681222259536112, 'colsample_bytree': 0.953435425949961, 'gamma': 7.040879821685077}. Best is trial 41 with value: 3.0676557003273612.\u001b[0m\n",
      "\u001b[32m[I 2023-01-19 15:09:26,705]\u001b[0m Trial 90 finished with value: 3.4760209480459663 and parameters: {'max_depth': 3, 'eta': 0.19527985885552882, 'colsample_bytree': 0.8589829415384536, 'gamma': 7.472555079579918}. Best is trial 41 with value: 3.0676557003273612.\u001b[0m\n",
      "\u001b[32m[I 2023-01-19 15:10:34,949]\u001b[0m Trial 91 finished with value: 3.0826743351257884 and parameters: {'max_depth': 3, 'eta': 0.17698086277520925, 'colsample_bytree': 0.9791604618507307, 'gamma': 8.159105963981213}. Best is trial 41 with value: 3.0676557003273612.\u001b[0m\n",
      "\u001b[32m[I 2023-01-19 15:11:42,780]\u001b[0m Trial 92 finished with value: 3.2531144712787037 and parameters: {'max_depth': 3, 'eta': 0.1765170560844517, 'colsample_bytree': 0.975871887177489, 'gamma': 8.18420036014687}. Best is trial 41 with value: 3.0676557003273612.\u001b[0m\n",
      "\u001b[32m[I 2023-01-19 15:12:47,775]\u001b[0m Trial 93 finished with value: 3.394799876479323 and parameters: {'max_depth': 3, 'eta': 0.1535225213878515, 'colsample_bytree': 0.9331605086367168, 'gamma': 7.476320560859522}. Best is trial 41 with value: 3.0676557003273612.\u001b[0m\n",
      "\u001b[32m[I 2023-01-19 15:13:55,555]\u001b[0m Trial 94 finished with value: 3.238496794260946 and parameters: {'max_depth': 3, 'eta': 0.1663717516190842, 'colsample_bytree': 0.9970054529911208, 'gamma': 8.085313443702516}. Best is trial 41 with value: 3.0676557003273612.\u001b[0m\n",
      "\u001b[32m[I 2023-01-19 15:15:00,188]\u001b[0m Trial 95 finished with value: 3.5097725342644206 and parameters: {'max_depth': 3, 'eta': 0.18433902153498527, 'colsample_bytree': 0.9069635203753815, 'gamma': 8.442787137115799}. Best is trial 41 with value: 3.0676557003273612.\u001b[0m\n",
      "\u001b[32m[I 2023-01-19 15:16:07,464]\u001b[0m Trial 96 finished with value: 4.588746492101012 and parameters: {'max_depth': 3, 'eta': 0.022404888668405884, 'colsample_bytree': 0.957342461417481, 'gamma': 7.678002229754764}. Best is trial 41 with value: 3.0676557003273612.\u001b[0m\n",
      "\u001b[32m[I 2023-01-19 15:17:15,413]\u001b[0m Trial 97 finished with value: 3.362573942094756 and parameters: {'max_depth': 3, 'eta': 0.17873281648947786, 'colsample_bytree': 0.9806154339159756, 'gamma': 7.830568377691957}. Best is trial 41 with value: 3.0676557003273612.\u001b[0m\n",
      "\u001b[32m[I 2023-01-19 15:18:20,645]\u001b[0m Trial 98 finished with value: 3.2023853611078232 and parameters: {'max_depth': 3, 'eta': 0.191552753824209, 'colsample_bytree': 0.916843288056368, 'gamma': 8.348136912097308}. Best is trial 41 with value: 3.0676557003273612.\u001b[0m\n",
      "\u001b[32m[I 2023-01-19 15:19:28,524]\u001b[0m Trial 99 finished with value: 3.088953960043032 and parameters: {'max_depth': 3, 'eta': 0.1632439402643642, 'colsample_bytree': 0.9394032953663911, 'gamma': 7.205282166973703}. Best is trial 41 with value: 3.0676557003273612.\u001b[0m\n"
     ]
    }
   ],
   "source": [
    "study = optuna.create_study()\n",
    "study.optimize(objective, n_trials=100)"
   ]
  },
  {
   "cell_type": "code",
   "execution_count": 248,
   "metadata": {
    "collapsed": false,
    "pycharm": {
     "name": "#%%\n"
    }
   },
   "outputs": [
    {
     "data": {
      "text/plain": [
       "{'max_depth': 3,\n",
       " 'eta': 0.1390088634571252,\n",
       " 'colsample_bytree': 0.9500837705904258,\n",
       " 'gamma': 7.079548559337446}"
      ]
     },
     "execution_count": 248,
     "metadata": {},
     "output_type": "execute_result"
    }
   ],
   "source": [
    "study.best_params"
   ]
  },
  {
   "cell_type": "code",
   "execution_count": 257,
   "metadata": {
    "collapsed": false,
    "pycharm": {
     "name": "#%%\n"
    }
   },
   "outputs": [
    {
     "name": "stderr",
     "output_type": "stream",
     "text": [
      "\u001b[32m[I 2023-01-19 16:36:21,221]\u001b[0m A new study created in memory with name: no-name-e0c67948-402e-4140-b468-e9533049278b\u001b[0m\n",
      "\u001b[32m[I 2023-01-19 16:36:25,529]\u001b[0m Trial 0 finished with value: 4.397049947743128 and parameters: {'max_depth': 2, 'lambda_l1': 0.6239397985704198, 'lambda_l2': 0.04485668223194441, 'num_leaves': 8}. Best is trial 0 with value: 4.397049947743128.\u001b[0m\n",
      "\u001b[32m[I 2023-01-19 16:36:30,070]\u001b[0m Trial 1 finished with value: 3.113531140204509 and parameters: {'max_depth': 5, 'lambda_l1': 0.5426954491281121, 'lambda_l2': 0.25450897390767163, 'num_leaves': 9}. Best is trial 1 with value: 3.113531140204509.\u001b[0m\n",
      "\u001b[32m[I 2023-01-19 16:36:35,093]\u001b[0m Trial 2 finished with value: 4.195304138285659 and parameters: {'max_depth': 2, 'lambda_l1': 0.4168568039620813, 'lambda_l2': 0.7946999432837728, 'num_leaves': 8}. Best is trial 1 with value: 3.113531140204509.\u001b[0m\n",
      "\u001b[32m[I 2023-01-19 16:36:39,739]\u001b[0m Trial 3 finished with value: 3.2468048694564895 and parameters: {'max_depth': 3, 'lambda_l1': 0.47249644925229073, 'lambda_l2': 0.08625354208629502, 'num_leaves': 8}. Best is trial 1 with value: 3.113531140204509.\u001b[0m\n",
      "\u001b[32m[I 2023-01-19 16:36:43,767]\u001b[0m Trial 4 finished with value: 5.4888807963096005 and parameters: {'max_depth': 5, 'lambda_l1': 0.9472805692115575, 'lambda_l2': 0.3518507063442458, 'num_leaves': 2}. Best is trial 1 with value: 3.113531140204509.\u001b[0m\n",
      "\u001b[32m[I 2023-01-19 16:36:48,534]\u001b[0m Trial 5 finished with value: 3.3123899652774726 and parameters: {'max_depth': 4, 'lambda_l1': 0.3978305589274656, 'lambda_l2': 0.4907981585263828, 'num_leaves': 6}. Best is trial 1 with value: 3.113531140204509.\u001b[0m\n",
      "\u001b[32m[I 2023-01-19 16:36:52,888]\u001b[0m Trial 6 finished with value: 4.1649070343858705 and parameters: {'max_depth': 5, 'lambda_l1': 0.02704267611656221, 'lambda_l2': 0.7649046541535021, 'num_leaves': 3}. Best is trial 1 with value: 3.113531140204509.\u001b[0m\n",
      "\u001b[32m[I 2023-01-19 16:36:57,171]\u001b[0m Trial 7 finished with value: 5.498866379824491 and parameters: {'max_depth': 3, 'lambda_l1': 0.4450988254451617, 'lambda_l2': 0.05967122276100346, 'num_leaves': 2}. Best is trial 1 with value: 3.113531140204509.\u001b[0m\n",
      "\u001b[32m[I 2023-01-19 16:37:01,295]\u001b[0m Trial 8 finished with value: 4.214919837617031 and parameters: {'max_depth': 2, 'lambda_l1': 0.5580088110347723, 'lambda_l2': 0.49271507254045793, 'num_leaves': 10}. Best is trial 1 with value: 3.113531140204509.\u001b[0m\n",
      "\u001b[32m[I 2023-01-19 16:37:05,697]\u001b[0m Trial 9 finished with value: 4.2446547709524385 and parameters: {'max_depth': 2, 'lambda_l1': 0.9439913028212266, 'lambda_l2': 0.5953652012199496, 'num_leaves': 4}. Best is trial 1 with value: 3.113531140204509.\u001b[0m\n",
      "\u001b[32m[I 2023-01-19 16:37:10,409]\u001b[0m Trial 10 finished with value: 3.4257073796176756 and parameters: {'max_depth': 4, 'lambda_l1': 0.12909843259612946, 'lambda_l2': 0.2799873790936777, 'num_leaves': 10}. Best is trial 1 with value: 3.113531140204509.\u001b[0m\n",
      "\u001b[32m[I 2023-01-19 16:37:14,775]\u001b[0m Trial 11 finished with value: 3.4108491499802156 and parameters: {'max_depth': 3, 'lambda_l1': 0.723270537967003, 'lambda_l2': 0.20618866494127702, 'num_leaves': 8}. Best is trial 1 with value: 3.113531140204509.\u001b[0m\n",
      "\u001b[32m[I 2023-01-19 16:37:19,273]\u001b[0m Trial 12 finished with value: 3.150861484835564 and parameters: {'max_depth': 3, 'lambda_l1': 0.2690229812367024, 'lambda_l2': 0.15243412953656232, 'num_leaves': 6}. Best is trial 1 with value: 3.113531140204509.\u001b[0m\n",
      "\u001b[32m[I 2023-01-19 16:37:23,386]\u001b[0m Trial 13 finished with value: 3.2293238941107365 and parameters: {'max_depth': 4, 'lambda_l1': 0.23141729248343856, 'lambda_l2': 0.20300983006529644, 'num_leaves': 6}. Best is trial 1 with value: 3.113531140204509.\u001b[0m\n",
      "\u001b[32m[I 2023-01-19 16:37:27,799]\u001b[0m Trial 14 finished with value: 3.311661005349954 and parameters: {'max_depth': 5, 'lambda_l1': 0.26620243085924367, 'lambda_l2': 0.3757483171033902, 'num_leaves': 5}. Best is trial 1 with value: 3.113531140204509.\u001b[0m\n",
      "\u001b[32m[I 2023-01-19 16:37:32,133]\u001b[0m Trial 15 finished with value: 3.4278470968766994 and parameters: {'max_depth': 3, 'lambda_l1': 0.7304363913141481, 'lambda_l2': 0.9908948762214544, 'num_leaves': 7}. Best is trial 1 with value: 3.113531140204509.\u001b[0m\n",
      "\u001b[32m[I 2023-01-19 16:37:36,814]\u001b[0m Trial 16 finished with value: 3.134290468980369 and parameters: {'max_depth': 4, 'lambda_l1': 0.27601578784242614, 'lambda_l2': 0.15038016695890055, 'num_leaves': 10}. Best is trial 1 with value: 3.113531140204509.\u001b[0m\n",
      "\u001b[32m[I 2023-01-19 16:37:41,509]\u001b[0m Trial 17 finished with value: 3.37565076054399 and parameters: {'max_depth': 4, 'lambda_l1': 0.040125436799063996, 'lambda_l2': 0.3416033624846615, 'num_leaves': 10}. Best is trial 1 with value: 3.113531140204509.\u001b[0m\n",
      "\u001b[32m[I 2023-01-19 16:37:45,873]\u001b[0m Trial 18 finished with value: 3.1831859530426683 and parameters: {'max_depth': 5, 'lambda_l1': 0.7120217120329821, 'lambda_l2': 0.0034090349601963443, 'num_leaves': 9}. Best is trial 1 with value: 3.113531140204509.\u001b[0m\n",
      "\u001b[32m[I 2023-01-19 16:37:50,759]\u001b[0m Trial 19 finished with value: 3.245260057918018 and parameters: {'max_depth': 4, 'lambda_l1': 0.32136726530888426, 'lambda_l2': 0.2573316931159525, 'num_leaves': 9}. Best is trial 1 with value: 3.113531140204509.\u001b[0m\n",
      "\u001b[32m[I 2023-01-19 16:37:55,281]\u001b[0m Trial 20 finished with value: 3.209790574291975 and parameters: {'max_depth': 5, 'lambda_l1': 0.17446405258050257, 'lambda_l2': 0.1373739577998604, 'num_leaves': 9}. Best is trial 1 with value: 3.113531140204509.\u001b[0m\n",
      "\u001b[32m[I 2023-01-19 16:37:59,684]\u001b[0m Trial 21 finished with value: 3.234077502358105 and parameters: {'max_depth': 3, 'lambda_l1': 0.33488138217886637, 'lambda_l2': 0.15463640518977634, 'num_leaves': 5}. Best is trial 1 with value: 3.113531140204509.\u001b[0m\n",
      "\u001b[32m[I 2023-01-19 16:38:04,073]\u001b[0m Trial 22 finished with value: 3.1881090009343134 and parameters: {'max_depth': 4, 'lambda_l1': 0.5823123289340738, 'lambda_l2': 0.0042869447296581265, 'num_leaves': 7}. Best is trial 1 with value: 3.113531140204509.\u001b[0m\n",
      "\u001b[32m[I 2023-01-19 16:38:08,822]\u001b[0m Trial 23 finished with value: 3.290110029438679 and parameters: {'max_depth': 3, 'lambda_l1': 0.12203034284204844, 'lambda_l2': 0.42467304680891405, 'num_leaves': 10}. Best is trial 1 with value: 3.113531140204509.\u001b[0m\n",
      "\u001b[32m[I 2023-01-19 16:38:13,413]\u001b[0m Trial 24 finished with value: 3.125315966692102 and parameters: {'max_depth': 4, 'lambda_l1': 0.33391861057111677, 'lambda_l2': 0.2596887040524958, 'num_leaves': 7}. Best is trial 1 with value: 3.113531140204509.\u001b[0m\n",
      "\u001b[32m[I 2023-01-19 16:38:17,666]\u001b[0m Trial 25 finished with value: 2.95914929153247 and parameters: {'max_depth': 4, 'lambda_l1': 0.3464668048916061, 'lambda_l2': 0.5819192216306056, 'num_leaves': 7}. Best is trial 25 with value: 2.95914929153247.\u001b[0m\n",
      "\u001b[32m[I 2023-01-19 16:38:22,184]\u001b[0m Trial 26 finished with value: 3.1801938854555063 and parameters: {'max_depth': 5, 'lambda_l1': 0.5006704269267639, 'lambda_l2': 0.5644205011316554, 'num_leaves': 7}. Best is trial 25 with value: 2.95914929153247.\u001b[0m\n",
      "\u001b[32m[I 2023-01-19 16:38:26,248]\u001b[0m Trial 27 finished with value: 3.1575152664519073 and parameters: {'max_depth': 4, 'lambda_l1': 0.3703127973071213, 'lambda_l2': 0.6916791540399392, 'num_leaves': 7}. Best is trial 25 with value: 2.95914929153247.\u001b[0m\n",
      "\u001b[32m[I 2023-01-19 16:38:30,738]\u001b[0m Trial 28 finished with value: 3.4243241739792323 and parameters: {'max_depth': 5, 'lambda_l1': 0.534464473686433, 'lambda_l2': 0.6567336461364126, 'num_leaves': 5}. Best is trial 25 with value: 2.95914929153247.\u001b[0m\n",
      "\u001b[32m[I 2023-01-19 16:38:35,421]\u001b[0m Trial 29 finished with value: 3.198517568330413 and parameters: {'max_depth': 4, 'lambda_l1': 0.6363610189494564, 'lambda_l2': 0.9021361713126383, 'num_leaves': 9}. Best is trial 25 with value: 2.95914929153247.\u001b[0m\n",
      "\u001b[32m[I 2023-01-19 16:38:40,105]\u001b[0m Trial 30 finished with value: 3.22294423886856 and parameters: {'max_depth': 5, 'lambda_l1': 0.6520316492725301, 'lambda_l2': 0.43053007076501304, 'num_leaves': 8}. Best is trial 25 with value: 2.95914929153247.\u001b[0m\n",
      "\u001b[32m[I 2023-01-19 16:38:44,712]\u001b[0m Trial 31 finished with value: 3.2900447708854714 and parameters: {'max_depth': 4, 'lambda_l1': 0.22663526516033122, 'lambda_l2': 0.26403406205417895, 'num_leaves': 9}. Best is trial 25 with value: 2.95914929153247.\u001b[0m\n",
      "\u001b[32m[I 2023-01-19 16:38:49,292]\u001b[0m Trial 32 finished with value: 3.2508542340658266 and parameters: {'max_depth': 4, 'lambda_l1': 0.3296126854046682, 'lambda_l2': 0.5516330096341718, 'num_leaves': 7}. Best is trial 25 with value: 2.95914929153247.\u001b[0m\n",
      "\u001b[32m[I 2023-01-19 16:38:54,071]\u001b[0m Trial 33 finished with value: 3.032715054038256 and parameters: {'max_depth': 4, 'lambda_l1': 0.45349844728386357, 'lambda_l2': 0.30739809053126826, 'num_leaves': 8}. Best is trial 25 with value: 2.95914929153247.\u001b[0m\n",
      "\u001b[32m[I 2023-01-19 16:38:58,523]\u001b[0m Trial 34 finished with value: 3.032719795726528 and parameters: {'max_depth': 4, 'lambda_l1': 0.4499100297989639, 'lambda_l2': 0.30977196922489275, 'num_leaves': 8}. Best is trial 25 with value: 2.95914929153247.\u001b[0m\n",
      "\u001b[32m[I 2023-01-19 16:39:03,361]\u001b[0m Trial 35 finished with value: 3.0327533831120506 and parameters: {'max_depth': 4, 'lambda_l1': 0.44862267998734917, 'lambda_l2': 0.3261122983061707, 'num_leaves': 8}. Best is trial 25 with value: 2.95914929153247.\u001b[0m\n",
      "\u001b[32m[I 2023-01-19 16:39:07,503]\u001b[0m Trial 36 finished with value: 3.107990555874148 and parameters: {'max_depth': 4, 'lambda_l1': 0.43776546623298673, 'lambda_l2': 0.4148752721698861, 'num_leaves': 8}. Best is trial 25 with value: 2.95914929153247.\u001b[0m\n",
      "\u001b[32m[I 2023-01-19 16:39:12,308]\u001b[0m Trial 37 finished with value: 3.0336677553734157 and parameters: {'max_depth': 4, 'lambda_l1': 0.485753302179214, 'lambda_l2': 0.343472712358125, 'num_leaves': 8}. Best is trial 25 with value: 2.95914929153247.\u001b[0m\n",
      "\u001b[32m[I 2023-01-19 16:39:16,807]\u001b[0m Trial 38 finished with value: 3.0697152500828695 and parameters: {'max_depth': 4, 'lambda_l1': 0.4142903230386686, 'lambda_l2': 0.4658824502119014, 'num_leaves': 8}. Best is trial 25 with value: 2.95914929153247.\u001b[0m\n",
      "\u001b[32m[I 2023-01-19 16:39:21,396]\u001b[0m Trial 39 finished with value: 3.03274297977631 and parameters: {'max_depth': 4, 'lambda_l1': 0.38207184256303295, 'lambda_l2': 0.3224854290863562, 'num_leaves': 8}. Best is trial 25 with value: 2.95914929153247.\u001b[0m\n",
      "\u001b[32m[I 2023-01-19 16:39:25,776]\u001b[0m Trial 40 finished with value: 3.516284732417089 and parameters: {'max_depth': 3, 'lambda_l1': 0.3853173020734342, 'lambda_l2': 0.6393502162465291, 'num_leaves': 6}. Best is trial 25 with value: 2.95914929153247.\u001b[0m\n",
      "\u001b[32m[I 2023-01-19 16:39:30,199]\u001b[0m Trial 41 finished with value: 3.0355907519388126 and parameters: {'max_depth': 4, 'lambda_l1': 0.4679006307387098, 'lambda_l2': 0.2926463049966398, 'num_leaves': 8}. Best is trial 25 with value: 2.95914929153247.\u001b[0m\n",
      "\u001b[32m[I 2023-01-19 16:39:35,084]\u001b[0m Trial 42 finished with value: 3.245594174965813 and parameters: {'max_depth': 4, 'lambda_l1': 0.5315736019788923, 'lambda_l2': 0.3196778878698776, 'num_leaves': 9}. Best is trial 25 with value: 2.95914929153247.\u001b[0m\n",
      "\u001b[32m[I 2023-01-19 16:39:39,380]\u001b[0m Trial 43 finished with value: 3.1230137993688576 and parameters: {'max_depth': 4, 'lambda_l1': 0.39015536706873144, 'lambda_l2': 0.38171416158234067, 'num_leaves': 7}. Best is trial 25 with value: 2.95914929153247.\u001b[0m\n",
      "\u001b[32m[I 2023-01-19 16:39:44,180]\u001b[0m Trial 44 finished with value: 3.2508377936936235 and parameters: {'max_depth': 4, 'lambda_l1': 0.5997495414258295, 'lambda_l2': 0.5295405032356536, 'num_leaves': 8}. Best is trial 25 with value: 2.95914929153247.\u001b[0m\n",
      "\u001b[32m[I 2023-01-19 16:39:48,699]\u001b[0m Trial 45 finished with value: 2.9898384650795484 and parameters: {'max_depth': 4, 'lambda_l1': 0.4532520862096987, 'lambda_l2': 0.2015348983170872, 'num_leaves': 8}. Best is trial 25 with value: 2.95914929153247.\u001b[0m\n",
      "\u001b[32m[I 2023-01-19 16:39:53,455]\u001b[0m Trial 46 finished with value: 3.2518275535480754 and parameters: {'max_depth': 3, 'lambda_l1': 0.5165635447037076, 'lambda_l2': 0.7570881186524454, 'num_leaves': 7}. Best is trial 25 with value: 2.95914929153247.\u001b[0m\n",
      "\u001b[32m[I 2023-01-19 16:39:58,107]\u001b[0m Trial 47 finished with value: 3.220118883144593 and parameters: {'max_depth': 4, 'lambda_l1': 0.4268620286269538, 'lambda_l2': 0.19661879739174212, 'num_leaves': 9}. Best is trial 25 with value: 2.95914929153247.\u001b[0m\n",
      "\u001b[32m[I 2023-01-19 16:40:02,877]\u001b[0m Trial 48 finished with value: 3.315758988904863 and parameters: {'max_depth': 4, 'lambda_l1': 0.36937794186663025, 'lambda_l2': 0.10587719579242796, 'num_leaves': 6}. Best is trial 25 with value: 2.95914929153247.\u001b[0m\n",
      "\u001b[32m[I 2023-01-19 16:40:07,680]\u001b[0m Trial 49 finished with value: 3.4945284433572987 and parameters: {'max_depth': 5, 'lambda_l1': 0.30390627073631366, 'lambda_l2': 0.218737789310127, 'num_leaves': 7}. Best is trial 25 with value: 2.95914929153247.\u001b[0m\n",
      "\u001b[32m[I 2023-01-19 16:40:11,825]\u001b[0m Trial 50 finished with value: 3.2659092610567066 and parameters: {'max_depth': 3, 'lambda_l1': 0.22086767485088826, 'lambda_l2': 0.06895669995919998, 'num_leaves': 8}. Best is trial 25 with value: 2.95914929153247.\u001b[0m\n",
      "\u001b[32m[I 2023-01-19 16:40:16,697]\u001b[0m Trial 51 finished with value: 3.035590259328586 and parameters: {'max_depth': 4, 'lambda_l1': 0.4637759160577756, 'lambda_l2': 0.2953263088264808, 'num_leaves': 8}. Best is trial 25 with value: 2.95914929153247.\u001b[0m\n",
      "\u001b[32m[I 2023-01-19 16:40:21,751]\u001b[0m Trial 52 finished with value: 3.1251975247415325 and parameters: {'max_depth': 4, 'lambda_l1': 0.4463005572358602, 'lambda_l2': 0.386919776940474, 'num_leaves': 8}. Best is trial 25 with value: 2.95914929153247.\u001b[0m\n",
      "\u001b[32m[I 2023-01-19 16:40:26,564]\u001b[0m Trial 53 finished with value: 2.9996793680535254 and parameters: {'max_depth': 4, 'lambda_l1': 0.5731950609662384, 'lambda_l2': 0.4599431688348692, 'num_leaves': 7}. Best is trial 25 with value: 2.95914929153247.\u001b[0m\n",
      "\u001b[32m[I 2023-01-19 16:40:30,581]\u001b[0m Trial 54 finished with value: 3.3141989876597573 and parameters: {'max_depth': 4, 'lambda_l1': 0.5719824661908122, 'lambda_l2': 0.47181179078190905, 'num_leaves': 6}. Best is trial 25 with value: 2.95914929153247.\u001b[0m\n",
      "\u001b[32m[I 2023-01-19 16:40:35,426]\u001b[0m Trial 55 finished with value: 3.19464918498282 and parameters: {'max_depth': 4, 'lambda_l1': 0.6777972970590586, 'lambda_l2': 0.5117745829008641, 'num_leaves': 7}. Best is trial 25 with value: 2.95914929153247.\u001b[0m\n",
      "\u001b[32m[I 2023-01-19 16:40:40,016]\u001b[0m Trial 56 finished with value: 3.1974395092385905 and parameters: {'max_depth': 4, 'lambda_l1': 0.5612046657364675, 'lambda_l2': 0.22706509927927856, 'num_leaves': 9}. Best is trial 25 with value: 2.95914929153247.\u001b[0m\n",
      "\u001b[32m[I 2023-01-19 16:40:44,825]\u001b[0m Trial 57 finished with value: 3.20592990182798 and parameters: {'max_depth': 4, 'lambda_l1': 0.8352521464176654, 'lambda_l2': 0.6169643514630196, 'num_leaves': 7}. Best is trial 25 with value: 2.95914929153247.\u001b[0m\n",
      "\u001b[32m[I 2023-01-19 16:40:49,465]\u001b[0m Trial 58 finished with value: 3.069727330375383 and parameters: {'max_depth': 4, 'lambda_l1': 0.6114874075846595, 'lambda_l2': 0.46013787936257644, 'num_leaves': 8}. Best is trial 25 with value: 2.95914929153247.\u001b[0m\n",
      "\u001b[32m[I 2023-01-19 16:40:53,773]\u001b[0m Trial 59 finished with value: 3.3065654555244475 and parameters: {'max_depth': 4, 'lambda_l1': 0.4901257602850215, 'lambda_l2': 0.1778215102191854, 'num_leaves': 6}. Best is trial 25 with value: 2.95914929153247.\u001b[0m\n",
      "\u001b[32m[I 2023-01-19 16:40:58,617]\u001b[0m Trial 60 finished with value: 3.3762518001842725 and parameters: {'max_depth': 3, 'lambda_l1': 0.40871507692912445, 'lambda_l2': 0.37235320518174236, 'num_leaves': 9}. Best is trial 25 with value: 2.95914929153247.\u001b[0m\n",
      "\u001b[32m[I 2023-01-19 16:41:02,964]\u001b[0m Trial 61 finished with value: 3.1282387471812823 and parameters: {'max_depth': 4, 'lambda_l1': 0.35282920506644744, 'lambda_l2': 0.33825329910583407, 'num_leaves': 8}. Best is trial 25 with value: 2.95914929153247.\u001b[0m\n",
      "\u001b[32m[I 2023-01-19 16:41:07,766]\u001b[0m Trial 62 finished with value: 3.0355853287578345 and parameters: {'max_depth': 4, 'lambda_l1': 0.2770357359127593, 'lambda_l2': 0.2948608989366429, 'num_leaves': 8}. Best is trial 25 with value: 2.95914929153247.\u001b[0m\n",
      "\u001b[32m[I 2023-01-19 16:41:11,950]\u001b[0m Trial 63 finished with value: 3.1252419983034936 and parameters: {'max_depth': 4, 'lambda_l1': 0.4567896075743331, 'lambda_l2': 0.23860496574642553, 'num_leaves': 7}. Best is trial 25 with value: 2.95914929153247.\u001b[0m\n",
      "\u001b[32m[I 2023-01-19 16:41:16,785]\u001b[0m Trial 64 finished with value: 3.2750801855818352 and parameters: {'max_depth': 4, 'lambda_l1': 0.5291999580910187, 'lambda_l2': 0.580411719403084, 'num_leaves': 8}. Best is trial 25 with value: 2.95914929153247.\u001b[0m\n",
      "\u001b[32m[I 2023-01-19 16:41:21,201]\u001b[0m Trial 65 finished with value: 3.5325307916951454 and parameters: {'max_depth': 5, 'lambda_l1': 0.40937249231461226, 'lambda_l2': 0.3160652232493891, 'num_leaves': 7}. Best is trial 25 with value: 2.95914929153247.\u001b[0m\n",
      "\u001b[32m[I 2023-01-19 16:41:26,068]\u001b[0m Trial 66 finished with value: 3.183097431243959 and parameters: {'max_depth': 4, 'lambda_l1': 0.4940495282223808, 'lambda_l2': 0.4034835550708294, 'num_leaves': 9}. Best is trial 25 with value: 2.95914929153247.\u001b[0m\n",
      "\u001b[32m[I 2023-01-19 16:41:30,736]\u001b[0m Trial 67 finished with value: 3.069742573505427 and parameters: {'max_depth': 4, 'lambda_l1': 0.35243118874304746, 'lambda_l2': 0.4405925855348037, 'num_leaves': 8}. Best is trial 25 with value: 2.95914929153247.\u001b[0m\n",
      "\u001b[32m[I 2023-01-19 16:41:35,168]\u001b[0m Trial 68 finished with value: 3.221708032551308 and parameters: {'max_depth': 4, 'lambda_l1': 0.43314902600228045, 'lambda_l2': 0.3571603589790103, 'num_leaves': 7}. Best is trial 25 with value: 2.95914929153247.\u001b[0m\n",
      "\u001b[32m[I 2023-01-19 16:41:40,068]\u001b[0m Trial 69 finished with value: 3.1235267431730716 and parameters: {'max_depth': 4, 'lambda_l1': 0.28904119266056527, 'lambda_l2': 0.6985082209502229, 'num_leaves': 8}. Best is trial 25 with value: 2.95914929153247.\u001b[0m\n",
      "\u001b[32m[I 2023-01-19 16:41:44,444]\u001b[0m Trial 70 finished with value: 3.4944793977211885 and parameters: {'max_depth': 5, 'lambda_l1': 0.5478073518466238, 'lambda_l2': 0.2640833180897906, 'num_leaves': 7}. Best is trial 25 with value: 2.95914929153247.\u001b[0m\n",
      "\u001b[32m[I 2023-01-19 16:41:49,346]\u001b[0m Trial 71 finished with value: 3.0327259477560755 and parameters: {'max_depth': 4, 'lambda_l1': 0.481727649994794, 'lambda_l2': 0.31208540280100827, 'num_leaves': 8}. Best is trial 25 with value: 2.95914929153247.\u001b[0m\n",
      "\u001b[32m[I 2023-01-19 16:41:53,688]\u001b[0m Trial 72 finished with value: 3.2676598636587033 and parameters: {'max_depth': 4, 'lambda_l1': 0.5062837087910865, 'lambda_l2': 0.3036449943408853, 'num_leaves': 9}. Best is trial 25 with value: 2.95914929153247.\u001b[0m\n",
      "\u001b[32m[I 2023-01-19 16:41:58,322]\u001b[0m Trial 73 finished with value: 2.9977912909485243 and parameters: {'max_depth': 4, 'lambda_l1': 0.3871279897037453, 'lambda_l2': 0.17615230152339162, 'num_leaves': 8}. Best is trial 25 with value: 2.95914929153247.\u001b[0m\n",
      "\u001b[32m[I 2023-01-19 16:42:02,891]\u001b[0m Trial 74 finished with value: 2.885857661257361 and parameters: {'max_depth': 4, 'lambda_l1': 0.3198829476979034, 'lambda_l2': 0.12355507172220614, 'num_leaves': 8}. Best is trial 74 with value: 2.885857661257361.\u001b[0m\n",
      "\u001b[32m[I 2023-01-19 16:42:07,534]\u001b[0m Trial 75 finished with value: 3.0645974037752177 and parameters: {'max_depth': 4, 'lambda_l1': 0.319006434731653, 'lambda_l2': 0.03098259696670161, 'num_leaves': 8}. Best is trial 74 with value: 2.885857661257361.\u001b[0m\n",
      "\u001b[32m[I 2023-01-19 16:42:12,097]\u001b[0m Trial 76 finished with value: 3.221044662547335 and parameters: {'max_depth': 4, 'lambda_l1': 0.19332582866369064, 'lambda_l2': 0.12073093730514937, 'num_leaves': 9}. Best is trial 74 with value: 2.885857661257361.\u001b[0m\n",
      "\u001b[32m[I 2023-01-19 16:42:16,335]\u001b[0m Trial 77 finished with value: 3.081848604818761 and parameters: {'max_depth': 4, 'lambda_l1': 0.2474805406245636, 'lambda_l2': 0.1714449788947787, 'num_leaves': 7}. Best is trial 74 with value: 2.885857661257361.\u001b[0m\n",
      "\u001b[32m[I 2023-01-19 16:42:21,019]\u001b[0m Trial 78 finished with value: 2.885867794904021 and parameters: {'max_depth': 4, 'lambda_l1': 0.40124405401546703, 'lambda_l2': 0.1305301312245206, 'num_leaves': 8}. Best is trial 74 with value: 2.885857661257361.\u001b[0m\n",
      "\u001b[32m[I 2023-01-19 16:42:25,517]\u001b[0m Trial 79 finished with value: 3.2248153197286755 and parameters: {'max_depth': 4, 'lambda_l1': 0.35441104026218795, 'lambda_l2': 0.09659980186539366, 'num_leaves': 10}. Best is trial 74 with value: 2.885857661257361.\u001b[0m\n",
      "\u001b[32m[I 2023-01-19 16:42:30,065]\u001b[0m Trial 80 finished with value: 3.414259983920922 and parameters: {'max_depth': 3, 'lambda_l1': 0.3043111590288136, 'lambda_l2': 0.031264884930708794, 'num_leaves': 7}. Best is trial 74 with value: 2.885857661257361.\u001b[0m\n",
      "\u001b[32m[I 2023-01-19 16:42:34,829]\u001b[0m Trial 81 finished with value: 2.8858746077648534 and parameters: {'max_depth': 4, 'lambda_l1': 0.4751081512570977, 'lambda_l2': 0.1347083308070099, 'num_leaves': 8}. Best is trial 74 with value: 2.885857661257361.\u001b[0m\n",
      "\u001b[32m[I 2023-01-19 16:42:39,481]\u001b[0m Trial 82 finished with value: 2.885863874846031 and parameters: {'max_depth': 4, 'lambda_l1': 0.3955644877631127, 'lambda_l2': 0.1271190148780276, 'num_leaves': 8}. Best is trial 74 with value: 2.885857661257361.\u001b[0m\n",
      "\u001b[32m[I 2023-01-19 16:42:43,962]\u001b[0m Trial 83 finished with value: 2.885877419569001 and parameters: {'max_depth': 4, 'lambda_l1': 0.39807581188973223, 'lambda_l2': 0.13943580782746923, 'num_leaves': 8}. Best is trial 74 with value: 2.885857661257361.\u001b[0m\n",
      "\u001b[32m[I 2023-01-19 16:42:48,383]\u001b[0m Trial 84 finished with value: 2.885866437490876 and parameters: {'max_depth': 4, 'lambda_l1': 0.3635803509961369, 'lambda_l2': 0.13034748248485384, 'num_leaves': 8}. Best is trial 74 with value: 2.885857661257361.\u001b[0m\n",
      "\u001b[32m[I 2023-01-19 16:42:53,374]\u001b[0m Trial 85 finished with value: 3.2210302404948234 and parameters: {'max_depth': 4, 'lambda_l1': 0.3962925309463883, 'lambda_l2': 0.12764540456136925, 'num_leaves': 9}. Best is trial 74 with value: 2.885857661257361.\u001b[0m\n",
      "\u001b[32m[I 2023-01-19 16:42:57,416]\u001b[0m Trial 86 finished with value: 2.9586101108500804 and parameters: {'max_depth': 4, 'lambda_l1': 0.36440261952895797, 'lambda_l2': 0.05609211076496909, 'num_leaves': 8}. Best is trial 74 with value: 2.885857661257361.\u001b[0m\n",
      "\u001b[32m[I 2023-01-19 16:43:02,185]\u001b[0m Trial 87 finished with value: 3.2263716551039905 and parameters: {'max_depth': 4, 'lambda_l1': 0.3438644114308897, 'lambda_l2': 0.07163292229501034, 'num_leaves': 9}. Best is trial 74 with value: 2.885857661257361.\u001b[0m\n",
      "\u001b[32m[I 2023-01-19 16:43:06,731]\u001b[0m Trial 88 finished with value: 2.958609732022905 and parameters: {'max_depth': 4, 'lambda_l1': 0.31049856878104937, 'lambda_l2': 0.048541323290174146, 'num_leaves': 8}. Best is trial 74 with value: 2.885857661257361.\u001b[0m\n",
      "\u001b[32m[I 2023-01-19 16:43:11,459]\u001b[0m Trial 89 finished with value: 3.0196593884912026 and parameters: {'max_depth': 4, 'lambda_l1': 0.25925196721481075, 'lambda_l2': 0.037078333151684156, 'num_leaves': 8}. Best is trial 74 with value: 2.885857661257361.\u001b[0m\n",
      "\u001b[32m[I 2023-01-19 16:43:15,550]\u001b[0m Trial 90 finished with value: 4.103309313277474 and parameters: {'max_depth': 4, 'lambda_l1': 0.3177788709783268, 'lambda_l2': 0.0038713657681511415, 'num_leaves': 3}. Best is trial 74 with value: 2.885857661257361.\u001b[0m\n",
      "\u001b[32m[I 2023-01-19 16:43:20,069]\u001b[0m Trial 91 finished with value: 2.9977781130291152 and parameters: {'max_depth': 4, 'lambda_l1': 0.3752860161973479, 'lambda_l2': 0.15069355482833338, 'num_leaves': 8}. Best is trial 74 with value: 2.885857661257361.\u001b[0m\n",
      "\u001b[32m[I 2023-01-19 16:43:24,904]\u001b[0m Trial 92 finished with value: 2.9586084459724185 and parameters: {'max_depth': 4, 'lambda_l1': 0.4206853827018971, 'lambda_l2': 0.0782417248350722, 'num_leaves': 8}. Best is trial 74 with value: 2.885857661257361.\u001b[0m\n",
      "\u001b[32m[I 2023-01-19 16:43:29,242]\u001b[0m Trial 93 finished with value: 2.958612130394109 and parameters: {'max_depth': 4, 'lambda_l1': 0.42072177262578064, 'lambda_l2': 0.05292449207859798, 'num_leaves': 8}. Best is trial 74 with value: 2.885857661257361.\u001b[0m\n",
      "\u001b[32m[I 2023-01-19 16:43:34,004]\u001b[0m Trial 94 finished with value: 2.9586121085199655 and parameters: {'max_depth': 4, 'lambda_l1': 0.42024239053374984, 'lambda_l2': 0.05304632379837246, 'num_leaves': 8}. Best is trial 74 with value: 2.885857661257361.\u001b[0m\n",
      "\u001b[32m[I 2023-01-19 16:43:38,352]\u001b[0m Trial 95 finished with value: 3.2680441702550014 and parameters: {'max_depth': 4, 'lambda_l1': 0.4040376469599729, 'lambda_l2': 0.08346647957905955, 'num_leaves': 9}. Best is trial 74 with value: 2.885857661257361.\u001b[0m\n",
      "\u001b[32m[I 2023-01-19 16:43:43,341]\u001b[0m Trial 96 finished with value: 2.88584625064231 and parameters: {'max_depth': 4, 'lambda_l1': 0.36695472847799204, 'lambda_l2': 0.11180107374837445, 'num_leaves': 8}. Best is trial 96 with value: 2.88584625064231.\u001b[0m\n",
      "\u001b[32m[I 2023-01-19 16:43:47,775]\u001b[0m Trial 97 finished with value: 2.9586023699529655 and parameters: {'max_depth': 4, 'lambda_l1': 0.29478064162333906, 'lambda_l2': 0.09617134215984847, 'num_leaves': 8}. Best is trial 96 with value: 2.88584625064231.\u001b[0m\n",
      "\u001b[32m[I 2023-01-19 16:43:52,242]\u001b[0m Trial 98 finished with value: 2.88584408572453 and parameters: {'max_depth': 4, 'lambda_l1': 0.29719719373159487, 'lambda_l2': 0.11176965177998135, 'num_leaves': 8}. Best is trial 98 with value: 2.88584408572453.\u001b[0m\n",
      "\u001b[32m[I 2023-01-19 16:43:56,981]\u001b[0m Trial 99 finished with value: 3.2210574185284386 and parameters: {'max_depth': 4, 'lambda_l1': 0.2915139203847444, 'lambda_l2': 0.11589065534434384, 'num_leaves': 9}. Best is trial 98 with value: 2.88584408572453.\u001b[0m\n"
     ]
    },
    {
     "data": {
      "text/plain": [
       "{'max_depth': 4,\n",
       " 'lambda_l1': 0.29719719373159487,\n",
       " 'lambda_l2': 0.11176965177998135,\n",
       " 'num_leaves': 8}"
      ]
     },
     "execution_count": 257,
     "metadata": {},
     "output_type": "execute_result"
    }
   ],
   "source": [
    "tr = np.concatenate(trains)\n",
    "tr,ts = df[df.sales_date.isin(tr)].copy(), df[df.sales_date.isin(tests[-1])].copy()\n",
    "tr,ts = tr.sort_values([\"encoded_sku_id\",\"sales_date\"]).reset_index(drop=True),ts.sort_values([\"encoded_sku_id\",\"sales_date\"]).reset_index(drop=True)\n",
    "\n",
    "def objective(trial):\n",
    "    \"\"\"\n",
    "    This function is an objective function for an optimization algorithm. It is used to optimize the parameters of a lightgbm regressor (lbr) to minimize the mean squared error between the predicted values and actual values.\n",
    "\n",
    "    The function takes a trial object as input, which is used to suggest the parameter values for the optimization. The parameters being optimized are:\n",
    "\n",
    "    max_depth: the maximum depth of the decision tree\n",
    "    reg_alpha: L1 regularization term on weights\n",
    "    reg_lambda: L2 regularization term on weights\n",
    "    num_leaves: the number of leaves in the tree\n",
    "    \n",
    "    The function then creates an instance of the lightgbm regressor with the suggested parameter values, and trains the model on the input data (tr) and \n",
    "    corresponding target values (daily_units). Then it makes prediction on the test data (ts) and calculates the mean squared error between the predicted values and actual values. \n",
    "    The function returns the square root of the mean squared error as the final output.\n",
    "    \"\"\"\n",
    "    params = {\n",
    "        'max_depth': trial.suggest_int('max_depth', 2, 5),\n",
    "        'reg_alpha': trial.suggest_uniform('lambda_l1', 0.001, 1),\n",
    "        'reg_lambda': trial.suggest_uniform('lambda_l2', 0.001, 1),\n",
    "        'num_leaves': trial.suggest_int('num_leaves', 2, 10),\n",
    "    }\n",
    "\n",
    "    reg = lbr(**params)\n",
    "    xtr,ytr = tr.drop(\"daily_units\", axis=1), tr[\"daily_units\"]\n",
    "    ts_save =  ts.copy()\n",
    "    reg.fit(xtr,ytr)\n",
    "    yts = reg.predict(ts.drop(\"daily_units\",axis=1))\n",
    "    return mean_squared_error(ts_save[\"daily_units\"], yts, squared=False)\n",
    "\n",
    "study2 = optuna.create_study()\n",
    "study2.optimize(objective, n_trials=100)\n",
    "study2.best_params"
   ]
  },
  {
   "cell_type": "code",
   "execution_count": 259,
   "metadata": {
    "collapsed": false,
    "pycharm": {
     "name": "#%%\n"
    }
   },
   "outputs": [
    {
     "name": "stderr",
     "output_type": "stream",
     "text": [
      "\u001b[32m[I 2023-01-19 16:52:44,455]\u001b[0m A new study created in memory with name: no-name-fb2b2ea8-1836-4468-8688-5b0447523271\u001b[0m\n",
      "\u001b[32m[I 2023-01-19 16:53:20,273]\u001b[0m Trial 0 finished with value: 5.03571335557365 and parameters: {'max_depth': 2, 'lambda_l1': 0.5918479752722454, 'lambda_l2': 0.9452545106650195, 'num_leaves': 8}. Best is trial 0 with value: 5.03571335557365.\u001b[0m\n",
      "\u001b[32m[I 2023-01-19 16:53:54,411]\u001b[0m Trial 1 finished with value: 5.027818241686482 and parameters: {'max_depth': 2, 'lambda_l1': 0.4628058740364966, 'lambda_l2': 0.032830116803470026, 'num_leaves': 6}. Best is trial 1 with value: 5.027818241686482.\u001b[0m\n",
      "\u001b[32m[I 2023-01-19 16:54:28,536]\u001b[0m Trial 2 finished with value: 4.092215205751255 and parameters: {'max_depth': 4, 'lambda_l1': 0.676645972159246, 'lambda_l2': 0.7586050883880655, 'num_leaves': 7}. Best is trial 2 with value: 4.092215205751255.\u001b[0m\n",
      "\u001b[32m[I 2023-01-19 16:55:03,169]\u001b[0m Trial 3 finished with value: 3.725308343765572 and parameters: {'max_depth': 4, 'lambda_l1': 0.7430677717502892, 'lambda_l2': 0.22023250979441028, 'num_leaves': 8}. Best is trial 3 with value: 3.725308343765572.\u001b[0m\n",
      "\u001b[32m[I 2023-01-19 16:55:37,400]\u001b[0m Trial 4 finished with value: 4.540215413700549 and parameters: {'max_depth': 4, 'lambda_l1': 0.4989010316065361, 'lambda_l2': 0.8104658186593425, 'num_leaves': 6}. Best is trial 3 with value: 3.725308343765572.\u001b[0m\n",
      "\u001b[32m[I 2023-01-19 16:56:11,945]\u001b[0m Trial 5 finished with value: 4.596108968082045 and parameters: {'max_depth': 5, 'lambda_l1': 0.7609567096179872, 'lambda_l2': 0.38188580223134516, 'num_leaves': 8}. Best is trial 3 with value: 3.725308343765572.\u001b[0m\n",
      "\u001b[32m[I 2023-01-19 16:56:46,246]\u001b[0m Trial 6 finished with value: 4.998323390825383 and parameters: {'max_depth': 2, 'lambda_l1': 0.6914008754906245, 'lambda_l2': 0.8690959201538481, 'num_leaves': 8}. Best is trial 3 with value: 3.725308343765572.\u001b[0m\n",
      "\u001b[32m[I 2023-01-19 16:57:20,427]\u001b[0m Trial 7 finished with value: 5.049159202214608 and parameters: {'max_depth': 2, 'lambda_l1': 0.04632754588069219, 'lambda_l2': 0.442475562650787, 'num_leaves': 4}. Best is trial 3 with value: 3.725308343765572.\u001b[0m\n",
      "\u001b[32m[I 2023-01-19 16:57:54,906]\u001b[0m Trial 8 finished with value: 5.007421204187415 and parameters: {'max_depth': 5, 'lambda_l1': 0.08307982146004275, 'lambda_l2': 0.690317504924434, 'num_leaves': 4}. Best is trial 3 with value: 3.725308343765572.\u001b[0m\n",
      "\u001b[32m[I 2023-01-19 16:58:29,394]\u001b[0m Trial 9 finished with value: 4.882800389473185 and parameters: {'max_depth': 5, 'lambda_l1': 0.32350185081677807, 'lambda_l2': 0.9804819803665903, 'num_leaves': 4}. Best is trial 3 with value: 3.725308343765572.\u001b[0m\n",
      "\u001b[32m[I 2023-01-19 16:59:04,134]\u001b[0m Trial 10 finished with value: 4.196029573246229 and parameters: {'max_depth': 3, 'lambda_l1': 0.8887558474264508, 'lambda_l2': 0.10896037149409193, 'num_leaves': 10}. Best is trial 3 with value: 3.725308343765572.\u001b[0m\n",
      "\u001b[32m[I 2023-01-19 16:59:38,722]\u001b[0m Trial 11 finished with value: 3.7563680409588005 and parameters: {'max_depth': 4, 'lambda_l1': 0.9556424380972167, 'lambda_l2': 0.2411216380535851, 'num_leaves': 10}. Best is trial 3 with value: 3.725308343765572.\u001b[0m\n",
      "\u001b[32m[I 2023-01-19 17:00:13,122]\u001b[0m Trial 12 finished with value: 3.711288123173268 and parameters: {'max_depth': 4, 'lambda_l1': 0.9612067863928982, 'lambda_l2': 0.2625051876946428, 'num_leaves': 10}. Best is trial 12 with value: 3.711288123173268.\u001b[0m\n",
      "\u001b[32m[I 2023-01-19 17:00:47,399]\u001b[0m Trial 13 finished with value: 4.033366906733596 and parameters: {'max_depth': 3, 'lambda_l1': 0.9950157075804558, 'lambda_l2': 0.2503895920054984, 'num_leaves': 10}. Best is trial 12 with value: 3.711288123173268.\u001b[0m\n",
      "\u001b[32m[I 2023-01-19 17:01:22,299]\u001b[0m Trial 14 finished with value: 4.102260733180531 and parameters: {'max_depth': 4, 'lambda_l1': 0.8392643941075701, 'lambda_l2': 0.5924210214587363, 'num_leaves': 9}. Best is trial 12 with value: 3.711288123173268.\u001b[0m\n",
      "\u001b[32m[I 2023-01-19 17:01:56,257]\u001b[0m Trial 15 finished with value: 5.809855892159534 and parameters: {'max_depth': 3, 'lambda_l1': 0.8221507287190561, 'lambda_l2': 0.2553041782382593, 'num_leaves': 2}. Best is trial 12 with value: 3.711288123173268.\u001b[0m\n",
      "\u001b[32m[I 2023-01-19 17:02:31,196]\u001b[0m Trial 16 finished with value: 4.095184367982652 and parameters: {'max_depth': 4, 'lambda_l1': 0.9889752391632376, 'lambda_l2': 0.13505986866638256, 'num_leaves': 9}. Best is trial 12 with value: 3.711288123173268.\u001b[0m\n",
      "\u001b[32m[I 2023-01-19 17:03:06,035]\u001b[0m Trial 17 finished with value: 3.849149942921049 and parameters: {'max_depth': 3, 'lambda_l1': 0.3580238322428233, 'lambda_l2': 0.34166389183088675, 'num_leaves': 7}. Best is trial 12 with value: 3.711288123173268.\u001b[0m\n",
      "\u001b[32m[I 2023-01-19 17:03:40,790]\u001b[0m Trial 18 finished with value: 3.961963939755781 and parameters: {'max_depth': 5, 'lambda_l1': 0.6290653142640673, 'lambda_l2': 0.5094225651491355, 'num_leaves': 9}. Best is trial 12 with value: 3.711288123173268.\u001b[0m\n",
      "\u001b[32m[I 2023-01-19 17:04:14,678]\u001b[0m Trial 19 finished with value: 4.22928408623571 and parameters: {'max_depth': 4, 'lambda_l1': 0.7702255240013609, 'lambda_l2': 0.0052763577140296225, 'num_leaves': 7}. Best is trial 12 with value: 3.711288123173268.\u001b[0m\n",
      "\u001b[32m[I 2023-01-19 17:04:48,989]\u001b[0m Trial 20 finished with value: 4.196055591584236 and parameters: {'max_depth': 3, 'lambda_l1': 0.8985433492785019, 'lambda_l2': 0.1451081267450562, 'num_leaves': 9}. Best is trial 12 with value: 3.711288123173268.\u001b[0m\n",
      "\u001b[32m[I 2023-01-19 17:05:23,953]\u001b[0m Trial 21 finished with value: 4.027146018635918 and parameters: {'max_depth': 4, 'lambda_l1': 0.9605617945994461, 'lambda_l2': 0.3004423988369837, 'num_leaves': 10}. Best is trial 12 with value: 3.711288123173268.\u001b[0m\n",
      "\u001b[32m[I 2023-01-19 17:05:58,951]\u001b[0m Trial 22 finished with value: 4.195606127986854 and parameters: {'max_depth': 4, 'lambda_l1': 0.9947263298745649, 'lambda_l2': 0.1824027810857596, 'num_leaves': 10}. Best is trial 12 with value: 3.711288123173268.\u001b[0m\n",
      "\u001b[32m[I 2023-01-19 17:06:33,983]\u001b[0m Trial 23 finished with value: 3.9255668800775307 and parameters: {'max_depth': 4, 'lambda_l1': 0.904491189831931, 'lambda_l2': 0.22344083045666888, 'num_leaves': 10}. Best is trial 12 with value: 3.711288123173268.\u001b[0m\n",
      "\u001b[32m[I 2023-01-19 17:07:08,894]\u001b[0m Trial 24 finished with value: 4.347344903937417 and parameters: {'max_depth': 5, 'lambda_l1': 0.7454468033576338, 'lambda_l2': 0.07422098020460843, 'num_leaves': 8}. Best is trial 12 with value: 3.711288123173268.\u001b[0m\n",
      "\u001b[32m[I 2023-01-19 17:07:44,013]\u001b[0m Trial 25 finished with value: 3.7369071767481103 and parameters: {'max_depth': 4, 'lambda_l1': 0.8426827173469827, 'lambda_l2': 0.46612784808404517, 'num_leaves': 9}. Best is trial 12 with value: 3.711288123173268.\u001b[0m\n",
      "\u001b[32m[I 2023-01-19 17:08:18,653]\u001b[0m Trial 26 finished with value: 3.866892863868667 and parameters: {'max_depth': 4, 'lambda_l1': 0.5678396583191465, 'lambda_l2': 0.5443756866081186, 'num_leaves': 9}. Best is trial 12 with value: 3.711288123173268.\u001b[0m\n",
      "\u001b[32m[I 2023-01-19 17:08:52,703]\u001b[0m Trial 27 finished with value: 3.8539501070777065 and parameters: {'max_depth': 3, 'lambda_l1': 0.8232221934395336, 'lambda_l2': 0.43922105915569454, 'num_leaves': 8}. Best is trial 12 with value: 3.711288123173268.\u001b[0m\n",
      "\u001b[32m[I 2023-01-19 17:09:27,564]\u001b[0m Trial 28 finished with value: 5.10530536186273 and parameters: {'max_depth': 5, 'lambda_l1': 0.7085968568656064, 'lambda_l2': 0.3988250335332437, 'num_leaves': 5}. Best is trial 12 with value: 3.711288123173268.\u001b[0m\n",
      "\u001b[32m[I 2023-01-19 17:10:01,746]\u001b[0m Trial 29 finished with value: 4.040150077457891 and parameters: {'max_depth': 4, 'lambda_l1': 0.5777645486191672, 'lambda_l2': 0.3061483433527665, 'num_leaves': 8}. Best is trial 12 with value: 3.711288123173268.\u001b[0m\n",
      "\u001b[32m[I 2023-01-19 17:10:35,581]\u001b[0m Trial 30 finished with value: 4.359316474893865 and parameters: {'max_depth': 4, 'lambda_l1': 0.8591760567839057, 'lambda_l2': 0.6559811222366996, 'num_leaves': 7}. Best is trial 12 with value: 3.711288123173268.\u001b[0m\n",
      "\u001b[32m[I 2023-01-19 17:11:10,690]\u001b[0m Trial 31 finished with value: 3.9137314444009523 and parameters: {'max_depth': 4, 'lambda_l1': 0.9252865424871957, 'lambda_l2': 0.2009364406172707, 'num_leaves': 9}. Best is trial 12 with value: 3.711288123173268.\u001b[0m\n",
      "\u001b[32m[I 2023-01-19 17:11:45,188]\u001b[0m Trial 32 finished with value: 4.0271508744136915 and parameters: {'max_depth': 4, 'lambda_l1': 0.9364134376806442, 'lambda_l2': 0.307187143537836, 'num_leaves': 10}. Best is trial 12 with value: 3.711288123173268.\u001b[0m\n",
      "\u001b[32m[I 2023-01-19 17:12:19,926]\u001b[0m Trial 33 finished with value: 3.910682624833388 and parameters: {'max_depth': 4, 'lambda_l1': 0.792418405445125, 'lambda_l2': 0.44315408276887125, 'num_leaves': 9}. Best is trial 12 with value: 3.711288123173268.\u001b[0m\n",
      "\u001b[32m[I 2023-01-19 17:12:54,664]\u001b[0m Trial 34 finished with value: 3.9286634177208626 and parameters: {'max_depth': 4, 'lambda_l1': 0.6316259310411021, 'lambda_l2': 0.07369192755763199, 'num_leaves': 10}. Best is trial 12 with value: 3.711288123173268.\u001b[0m\n",
      "\u001b[32m[I 2023-01-19 17:13:28,783]\u001b[0m Trial 35 finished with value: 4.268305860770807 and parameters: {'max_depth': 5, 'lambda_l1': 0.9905068730973245, 'lambda_l2': 0.3670153284994504, 'num_leaves': 6}. Best is trial 12 with value: 3.711288123173268.\u001b[0m\n",
      "\u001b[32m[I 2023-01-19 17:14:03,405]\u001b[0m Trial 36 finished with value: 3.866261494325013 and parameters: {'max_depth': 4, 'lambda_l1': 0.7288603050749921, 'lambda_l2': 0.2670457691116602, 'num_leaves': 8}. Best is trial 12 with value: 3.711288123173268.\u001b[0m\n",
      "\u001b[32m[I 2023-01-19 17:14:38,202]\u001b[0m Trial 37 finished with value: 3.8495662124434222 and parameters: {'max_depth': 3, 'lambda_l1': 0.8605528284586104, 'lambda_l2': 0.15889099879181484, 'num_leaves': 9}. Best is trial 12 with value: 3.711288123173268.\u001b[0m\n",
      "\u001b[32m[I 2023-01-19 17:15:12,070]\u001b[0m Trial 38 finished with value: 4.2292831938079445 and parameters: {'max_depth': 4, 'lambda_l1': 0.5289661346451507, 'lambda_l2': 0.004154157739826053, 'num_leaves': 7}. Best is trial 12 with value: 3.711288123173268.\u001b[0m\n",
      "\u001b[32m[I 2023-01-19 17:15:47,166]\u001b[0m Trial 39 finished with value: 4.641462797536996 and parameters: {'max_depth': 5, 'lambda_l1': 0.4241282139645561, 'lambda_l2': 0.4088710519002214, 'num_leaves': 10}. Best is trial 12 with value: 3.711288123173268.\u001b[0m\n",
      "\u001b[32m[I 2023-01-19 17:16:22,030]\u001b[0m Trial 40 finished with value: 3.8649872608110214 and parameters: {'max_depth': 4, 'lambda_l1': 0.6565557556339894, 'lambda_l2': 0.4943412727207313, 'num_leaves': 8}. Best is trial 12 with value: 3.711288123173268.\u001b[0m\n",
      "\u001b[32m[I 2023-01-19 17:16:55,919]\u001b[0m Trial 41 finished with value: 4.086308650958473 and parameters: {'max_depth': 3, 'lambda_l1': 0.2880524319523907, 'lambda_l2': 0.3275903493044124, 'num_leaves': 6}. Best is trial 12 with value: 3.711288123173268.\u001b[0m\n",
      "\u001b[32m[I 2023-01-19 17:17:30,943]\u001b[0m Trial 42 finished with value: 3.8491502495478613 and parameters: {'max_depth': 3, 'lambda_l1': 0.25678153928667236, 'lambda_l2': 0.3419585383798991, 'num_leaves': 7}. Best is trial 12 with value: 3.711288123173268.\u001b[0m\n",
      "\u001b[32m[I 2023-01-19 17:18:05,309]\u001b[0m Trial 43 finished with value: 5.036546551907888 and parameters: {'max_depth': 2, 'lambda_l1': 0.4156947160736859, 'lambda_l2': 0.21869033505366148, 'num_leaves': 8}. Best is trial 12 with value: 3.711288123173268.\u001b[0m\n",
      "\u001b[32m[I 2023-01-19 17:18:39,658]\u001b[0m Trial 44 finished with value: 3.849168142594483 and parameters: {'max_depth': 3, 'lambda_l1': 0.2247198130252877, 'lambda_l2': 0.3598545515472601, 'num_leaves': 7}. Best is trial 12 with value: 3.711288123173268.\u001b[0m\n",
      "\u001b[32m[I 2023-01-19 17:19:14,814]\u001b[0m Trial 45 finished with value: 4.0550011572595555 and parameters: {'max_depth': 3, 'lambda_l1': 0.3667478171139632, 'lambda_l2': 0.26651676714143335, 'num_leaves': 9}. Best is trial 12 with value: 3.711288123173268.\u001b[0m\n",
      "\u001b[32m[I 2023-01-19 17:19:49,494]\u001b[0m Trial 46 finished with value: 5.180618788080666 and parameters: {'max_depth': 4, 'lambda_l1': 0.13032334471600354, 'lambda_l2': 0.4875887555014032, 'num_leaves': 5}. Best is trial 12 with value: 3.711288123173268.\u001b[0m\n",
      "\u001b[32m[I 2023-01-19 17:20:23,291]\u001b[0m Trial 47 finished with value: 3.7731902998751607 and parameters: {'max_depth': 3, 'lambda_l1': 0.16707897280850614, 'lambda_l2': 0.5578888551012496, 'num_leaves': 7}. Best is trial 12 with value: 3.711288123173268.\u001b[0m\n",
      "\u001b[32m[I 2023-01-19 17:20:58,079]\u001b[0m Trial 48 finished with value: 3.931724682472383 and parameters: {'max_depth': 4, 'lambda_l1': 0.16272940694505444, 'lambda_l2': 0.6105497652524321, 'num_leaves': 8}. Best is trial 12 with value: 3.711288123173268.\u001b[0m\n",
      "\u001b[32m[I 2023-01-19 17:21:32,048]\u001b[0m Trial 49 finished with value: 5.817659883634223 and parameters: {'max_depth': 4, 'lambda_l1': 0.01193549534036542, 'lambda_l2': 0.721763769011873, 'num_leaves': 2}. Best is trial 12 with value: 3.711288123173268.\u001b[0m\n",
      "\u001b[32m[I 2023-01-19 17:22:05,794]\u001b[0m Trial 50 finished with value: 4.998327769812318 and parameters: {'max_depth': 2, 'lambda_l1': 0.7986560107436278, 'lambda_l2': 0.863572658159122, 'num_leaves': 9}. Best is trial 12 with value: 3.711288123173268.\u001b[0m\n",
      "\u001b[32m[I 2023-01-19 17:22:40,595]\u001b[0m Trial 51 finished with value: 4.097693109088314 and parameters: {'max_depth': 3, 'lambda_l1': 0.48720839319869125, 'lambda_l2': 0.571249342834349, 'num_leaves': 6}. Best is trial 12 with value: 3.711288123173268.\u001b[0m\n",
      "\u001b[32m[I 2023-01-19 17:23:15,201]\u001b[0m Trial 52 finished with value: 3.53411289691875 and parameters: {'max_depth': 3, 'lambda_l1': 0.2045319465453519, 'lambda_l2': 0.4200809674677322, 'num_leaves': 7}. Best is trial 52 with value: 3.53411289691875.\u001b[0m\n",
      "\u001b[32m[I 2023-01-19 17:23:49,806]\u001b[0m Trial 53 finished with value: 3.8157222110542053 and parameters: {'max_depth': 3, 'lambda_l1': 0.19130237182013746, 'lambda_l2': 0.4648151821227959, 'num_leaves': 7}. Best is trial 52 with value: 3.53411289691875.\u001b[0m\n",
      "\u001b[32m[I 2023-01-19 17:24:24,482]\u001b[0m Trial 54 finished with value: 3.6759265092217763 and parameters: {'max_depth': 3, 'lambda_l1': 0.09110921236277676, 'lambda_l2': 0.622862125495055, 'num_leaves': 7}. Best is trial 52 with value: 3.53411289691875.\u001b[0m\n",
      "\u001b[32m[I 2023-01-19 17:24:59,107]\u001b[0m Trial 55 finished with value: 3.9011289937114872 and parameters: {'max_depth': 4, 'lambda_l1': 0.03386562022346176, 'lambda_l2': 0.6531263345444366, 'num_leaves': 10}. Best is trial 52 with value: 3.53411289691875.\u001b[0m\n",
      "\u001b[32m[I 2023-01-19 17:25:34,102]\u001b[0m Trial 56 finished with value: 3.7677904083348617 and parameters: {'max_depth': 3, 'lambda_l1': 0.07328039358615807, 'lambda_l2': 0.7637283707225085, 'num_leaves': 8}. Best is trial 52 with value: 3.53411289691875.\u001b[0m\n",
      "\u001b[32m[I 2023-01-19 17:26:09,129]\u001b[0m Trial 57 finished with value: 3.9725805437270463 and parameters: {'max_depth': 4, 'lambda_l1': 0.9508378688182442, 'lambda_l2': 0.5167160577644233, 'num_leaves': 9}. Best is trial 52 with value: 3.53411289691875.\u001b[0m\n",
      "\u001b[32m[I 2023-01-19 17:26:43,306]\u001b[0m Trial 58 finished with value: 4.034679930766187 and parameters: {'max_depth': 3, 'lambda_l1': 0.8650512903974544, 'lambda_l2': 0.0970800490219608, 'num_leaves': 6}. Best is trial 52 with value: 3.53411289691875.\u001b[0m\n",
      "\u001b[32m[I 2023-01-19 17:27:17,910]\u001b[0m Trial 59 finished with value: 5.0713518543203175 and parameters: {'max_depth': 2, 'lambda_l1': 0.11936789400827207, 'lambda_l2': 0.62278226363148, 'num_leaves': 8}. Best is trial 52 with value: 3.53411289691875.\u001b[0m\n",
      "\u001b[32m[I 2023-01-19 17:27:52,884]\u001b[0m Trial 60 finished with value: 3.9978312273980987 and parameters: {'max_depth': 4, 'lambda_l1': 0.90532994481373, 'lambda_l2': 0.1778416066655009, 'num_leaves': 7}. Best is trial 52 with value: 3.53411289691875.\u001b[0m\n",
      "\u001b[32m[I 2023-01-19 17:28:27,199]\u001b[0m Trial 61 finished with value: 3.859695842665691 and parameters: {'max_depth': 3, 'lambda_l1': 0.07492652966878689, 'lambda_l2': 0.8093595538181321, 'num_leaves': 8}. Best is trial 52 with value: 3.53411289691875.\u001b[0m\n",
      "\u001b[32m[I 2023-01-19 17:29:01,852]\u001b[0m Trial 62 finished with value: 3.859697766866164 and parameters: {'max_depth': 3, 'lambda_l1': 0.08189415694006202, 'lambda_l2': 0.7797370048331951, 'num_leaves': 8}. Best is trial 52 with value: 3.53411289691875.\u001b[0m\n",
      "\u001b[32m[I 2023-01-19 17:29:36,657]\u001b[0m Trial 63 finished with value: 3.7856919397855977 and parameters: {'max_depth': 3, 'lambda_l1': 0.01003179739790619, 'lambda_l2': 0.7151947790416878, 'num_leaves': 9}. Best is trial 52 with value: 3.53411289691875.\u001b[0m\n",
      "\u001b[32m[I 2023-01-19 17:30:10,626]\u001b[0m Trial 64 finished with value: 3.86571433285862 and parameters: {'max_depth': 3, 'lambda_l1': 0.12927763219149085, 'lambda_l2': 0.9443467187589853, 'num_leaves': 10}. Best is trial 52 with value: 3.53411289691875.\u001b[0m\n",
      "\u001b[32m[I 2023-01-19 17:30:45,732]\u001b[0m Trial 65 finished with value: 4.119462482826654 and parameters: {'max_depth': 4, 'lambda_l1': 0.07048043311374955, 'lambda_l2': 0.40694616571951864, 'num_leaves': 8}. Best is trial 52 with value: 3.53411289691875.\u001b[0m\n",
      "\u001b[32m[I 2023-01-19 17:31:20,575]\u001b[0m Trial 66 finished with value: 4.067189224666108 and parameters: {'max_depth': 4, 'lambda_l1': 0.9745820469184925, 'lambda_l2': 0.24371988572267986, 'num_leaves': 7}. Best is trial 52 with value: 3.53411289691875.\u001b[0m\n",
      "\u001b[32m[I 2023-01-19 17:31:54,905]\u001b[0m Trial 67 finished with value: 3.875737235281984 and parameters: {'max_depth': 3, 'lambda_l1': 0.7684050048002276, 'lambda_l2': 0.29127840239039027, 'num_leaves': 9}. Best is trial 52 with value: 3.53411289691875.\u001b[0m\n",
      "\u001b[32m[I 2023-01-19 17:32:29,891]\u001b[0m Trial 68 finished with value: 3.9597550630401765 and parameters: {'max_depth': 4, 'lambda_l1': 0.8834854556474165, 'lambda_l2': 0.8824198116394749, 'num_leaves': 10}. Best is trial 52 with value: 3.53411289691875.\u001b[0m\n",
      "\u001b[32m[I 2023-01-19 17:33:04,818]\u001b[0m Trial 69 finished with value: 4.003216284872489 and parameters: {'max_depth': 4, 'lambda_l1': 0.8314242344601267, 'lambda_l2': 0.5257746051568791, 'num_leaves': 8}. Best is trial 52 with value: 3.53411289691875.\u001b[0m\n",
      "\u001b[32m[I 2023-01-19 17:33:39,205]\u001b[0m Trial 70 finished with value: 3.854313052083845 and parameters: {'max_depth': 3, 'lambda_l1': 0.9173099089045065, 'lambda_l2': 0.6718647583981237, 'num_leaves': 9}. Best is trial 52 with value: 3.53411289691875.\u001b[0m\n",
      "\u001b[32m[I 2023-01-19 17:34:13,387]\u001b[0m Trial 71 finished with value: 4.089028583744972 and parameters: {'max_depth': 3, 'lambda_l1': 0.18661538127289906, 'lambda_l2': 0.5558336925701103, 'num_leaves': 5}. Best is trial 52 with value: 3.53411289691875.\u001b[0m\n",
      "\u001b[32m[I 2023-01-19 17:34:48,012]\u001b[0m Trial 72 finished with value: 3.8157210114636047 and parameters: {'max_depth': 3, 'lambda_l1': 0.10981204690810004, 'lambda_l2': 0.4630650246493772, 'num_leaves': 7}. Best is trial 52 with value: 3.53411289691875.\u001b[0m\n",
      "\u001b[32m[I 2023-01-19 17:35:21,992]\u001b[0m Trial 73 finished with value: 4.099722517500985 and parameters: {'max_depth': 3, 'lambda_l1': 0.1690834262294712, 'lambda_l2': 0.5811684143435394, 'num_leaves': 6}. Best is trial 52 with value: 3.53411289691875.\u001b[0m\n",
      "\u001b[32m[I 2023-01-19 17:35:56,704]\u001b[0m Trial 74 finished with value: 3.675926863936793 and parameters: {'max_depth': 3, 'lambda_l1': 0.23369114202570107, 'lambda_l2': 0.6327861134966639, 'num_leaves': 7}. Best is trial 52 with value: 3.53411289691875.\u001b[0m\n",
      "\u001b[32m[I 2023-01-19 17:36:31,895]\u001b[0m Trial 75 finished with value: 3.756755120756253 and parameters: {'max_depth': 3, 'lambda_l1': 0.24749830151141738, 'lambda_l2': 0.7480753658703652, 'num_leaves': 7}. Best is trial 52 with value: 3.53411289691875.\u001b[0m\n",
      "\u001b[32m[I 2023-01-19 17:37:06,054]\u001b[0m Trial 76 finished with value: 4.0294260606985 and parameters: {'max_depth': 4, 'lambda_l1': 0.3023290086461045, 'lambda_l2': 0.12489201397606525, 'num_leaves': 7}. Best is trial 52 with value: 3.53411289691875.\u001b[0m\n",
      "\u001b[32m[I 2023-01-19 17:37:40,042]\u001b[0m Trial 77 finished with value: 5.104518928541108 and parameters: {'max_depth': 2, 'lambda_l1': 0.22991789381020683, 'lambda_l2': 0.7207295934742037, 'num_leaves': 6}. Best is trial 52 with value: 3.53411289691875.\u001b[0m\n",
      "\u001b[32m[I 2023-01-19 17:38:14,486]\u001b[0m Trial 78 finished with value: 3.6759260101868194 and parameters: {'max_depth': 3, 'lambda_l1': 0.3321134182344432, 'lambda_l2': 0.6240864331155755, 'num_leaves': 7}. Best is trial 52 with value: 3.53411289691875.\u001b[0m\n",
      "\u001b[32m[I 2023-01-19 17:38:49,162]\u001b[0m Trial 79 finished with value: 4.142144153126259 and parameters: {'max_depth': 4, 'lambda_l1': 0.29662885831310015, 'lambda_l2': 0.6181989591673873, 'num_leaves': 7}. Best is trial 52 with value: 3.53411289691875.\u001b[0m\n",
      "\u001b[32m[I 2023-01-19 17:39:23,942]\u001b[0m Trial 80 finished with value: 4.51447986458227 and parameters: {'max_depth': 4, 'lambda_l1': 0.36318675672403494, 'lambda_l2': 0.38431198296539293, 'num_leaves': 6}. Best is trial 52 with value: 3.53411289691875.\u001b[0m\n",
      "\u001b[32m[I 2023-01-19 17:39:58,775]\u001b[0m Trial 81 finished with value: 3.848795755169897 and parameters: {'max_depth': 3, 'lambda_l1': 0.2576534020996276, 'lambda_l2': 0.679164132919893, 'num_leaves': 7}. Best is trial 52 with value: 3.53411289691875.\u001b[0m\n",
      "\u001b[32m[I 2023-01-19 17:40:33,958]\u001b[0m Trial 82 finished with value: 3.67592747356338 and parameters: {'max_depth': 3, 'lambda_l1': 0.22102343367375, 'lambda_l2': 0.6409299980375245, 'num_leaves': 7}. Best is trial 52 with value: 3.53411289691875.\u001b[0m\n",
      "\u001b[32m[I 2023-01-19 17:41:08,642]\u001b[0m Trial 83 finished with value: 3.675924628142009 and parameters: {'max_depth': 3, 'lambda_l1': 0.2233257636767165, 'lambda_l2': 0.6013074636961356, 'num_leaves': 7}. Best is trial 52 with value: 3.53411289691875.\u001b[0m\n",
      "\u001b[32m[I 2023-01-19 17:41:43,269]\u001b[0m Trial 84 finished with value: 3.6759284512188657 and parameters: {'max_depth': 3, 'lambda_l1': 0.21197481261308077, 'lambda_l2': 0.6543700859863552, 'num_leaves': 7}. Best is trial 52 with value: 3.53411289691875.\u001b[0m\n",
      "\u001b[32m[I 2023-01-19 17:42:17,643]\u001b[0m Trial 85 finished with value: 3.675927567570004 and parameters: {'max_depth': 3, 'lambda_l1': 0.20830963082335624, 'lambda_l2': 0.6418410907055659, 'num_leaves': 7}. Best is trial 52 with value: 3.53411289691875.\u001b[0m\n",
      "\u001b[32m[I 2023-01-19 17:42:52,462]\u001b[0m Trial 86 finished with value: 3.675927098848549 and parameters: {'max_depth': 3, 'lambda_l1': 0.33672449343971295, 'lambda_l2': 0.6397362549021393, 'num_leaves': 7}. Best is trial 52 with value: 3.53411289691875.\u001b[0m\n",
      "\u001b[32m[I 2023-01-19 17:43:26,841]\u001b[0m Trial 87 finished with value: 3.675927763773183 and parameters: {'max_depth': 3, 'lambda_l1': 0.3268773497211311, 'lambda_l2': 0.648774925283244, 'num_leaves': 7}. Best is trial 52 with value: 3.53411289691875.\u001b[0m\n",
      "\u001b[32m[I 2023-01-19 17:44:01,626]\u001b[0m Trial 88 finished with value: 4.292833343980032 and parameters: {'max_depth': 3, 'lambda_l1': 0.3292393973810761, 'lambda_l2': 0.629531638665908, 'num_leaves': 6}. Best is trial 52 with value: 3.53411289691875.\u001b[0m\n",
      "\u001b[32m[I 2023-01-19 17:44:36,136]\u001b[0m Trial 89 finished with value: 3.675923313511893 and parameters: {'max_depth': 3, 'lambda_l1': 0.39000182882059925, 'lambda_l2': 0.5890997206027164, 'num_leaves': 7}. Best is trial 52 with value: 3.53411289691875.\u001b[0m\n",
      "\u001b[32m[I 2023-01-19 17:45:10,286]\u001b[0m Trial 90 finished with value: 3.6759240144119003 and parameters: {'max_depth': 3, 'lambda_l1': 0.4080370635489958, 'lambda_l2': 0.5991021235781472, 'num_leaves': 7}. Best is trial 52 with value: 3.53411289691875.\u001b[0m\n",
      "\u001b[32m[I 2023-01-19 17:45:45,259]\u001b[0m Trial 91 finished with value: 3.6759245969440784 and parameters: {'max_depth': 3, 'lambda_l1': 0.3795145935837842, 'lambda_l2': 0.6063971587985824, 'num_leaves': 7}. Best is trial 52 with value: 3.53411289691875.\u001b[0m\n",
      "\u001b[32m[I 2023-01-19 17:46:19,954]\u001b[0m Trial 92 finished with value: 3.675924112442003 and parameters: {'max_depth': 3, 'lambda_l1': 0.3902878827741192, 'lambda_l2': 0.5999883462462658, 'num_leaves': 7}. Best is trial 52 with value: 3.53411289691875.\u001b[0m\n",
      "\u001b[32m[I 2023-01-19 17:46:54,358]\u001b[0m Trial 93 finished with value: 3.675923851146398 and parameters: {'max_depth': 3, 'lambda_l1': 0.41821579203431325, 'lambda_l2': 0.5973693680710804, 'num_leaves': 7}. Best is trial 52 with value: 3.53411289691875.\u001b[0m\n",
      "\u001b[32m[I 2023-01-19 17:47:29,175]\u001b[0m Trial 94 finished with value: 3.6759241717677686 and parameters: {'max_depth': 3, 'lambda_l1': 0.3901212930190846, 'lambda_l2': 0.600762254783228, 'num_leaves': 7}. Best is trial 52 with value: 3.53411289691875.\u001b[0m\n",
      "\u001b[32m[I 2023-01-19 17:48:03,924]\u001b[0m Trial 95 finished with value: 4.292785452446388 and parameters: {'max_depth': 3, 'lambda_l1': 0.38835669037292386, 'lambda_l2': 0.5970959702945334, 'num_leaves': 6}. Best is trial 52 with value: 3.53411289691875.\u001b[0m\n",
      "\u001b[32m[I 2023-01-19 17:48:37,962]\u001b[0m Trial 96 finished with value: 4.099723127632004 and parameters: {'max_depth': 3, 'lambda_l1': 0.4398334816949452, 'lambda_l2': 0.5815953738303391, 'num_leaves': 6}. Best is trial 52 with value: 3.53411289691875.\u001b[0m\n",
      "\u001b[32m[I 2023-01-19 17:49:12,348]\u001b[0m Trial 97 finished with value: 3.819745167053232 and parameters: {'max_depth': 3, 'lambda_l1': 0.4753858601568577, 'lambda_l2': 0.5442221210624705, 'num_leaves': 7}. Best is trial 52 with value: 3.53411289691875.\u001b[0m\n",
      "\u001b[32m[I 2023-01-19 17:49:47,026]\u001b[0m Trial 98 finished with value: 3.8487922729422497 and parameters: {'max_depth': 3, 'lambda_l1': 0.4003714506165065, 'lambda_l2': 0.6954231754724396, 'num_leaves': 7}. Best is trial 52 with value: 3.53411289691875.\u001b[0m\n",
      "\u001b[32m[I 2023-01-19 17:50:20,751]\u001b[0m Trial 99 finished with value: 4.292787734954252 and parameters: {'max_depth': 3, 'lambda_l1': 0.5174999186347546, 'lambda_l2': 0.6028753984870547, 'num_leaves': 6}. Best is trial 52 with value: 3.53411289691875.\u001b[0m\n"
     ]
    },
    {
     "data": {
      "text/plain": [
       "{'max_depth': 3,\n",
       " 'lambda_l1': 0.2045319465453519,\n",
       " 'lambda_l2': 0.4200809674677322,\n",
       " 'num_leaves': 7}"
      ]
     },
     "execution_count": 259,
     "metadata": {},
     "output_type": "execute_result"
    }
   ],
   "source": [
    "tr = np.concatenate(trains)\n",
    "tr,ts = df[df.sales_date.isin(tr)].copy(), df[df.sales_date.isin(tests[-1])].copy()\n",
    "tr,ts = tr.sort_values([\"encoded_sku_id\",\"sales_date\"]).reset_index(drop=True),ts.sort_values([\"encoded_sku_id\",\"sales_date\"]).reset_index(drop=True)\n",
    "\n",
    "def objective(trial):\n",
    "    \"\"\"\n",
    "    The function objective(trial) is using Optuna library to perform a hyperparameter optimization for the LightGBM model. \n",
    "    The trial object is passed to the function and it uses the suggest methods of this object to sample the hyperparameters.\n",
    "\n",
    "    The function sets the initial values for the parameters like max_depth, reg_alpha, reg_lambda, num_leaves \n",
    "    and then it creates a LightGBM model object with these parameters.\n",
    "\n",
    "    The function then takes the training data and trains the model on it. \n",
    "    After that, it uses the predict method of the model to predict the units for the test data.\n",
    "\n",
    "    The function then defines a nested function moving_fill(x) that takes in a dataframe and for each encoded_sku_id it applies \n",
    "    the predictions of the model on the test data and updates the predicted values for the next day based on the previous days predictions.\n",
    "\n",
    "    Finally, the function returns the mean squared error between the predicted and actual values of the test data.\n",
    "    \"\"\"\n",
    "\n",
    "    params = {\n",
    "        'max_depth': trial.suggest_int('max_depth', 2, 5),\n",
    "        'reg_alpha': trial.suggest_uniform('lambda_l1', 0.001, 1),\n",
    "        'reg_lambda': trial.suggest_uniform('lambda_l2', 0.001, 1),\n",
    "        'num_leaves': trial.suggest_int('num_leaves', 2, 10),\n",
    "    }\n",
    "\n",
    "    reg = lbr(**params)\n",
    "    xtr,ytr = tr.drop(\"daily_units\", axis=1), tr[\"daily_units\"]\n",
    "    ts_save =  ts.copy()\n",
    "\n",
    "    reg.fit(xtr,ytr)\n",
    "\n",
    "    def moving_fill(x):\n",
    "        temp = tr[tr['encoded_sku_id']==x['encoded_sku_id'].iloc[0]].reset_index(drop=True)\n",
    "        x = x.reset_index(drop=True)\n",
    "        for i in range(x.shape[0]):\n",
    "            prev = temp[\"daily_units\"].iloc[-1] if temp.shape[0]>0 else np.nan\n",
    "            x.loc[i,\"units_lag1\"] = x.loc[i-1, \"daily_units\"] if i>0 else prev\n",
    "            x.loc[i,'daily_units'] = reg.predict(x.drop(['daily_units'],axis=1).iloc[i:i+1,:])\n",
    "            # print('S')\n",
    "        return x\n",
    "\n",
    "    ts_pred = ts.groupby('encoded_sku_id', as_index=False).apply(moving_fill)\n",
    "    return mean_squared_error(ts_save[\"daily_units\"], ts_pred[\"daily_units\"], squared=False)\n",
    "\n",
    "study3 = optuna.create_study()\n",
    "study3.optimize(objective, n_trials=100)\n",
    "study3.best_params"
   ]
  },
  {
   "cell_type": "code",
   "execution_count": 241,
   "metadata": {
    "collapsed": false,
    "pycharm": {
     "name": "#%%\n"
    }
   },
   "outputs": [
    {
     "name": "stdout",
     "output_type": "stream",
     "text": [
      "0.9543489072228925 0.8788541333817268\n",
      "6.513416458860128\n",
      "0.957660843145044 0.9126197005858573\n",
      "4.180163148916075\n"
     ]
    }
   ],
   "source": [
    "\n",
    "    reg = xgb(max_depth=, gamma=5, eta=0.2)\n",
    "    #reg = lbr(max_depth=2)\n",
    "    tr,ts = next(generator)\n",
    "    # tr = np.concatenate(trains[:i+1])\n",
    "    # tr,ts = df[df.sales_date.isin(tr)].copy(), df[df.sales_date.isin(ts)].copy()\n",
    "    #tr = tr.groupby(\"encoded_sku_id\", as_index=False)#.apply(func).sort_values([\"encoded_sku_id\",\"sales_date\"]).reset_index(drop=True)\n",
    "\n",
    "    xtr,ytr = tr.drop(\"daily_units\", axis=1), tr[\"daily_units\"]\n",
    "    ts_save =  ts.copy()\n",
    "\n",
    "    reg.fit(xtr,ytr)\n",
    "\n",
    "    # def moving_fill(x):\n",
    "    #     temp = tr[tr['encoded_sku_id']==x['encoded_sku_id'].iloc[0]].reset_index(drop=True)\n",
    "    #     x = x.reset_index(drop=True)\n",
    "    #     for i in range(x.shape[0]):\n",
    "    #         prev = temp[\"daily_units\"].iloc[-1] if temp.shape[0]>0 else np.nan\n",
    "    #         x.loc[i,\"units_lag1\"] = x.loc[i-1, \"daily_units\"] if i>0 else prev\n",
    "    #         x.loc[i,'daily_units'] = reg.predict(x.drop(['daily_units'],axis=1).iloc[i:i+1,:])\n",
    "    #         # print('S')\n",
    "    #     return x\n",
    "\n",
    "    #ts = ts.groupby('encoded_sku_id', as_index=False).apply(moving_fill)\n",
    "    yts = reg.predict(ts.drop(\"daily_units\",axis=1))\n",
    "    print(reg.score(xtr,ytr),r2_score(ts_save[\"daily_units\"], yts))\n",
    "    print(mean_squared_error(ts_save[\"daily_units\"], ts['daily_units'], squared=False))"
   ]
  },
  {
   "cell_type": "code",
   "execution_count": null,
   "metadata": {
    "collapsed": false,
    "pycharm": {
     "name": "#%%\n"
    }
   },
   "outputs": [],
   "source": [
    "\n"
   ]
  },
  {
   "cell_type": "code",
   "execution_count": 199,
   "metadata": {
    "collapsed": false,
    "pycharm": {
     "name": "#%%\n"
    }
   },
   "outputs": [
    {
     "data": {
      "text/plain": [
       "Index(['sales_date', 'encoded_sku_id', 'subclass_name', 'class_name',\n",
       "       'ml_name', 'category_name', 'retail_price', 'promo_price',\n",
       "       'competitor_price', 'inventory', 'daily_units', 'forecasted units',\n",
       "       'market', 'i_return', 'i_return_log', 'total_cases', 'new_cases',\n",
       "       'gscpi', 'norm_trend', 'day', 'month', 'year', 'day_of_week',\n",
       "       'competitor_price_ratio', 'discount', 'black_friday',\n",
       "       'retail_price_position_subclass_name',\n",
       "       'retail_price_position_class_name', 'retail_price_position_ml_name',\n",
       "       'retail_price_position_category_name', 'units_lag1'],\n",
       "      dtype='object')"
      ]
     },
     "execution_count": 199,
     "metadata": {},
     "output_type": "execute_result"
    }
   ],
   "source": [
    "ts.columns"
   ]
  },
  {
   "cell_type": "code",
   "execution_count": 210,
   "metadata": {
    "collapsed": false,
    "pycharm": {
     "name": "#%%\n"
    }
   },
   "outputs": [
    {
     "data": {
      "text/plain": [
       "LGBMRegressor(max_depth=1)"
      ]
     },
     "execution_count": 210,
     "metadata": {},
     "output_type": "execute_result"
    }
   ],
   "source": [
    "reg = lbr(max_depth=1)\n",
    "xtr,ytr = ts.drop(\"daily_units\", axis=1), ts[\"daily_units\"]\n",
    "reg.fit(xtr,ytr)"
   ]
  },
  {
   "cell_type": "code",
   "execution_count": 211,
   "metadata": {
    "collapsed": false,
    "pycharm": {
     "name": "#%%\n"
    }
   },
   "outputs": [],
   "source": [
    "dfn =tr.copy()\n",
    "dfn[\"pred\"] = reg.predict(tr.drop(\"daily_units\", axis=1))\n",
    "\n",
    "def jugaad(x):\n",
    "    return mean_squared_error(x.daily_units, x.pred)\n",
    "pred = dfn.groupby(\"sales_date\").apply(jugaad)"
   ]
  },
  {
   "cell_type": "code",
   "execution_count": 212,
   "metadata": {
    "collapsed": false,
    "pycharm": {
     "name": "#%%\n"
    }
   },
   "outputs": [
    {
     "data": {
      "text/plain": [
       "sales_date\n",
       "1.522541e+09         1.142040\n",
       "1.496102e+09         3.255645\n",
       "1.496189e+09         3.255645\n",
       "1.496275e+09         3.255645\n",
       "1.496016e+09         3.255645\n",
       "                    ...      \n",
       "1.542845e+09    167158.423748\n",
       "1.606435e+09    208411.070719\n",
       "1.576714e+09    229307.554938\n",
       "1.574899e+09    353523.247203\n",
       "1.574986e+09    705404.082808\n",
       "Length: 1891, dtype: float64"
      ]
     },
     "execution_count": 212,
     "metadata": {},
     "output_type": "execute_result"
    }
   ],
   "source": [
    "pred.sort_values()"
   ]
  },
  {
   "cell_type": "code",
   "execution_count": 213,
   "metadata": {
    "collapsed": false,
    "pycharm": {
     "name": "#%%\n"
    }
   },
   "outputs": [
    {
     "data": {
      "text/plain": [
       "0.9397724863257658"
      ]
     },
     "execution_count": 213,
     "metadata": {},
     "output_type": "execute_result"
    }
   ],
   "source": [
    "reg.score(xtr,ytr)"
   ]
  },
  {
   "cell_type": "code",
   "execution_count": null,
   "metadata": {
    "collapsed": false,
    "pycharm": {
     "name": "#%%\n"
    }
   },
   "outputs": [],
   "source": []
  },
  {
   "cell_type": "code",
   "execution_count": null,
   "metadata": {
    "collapsed": false,
    "pycharm": {
     "name": "#%%\n"
    }
   },
   "outputs": [],
   "source": []
  },
  {
   "cell_type": "code",
   "execution_count": null,
   "metadata": {
    "collapsed": false,
    "pycharm": {
     "name": "#%%\n"
    }
   },
   "outputs": [],
   "source": []
  },
  {
   "cell_type": "code",
   "execution_count": null,
   "metadata": {
    "collapsed": false,
    "pycharm": {
     "name": "#%%\n"
    }
   },
   "outputs": [],
   "source": []
  },
  {
   "cell_type": "code",
   "execution_count": 180,
   "metadata": {
    "collapsed": false,
    "pycharm": {
     "name": "#%%\n"
    }
   },
   "outputs": [],
   "source": [
    "from lightgbm import LGBMClassifier as lbc"
   ]
  },
  {
   "cell_type": "code",
   "execution_count": 189,
   "metadata": {
    "collapsed": false,
    "pycharm": {
     "name": "#%%\n"
    }
   },
   "outputs": [
    {
     "name": "stdout",
     "output_type": "stream",
     "text": [
      "0.9518169336384439 0.9522981366459627\n",
      "0.9417506022714237 0.8966459627329193\n",
      "0.9284353949785671 0.9237267080745342\n",
      "0.9179254494285222 0.9001242236024845\n",
      "0.9046824156632043 0.8054658385093167\n",
      "0.889829534571921 0.8464596273291926\n",
      "0.8829003021148036 0.8191304347826087\n",
      "0.8748400816115406 0.8216149068322981\n",
      "0.8670914014203239 0.7440993788819876\n",
      "0.8560973030142781 0.6891068115557911\n"
     ]
    }
   ],
   "source": [
    "generator = generateTimeSeriesSplits(trains, tests, df)\n",
    "for i,ts in enumerate(tests):\n",
    "    #reg = xgb(max_depth=2, gamma=5, eta=0.2)\n",
    "    reg = lbc(max_depth=2, is_unbalance=True)\n",
    "    tr,ts = next(generator)\n",
    "    # tr = np.concatenate(trains[:i+1])\n",
    "    # tr,ts = df[df.sales_date.isin(tr)].copy(), df[df.sales_date.isin(ts)].copy()\n",
    "    tr = tr.groupby(\"encoded_sku_id\", as_index=False).apply(func).sort_values([\"encoded_sku_id\",\"sales_date\"]).reset_index(drop=True)\n",
    "\n",
    "    xtr,ytr = tr.drop(\"daily_units\", axis=1), tr[\"daily_units\"]\n",
    "    ts_save =  ts.copy()\n",
    "\n",
    "    reg.fit(xtr,(ytr>0).astype(int))\n",
    "\n",
    "    def moving_fill(x):\n",
    "        temp = tr[tr['encoded_sku_id']==x['encoded_sku_id'].iloc[0]].reset_index(drop=True)\n",
    "        x = x.reset_index(drop=True)\n",
    "        for i in range(x.shape[0]):\n",
    "            prev = temp[\"daily_units\"].iloc[-1] if temp.shape[0]>0 else np.nan\n",
    "            x.loc[i,\"units_lag1\"] = x.loc[i-1, \"daily_units\"] if i>0 else prev\n",
    "            x.loc[i,'daily_units'] = reg.predict(x.drop(['daily_units'],axis=1).iloc[i:i+1,:])\n",
    "            # print('S')\n",
    "        return x\n",
    "\n",
    "    ts = ts.groupby('encoded_sku_id', as_index=False).apply(moving_fill)\n",
    "\n",
    "    print(reg.score(xtr,(ytr>0).astype(int)),accuracy_score( (ts_save[\"daily_units\"]>0).astype(int), (ts['daily_units']>0).astype(int)) )\n",
    "    #print(mean_squared_error(ts_save[\"daily_units\"], ts['daily_units'], squared=False))"
   ]
  },
  {
   "cell_type": "code",
   "execution_count": 191,
   "metadata": {
    "collapsed": false,
    "pycharm": {
     "name": "#%%\n"
    }
   },
   "outputs": [
    {
     "data": {
      "text/plain": [
       "array([[ 492,  543],\n",
       "       [ 630, 2108]], dtype=int64)"
      ]
     },
     "execution_count": 191,
     "metadata": {},
     "output_type": "execute_result"
    }
   ],
   "source": [
    "from sklearn.metrics import confusion_matrix\n",
    "confusion_matrix((ts_save[\"daily_units\"]>0).astype(int), (ts['daily_units']>0).astype(int))"
   ]
  },
  {
   "cell_type": "code",
   "execution_count": 178,
   "metadata": {
    "collapsed": false,
    "pycharm": {
     "name": "#%%\n"
    }
   },
   "outputs": [
    {
     "data": {
      "text/plain": [
       "-0.26735888724761453"
      ]
     },
     "execution_count": 178,
     "metadata": {},
     "output_type": "execute_result"
    }
   ],
   "source": [
    "(ts[\"daily_units\"].reset_index(drop=True) - ts_save[\"daily_units\"].reset_index(drop=True)).mean()"
   ]
  },
  {
   "cell_type": "code",
   "execution_count": 173,
   "metadata": {
    "collapsed": false,
    "pycharm": {
     "name": "#%%\n"
    }
   },
   "outputs": [
    {
     "data": {
      "text/html": [
       "<div>\n",
       "<style scoped>\n",
       "    .dataframe tbody tr th:only-of-type {\n",
       "        vertical-align: middle;\n",
       "    }\n",
       "\n",
       "    .dataframe tbody tr th {\n",
       "        vertical-align: top;\n",
       "    }\n",
       "\n",
       "    .dataframe thead th {\n",
       "        text-align: right;\n",
       "    }\n",
       "</style>\n",
       "<table border=\"1\" class=\"dataframe\">\n",
       "  <thead>\n",
       "    <tr style=\"text-align: right;\">\n",
       "      <th></th>\n",
       "      <th>daily_units</th>\n",
       "      <th>daily_units</th>\n",
       "    </tr>\n",
       "  </thead>\n",
       "  <tbody>\n",
       "    <tr>\n",
       "      <th>0</th>\n",
       "      <td>1.221341</td>\n",
       "      <td>0.0</td>\n",
       "    </tr>\n",
       "    <tr>\n",
       "      <th>1</th>\n",
       "      <td>1.221341</td>\n",
       "      <td>1.0</td>\n",
       "    </tr>\n",
       "    <tr>\n",
       "      <th>2</th>\n",
       "      <td>1.410993</td>\n",
       "      <td>0.0</td>\n",
       "    </tr>\n",
       "    <tr>\n",
       "      <th>3</th>\n",
       "      <td>1.410993</td>\n",
       "      <td>0.0</td>\n",
       "    </tr>\n",
       "    <tr>\n",
       "      <th>4</th>\n",
       "      <td>1.410993</td>\n",
       "      <td>1.0</td>\n",
       "    </tr>\n",
       "    <tr>\n",
       "      <th>...</th>\n",
       "      <td>...</td>\n",
       "      <td>...</td>\n",
       "    </tr>\n",
       "    <tr>\n",
       "      <th>3768</th>\n",
       "      <td>1.410993</td>\n",
       "      <td>1.0</td>\n",
       "    </tr>\n",
       "    <tr>\n",
       "      <th>3769</th>\n",
       "      <td>1.410993</td>\n",
       "      <td>0.0</td>\n",
       "    </tr>\n",
       "    <tr>\n",
       "      <th>3770</th>\n",
       "      <td>1.410993</td>\n",
       "      <td>0.0</td>\n",
       "    </tr>\n",
       "    <tr>\n",
       "      <th>3771</th>\n",
       "      <td>1.410993</td>\n",
       "      <td>0.0</td>\n",
       "    </tr>\n",
       "    <tr>\n",
       "      <th>3772</th>\n",
       "      <td>0.384971</td>\n",
       "      <td>0.0</td>\n",
       "    </tr>\n",
       "  </tbody>\n",
       "</table>\n",
       "<p>3773 rows × 2 columns</p>\n",
       "</div>"
      ],
      "text/plain": [
       "      daily_units  daily_units\n",
       "0        1.221341          0.0\n",
       "1        1.221341          1.0\n",
       "2        1.410993          0.0\n",
       "3        1.410993          0.0\n",
       "4        1.410993          1.0\n",
       "...           ...          ...\n",
       "3768     1.410993          1.0\n",
       "3769     1.410993          0.0\n",
       "3770     1.410993          0.0\n",
       "3771     1.410993          0.0\n",
       "3772     0.384971          0.0\n",
       "\n",
       "[3773 rows x 2 columns]"
      ]
     },
     "execution_count": 173,
     "metadata": {},
     "output_type": "execute_result"
    }
   ],
   "source": [
    "pd.concat([ts[\"daily_units\"].reset_index(drop=True), ts_save[\"daily_units\"].reset_index(drop=True)], axis=1)"
   ]
  },
  {
   "cell_type": "code",
   "execution_count": 172,
   "metadata": {
    "collapsed": false,
    "pycharm": {
     "name": "#%%\n"
    }
   },
   "outputs": [
    {
     "data": {
      "text/html": [
       "<div>\n",
       "<style scoped>\n",
       "    .dataframe tbody tr th:only-of-type {\n",
       "        vertical-align: middle;\n",
       "    }\n",
       "\n",
       "    .dataframe tbody tr th {\n",
       "        vertical-align: top;\n",
       "    }\n",
       "\n",
       "    .dataframe thead th {\n",
       "        text-align: right;\n",
       "    }\n",
       "</style>\n",
       "<table border=\"1\" class=\"dataframe\">\n",
       "  <thead>\n",
       "    <tr style=\"text-align: right;\">\n",
       "      <th></th>\n",
       "      <th>feature_imp</th>\n",
       "    </tr>\n",
       "  </thead>\n",
       "  <tbody>\n",
       "    <tr>\n",
       "      <th>units_lag1</th>\n",
       "      <td>183</td>\n",
       "    </tr>\n",
       "    <tr>\n",
       "      <th>discount</th>\n",
       "      <td>24</td>\n",
       "    </tr>\n",
       "    <tr>\n",
       "      <th>black_friday</th>\n",
       "      <td>21</td>\n",
       "    </tr>\n",
       "    <tr>\n",
       "      <th>day_of_week</th>\n",
       "      <td>16</td>\n",
       "    </tr>\n",
       "    <tr>\n",
       "      <th>promo_price</th>\n",
       "      <td>14</td>\n",
       "    </tr>\n",
       "    <tr>\n",
       "      <th>norm_trend</th>\n",
       "      <td>8</td>\n",
       "    </tr>\n",
       "    <tr>\n",
       "      <th>encoded_sku_id</th>\n",
       "      <td>7</td>\n",
       "    </tr>\n",
       "    <tr>\n",
       "      <th>inventory</th>\n",
       "      <td>2</td>\n",
       "    </tr>\n",
       "    <tr>\n",
       "      <th>new_cases</th>\n",
       "      <td>2</td>\n",
       "    </tr>\n",
       "    <tr>\n",
       "      <th>retail_price_position_subclass_name</th>\n",
       "      <td>1</td>\n",
       "    </tr>\n",
       "    <tr>\n",
       "      <th>retail_price</th>\n",
       "      <td>1</td>\n",
       "    </tr>\n",
       "    <tr>\n",
       "      <th>subclass_name</th>\n",
       "      <td>1</td>\n",
       "    </tr>\n",
       "    <tr>\n",
       "      <th>competitor_price</th>\n",
       "      <td>0</td>\n",
       "    </tr>\n",
       "    <tr>\n",
       "      <th>year</th>\n",
       "      <td>0</td>\n",
       "    </tr>\n",
       "    <tr>\n",
       "      <th>retail_price_position_category_name</th>\n",
       "      <td>0</td>\n",
       "    </tr>\n",
       "    <tr>\n",
       "      <th>retail_price_position_ml_name</th>\n",
       "      <td>0</td>\n",
       "    </tr>\n",
       "    <tr>\n",
       "      <th>retail_price_position_class_name</th>\n",
       "      <td>0</td>\n",
       "    </tr>\n",
       "    <tr>\n",
       "      <th>class_name</th>\n",
       "      <td>0</td>\n",
       "    </tr>\n",
       "    <tr>\n",
       "      <th>competitor_price_ratio</th>\n",
       "      <td>0</td>\n",
       "    </tr>\n",
       "    <tr>\n",
       "      <th>ml_name</th>\n",
       "      <td>0</td>\n",
       "    </tr>\n",
       "    <tr>\n",
       "      <th>month</th>\n",
       "      <td>0</td>\n",
       "    </tr>\n",
       "    <tr>\n",
       "      <th>forecasted units</th>\n",
       "      <td>0</td>\n",
       "    </tr>\n",
       "    <tr>\n",
       "      <th>day</th>\n",
       "      <td>0</td>\n",
       "    </tr>\n",
       "    <tr>\n",
       "      <th>category_name</th>\n",
       "      <td>0</td>\n",
       "    </tr>\n",
       "    <tr>\n",
       "      <th>gscpi</th>\n",
       "      <td>0</td>\n",
       "    </tr>\n",
       "    <tr>\n",
       "      <th>total_cases</th>\n",
       "      <td>0</td>\n",
       "    </tr>\n",
       "    <tr>\n",
       "      <th>i_return_log</th>\n",
       "      <td>0</td>\n",
       "    </tr>\n",
       "    <tr>\n",
       "      <th>i_return</th>\n",
       "      <td>0</td>\n",
       "    </tr>\n",
       "    <tr>\n",
       "      <th>market</th>\n",
       "      <td>0</td>\n",
       "    </tr>\n",
       "    <tr>\n",
       "      <th>sales_date</th>\n",
       "      <td>0</td>\n",
       "    </tr>\n",
       "  </tbody>\n",
       "</table>\n",
       "</div>"
      ],
      "text/plain": [
       "                                     feature_imp\n",
       "units_lag1                                   183\n",
       "discount                                      24\n",
       "black_friday                                  21\n",
       "day_of_week                                   16\n",
       "promo_price                                   14\n",
       "norm_trend                                     8\n",
       "encoded_sku_id                                 7\n",
       "inventory                                      2\n",
       "new_cases                                      2\n",
       "retail_price_position_subclass_name            1\n",
       "retail_price                                   1\n",
       "subclass_name                                  1\n",
       "competitor_price                               0\n",
       "year                                           0\n",
       "retail_price_position_category_name            0\n",
       "retail_price_position_ml_name                  0\n",
       "retail_price_position_class_name               0\n",
       "class_name                                     0\n",
       "competitor_price_ratio                         0\n",
       "ml_name                                        0\n",
       "month                                          0\n",
       "forecasted units                               0\n",
       "day                                            0\n",
       "category_name                                  0\n",
       "gscpi                                          0\n",
       "total_cases                                    0\n",
       "i_return_log                                   0\n",
       "i_return                                       0\n",
       "market                                         0\n",
       "sales_date                                     0"
      ]
     },
     "execution_count": 172,
     "metadata": {},
     "output_type": "execute_result"
    }
   ],
   "source": [
    "pd.DataFrame(reg.feature_importances_ , index= xtr.columns.tolist(), columns = [\"feature_imp\"]).sort_values(\"feature_imp\", ascending = False)"
   ]
  },
  {
   "cell_type": "markdown",
   "metadata": {
    "collapsed": false,
    "pycharm": {
     "name": "#%% md\n"
    }
   },
   "source": [
    "## End of main solution rest is playing around"
   ]
  },
  {
   "cell_type": "code",
   "execution_count": null,
   "metadata": {
    "collapsed": false,
    "pycharm": {
     "name": "#%%\n"
    }
   },
   "outputs": [],
   "source": []
  },
  {
   "cell_type": "code",
   "execution_count": null,
   "metadata": {
    "collapsed": false,
    "pycharm": {
     "name": "#%%\n"
    }
   },
   "outputs": [],
   "source": []
  },
  {
   "cell_type": "code",
   "execution_count": null,
   "metadata": {
    "collapsed": false,
    "pycharm": {
     "name": "#%%\n"
    }
   },
   "outputs": [],
   "source": []
  },
  {
   "cell_type": "code",
   "execution_count": null,
   "metadata": {
    "collapsed": false,
    "pycharm": {
     "name": "#%%\n"
    }
   },
   "outputs": [],
   "source": []
  },
  {
   "cell_type": "code",
   "execution_count": null,
   "metadata": {
    "collapsed": false,
    "pycharm": {
     "name": "#%%\n"
    }
   },
   "outputs": [],
   "source": [
    "ts.tail()"
   ]
  },
  {
   "cell_type": "code",
   "execution_count": null,
   "metadata": {
    "collapsed": false,
    "pycharm": {
     "name": "#%%\n"
    }
   },
   "outputs": [],
   "source": [
    "ts_save.tail()"
   ]
  },
  {
   "cell_type": "code",
   "execution_count": 19,
   "metadata": {
    "collapsed": false,
    "pycharm": {
     "name": "#%%\n"
    }
   },
   "outputs": [
    {
     "name": "stdout",
     "output_type": "stream",
     "text": [
      "      day  month  year\n",
      "0       3     12  2017\n",
      "244     4     12  2017\n",
      "485     5     12  2017\n",
      "731     6     12  2017\n",
      "977     7     12  2017\n",
      "1225    8     12  2017\n",
      "1473    9     12  2017\n",
      "(1720, 15)\n",
      "(1720, 16)\n",
      "0.8746058806030268 0.8638213323534943\n",
      "29.98597616258507\n",
      "      day  month  year\n",
      "0      10      6  2018\n",
      "375    11      6  2018\n",
      "750    12      6  2018\n",
      "1125   13      6  2018\n",
      "1500   14      6  2018\n",
      "1876   15      6  2018\n",
      "2252   16      6  2018\n",
      "(2628, 15)\n",
      "(2628, 16)\n",
      "0.8210897545438773 0.8526608555322662\n",
      "21.8233984032616\n",
      "      day  month  year\n",
      "0      16     12  2018\n",
      "403    17     12  2018\n",
      "806    18     12  2018\n",
      "1209   19     12  2018\n",
      "1612   20     12  2018\n",
      "2014   21     12  2018\n",
      "2417   22     12  2018\n",
      "(2820, 15)\n",
      "(2820, 16)\n",
      "0.7109246502420397 0.8334287597952978\n",
      "201.25470974310727\n",
      "      day  month  year\n",
      "0      23      6  2019\n",
      "440    24      6  2019\n",
      "880    25      6  2019\n",
      "1320   26      6  2019\n",
      "1760   27      6  2019\n",
      "2199   28      6  2019\n",
      "2639   29      6  2019\n",
      "(3079, 15)\n",
      "(3079, 16)\n",
      "0.8075916827077352 0.8797814053497642\n",
      "113.73514623527406\n",
      "      day  month  year\n",
      "0      28     12  2019\n",
      "493    29     12  2019\n",
      "988    30     12  2019\n",
      "1483   31     12  2019\n",
      "1977    1      1  2020\n",
      "2472    2      1  2020\n",
      "2964    3      1  2020\n",
      "(3459, 15)\n",
      "(3459, 16)\n",
      "0.7218980202700434 0.12320713187173848\n",
      "112.0815724463215\n",
      "      day  month  year\n",
      "0       3      7  2020\n",
      "518     4      7  2020\n",
      "1036    5      7  2020\n",
      "1556    6      7  2020\n",
      "2077    7      7  2020\n",
      "2598    8      7  2020\n",
      "3119    9      7  2020\n",
      "(3639, 15)\n",
      "(3639, 16)\n",
      "0.6975996393637276 0.8632153228419389\n",
      "89.10264355765901\n",
      "      day  month  year\n",
      "0       7      1  2021\n",
      "570     8      1  2021\n",
      "1140    9      1  2021\n",
      "1710   10      1  2021\n",
      "2276   11      1  2021\n",
      "2842   12      1  2021\n",
      "3409   13      1  2021\n",
      "(3976, 15)\n",
      "(3976, 16)\n",
      "0.7295146635708495 0.7245728197761587\n",
      "41.21893976217822\n",
      "      day  month  year\n",
      "0      14      7  2021\n",
      "529    15      7  2021\n",
      "1059   16      7  2021\n",
      "1590   17      7  2021\n",
      "2120   18      7  2021\n",
      "2650   19      7  2021\n",
      "3179   20      7  2021\n",
      "(3709, 15)\n",
      "(3709, 16)\n",
      "0.7313611457024927 0.9538975849208999\n",
      "92.94943681008344\n",
      "      day  month  year\n",
      "0      18      1  2022\n",
      "531    19      1  2022\n",
      "1060   20      1  2022\n",
      "1590   21      1  2022\n",
      "2120   22      1  2022\n",
      "2651   23      1  2022\n",
      "3180   24      1  2022\n",
      "(3708, 15)\n",
      "(3708, 16)\n",
      "0.7462857939957332 0.37491127753729614\n",
      "38.78132837505802\n",
      "      day  month  year\n",
      "0      25      7  2022\n",
      "556    26      7  2022\n",
      "1114   27      7  2022\n",
      "1672   28      7  2022\n",
      "2226   29      7  2022\n",
      "2785   30      7  2022\n",
      "3343   31      7  2022\n",
      "(3899, 15)\n",
      "(3899, 16)\n",
      "0.7496548258925343 0.9028485991218697\n",
      "29.41875988372975\n"
     ]
    }
   ],
   "source": [
    "\n",
    "\n",
    "    def f_fill(x):\n",
    "        temp = tr[tr['encoded_sku_id']==x['encoded_sku_id'].iloc[0]].reset_index(drop=True)\n",
    "        if temp.shape[0]:\n",
    "            dum = temp[cols].iloc[-1,:]\n",
    "            for c in cols:\n",
    "                x[c] = dum[c]\n",
    "        else:\n",
    "            x[cols] = 0\n",
    "        return x\n",
    "\n",
    "    ts = ts.groupby('encoded_sku_id', as_index=False).apply(f_fill).reset_index(drop=True)\n",
    "\n",
    "    xtr,ytr = tr.drop(\"daily_units\", axis=1), tr[\"daily_units\"]\n",
    "    xts,yts = ts.drop(\"daily_units\", axis=1), ts[\"daily_units\"].copy()\n",
    "    print(xts[['day', 'month', 'year']].drop_duplicates())\n",
    "\n",
    "    reg.fit(xtr,ytr)\n",
    "\n",
    "    def moving_fill(x):\n",
    "        temp = tr[tr['encoded_sku_id']==x['encoded_sku_id'].iloc[0]].reset_index(drop=True)\n",
    "        x = x.reset_index(drop=True)\n",
    "\n",
    "        n = temp.shape[0]\n",
    "        n1 = x.shape[0]\n",
    "\n",
    "        for i in range(7):\n",
    "            if i==n1: break\n",
    "            for c in cols:\n",
    "                x.loc[i,c] = np.mean(pd.concat([temp.loc[n-7+i:,c],x.loc[:i-1,c]]))\n",
    "            x.loc[i,'daily_units'] = reg.predict(x.drop(['daily_units'],axis=1).iloc[i:i+1,:])\n",
    "            # print('S')\n",
    "        return x\n",
    "\n",
    "    # print(xts.shape)\n",
    "    ts = ts.groupby('encoded_sku_id', as_index=False).apply(moving_fill)\n",
    "    # print(ts.shape)\n",
    "\n",
    "    # mms = MinMaxScaler()\n",
    "    # ytr = mms.fit_transform(ytr.apply(lambda x: np.log10(1+x)).values.reshape(-1, 1)).reshape(-1)\n",
    "    # yts = mms.transform(yts.apply(lambda x: np.log10(1+x)).values.reshape(-1, 1)).reshape(-1)\n",
    "\n",
    "    print(reg.score(xtr,ytr),reg.score(xts,yts))\n",
    "    print(mean_squared_error(yts, ts['daily_units'], squared=False))\n",
    "    # def inverse(x):\n",
    "    #     return (10**mms.inverse_transform(x.reshape(-1,1))).reshape(-1) -1\n",
    "    # print(mean_squared_error(inverse(yts), inverse(pred), squared=False))"
   ]
  },
  {
   "cell_type": "code",
   "execution_count": 91,
   "metadata": {
    "collapsed": false,
    "pycharm": {
     "name": "#%%\n"
    }
   },
   "outputs": [
    {
     "data": {
      "text/plain": [
       "-0.5895199528925648"
      ]
     },
     "execution_count": 91,
     "metadata": {},
     "output_type": "execute_result"
    }
   ],
   "source": [
    "(ts_save.daily_units.values-ts.daily_units.values).mean()"
   ]
  },
  {
   "cell_type": "code",
   "execution_count": 87,
   "metadata": {
    "collapsed": false,
    "pycharm": {
     "name": "#%%\n"
    }
   },
   "outputs": [
    {
     "name": "stderr",
     "output_type": "stream",
     "text": [
      "c:\\programdata\\anaconda3\\envs\\cleanmf\\lib\\site-packages\\pandas\\plotting\\_matplotlib\\core.py:1235: UserWarning: FixedFormatter should only be used together with FixedLocator\n",
      "  ax.set_xticklabels(xticklabels)\n"
     ]
    },
    {
     "data": {
      "text/plain": [
       "<AxesSubplot: >"
      ]
     },
     "execution_count": 87,
     "metadata": {},
     "output_type": "execute_result"
    },
    {
     "data": {
      "image/png": "[encoded data removed]",
      "text/plain": [
       "<Figure size 1440x720 with 1 Axes>"
      ]
     },
     "metadata": {
      "needs_background": "light"
     },
     "output_type": "display_data"
    }
   ],
   "source": [
    "fig, ax = plt.subplots(1, 1, figsize=(20, 10))\n",
    "ts_save[ts_save[\"encoded_sku_id\"]==97].daily_units.plot(ax=ax)\n",
    "ts[ts[\"encoded_sku_id\"]==97].daily_units.plot(ax=ax)"
   ]
  },
  {
   "cell_type": "code",
   "execution_count": 269,
   "metadata": {
    "collapsed": false,
    "pycharm": {
     "name": "#%%\n"
    }
   },
   "outputs": [
    {
     "name": "stderr",
     "output_type": "stream",
     "text": [
      "c:\\programdata\\anaconda3\\envs\\cleanmf\\lib\\site-packages\\pandas\\plotting\\_matplotlib\\core.py:1235: UserWarning: FixedFormatter should only be used together with FixedLocator\n",
      "  ax.set_xticklabels(xticklabels)\n"
     ]
    },
    {
     "ename": "TypeError",
     "evalue": "inner() got multiple values for argument 'ax'",
     "output_type": "error",
     "traceback": [
      "\u001b[1;31m---------------------------------------------------------------------------\u001b[0m",
      "\u001b[1;31mTypeError\u001b[0m                                 Traceback (most recent call last)",
      "\u001b[1;32m<ipython-input-269-21767a254440>\u001b[0m in \u001b[0;36m<module>\u001b[1;34m\u001b[0m\n\u001b[0;32m      1\u001b[0m \u001b[0mfig\u001b[0m\u001b[1;33m,\u001b[0m\u001b[0max\u001b[0m \u001b[1;33m=\u001b[0m \u001b[0mplt\u001b[0m\u001b[1;33m.\u001b[0m\u001b[0msubplots\u001b[0m\u001b[1;33m(\u001b[0m\u001b[1;36m1\u001b[0m\u001b[1;33m,\u001b[0m\u001b[1;36m1\u001b[0m\u001b[1;33m,\u001b[0m\u001b[0mfigsize\u001b[0m\u001b[1;33m=\u001b[0m\u001b[1;33m(\u001b[0m\u001b[1;36m20\u001b[0m\u001b[1;33m,\u001b[0m\u001b[1;36m10\u001b[0m\u001b[1;33m)\u001b[0m\u001b[1;33m)\u001b[0m\u001b[1;33m\u001b[0m\u001b[1;33m\u001b[0m\u001b[0m\n\u001b[1;32m----> 2\u001b[1;33m \u001b[0mdf\u001b[0m\u001b[1;33m.\u001b[0m\u001b[0mgroupby\u001b[0m\u001b[1;33m(\u001b[0m\u001b[1;33m[\u001b[0m\u001b[1;34m'year'\u001b[0m\u001b[1;33m,\u001b[0m\u001b[1;34m'month'\u001b[0m\u001b[1;33m,\u001b[0m\u001b[1;34m'day'\u001b[0m\u001b[1;33m]\u001b[0m\u001b[1;33m)\u001b[0m\u001b[1;33m[\u001b[0m\u001b[1;34m'daily_units'\u001b[0m\u001b[1;33m]\u001b[0m\u001b[1;33m.\u001b[0m\u001b[0msum\u001b[0m\u001b[1;33m(\u001b[0m\u001b[1;33m)\u001b[0m\u001b[1;33m.\u001b[0m\u001b[0mdiff\u001b[0m\u001b[1;33m(\u001b[0m\u001b[1;33m)\u001b[0m\u001b[1;33m.\u001b[0m\u001b[0miloc\u001b[0m\u001b[1;33m[\u001b[0m\u001b[1;36m10\u001b[0m\u001b[1;33m:\u001b[0m\u001b[1;33m]\u001b[0m\u001b[1;33m.\u001b[0m\u001b[0mplot\u001b[0m\u001b[1;33m(\u001b[0m\u001b[1;33m)\u001b[0m\u001b[1;33m.\u001b[0m\u001b[0mbar\u001b[0m\u001b[1;33m(\u001b[0m\u001b[0max\u001b[0m\u001b[1;33m=\u001b[0m\u001b[0max\u001b[0m\u001b[1;33m)\u001b[0m\u001b[1;33m\u001b[0m\u001b[1;33m\u001b[0m\u001b[0m\n\u001b[0m",
      "\u001b[1;31mTypeError\u001b[0m: inner() got multiple values for argument 'ax'"
     ]
    },
    {
     "data": {
      "image/png": "[encoded data removed]",
      "text/plain": [
       "<Figure size 1440x720 with 1 Axes>"
      ]
     },
     "metadata": {
      "needs_background": "light"
     },
     "output_type": "display_data"
    }
   ],
   "source": [
    "fig,ax = plt.subplots(1,1,figsize=(20,10))\n",
    "df.groupby(['year','month','day'])['daily_units'].sum().diff().iloc[10:].plot().bar(ax=ax)"
   ]
  },
  {
   "cell_type": "code",
   "execution_count": 295,
   "metadata": {
    "collapsed": false,
    "pycharm": {
     "name": "#%%\n"
    }
   },
   "outputs": [
    {
     "name": "stderr",
     "output_type": "stream",
     "text": [
      "c:\\programdata\\anaconda3\\envs\\cleanmf\\lib\\site-packages\\pandas\\plotting\\_matplotlib\\core.py:1235: UserWarning: FixedFormatter should only be used together with FixedLocator\n",
      "  ax.set_xticklabels(xticklabels)\n"
     ]
    },
    {
     "ename": "TypeError",
     "evalue": "inner() got multiple values for argument 'ax'",
     "output_type": "error",
     "traceback": [
      "\u001b[1;31m---------------------------------------------------------------------------\u001b[0m",
      "\u001b[1;31mTypeError\u001b[0m                                 Traceback (most recent call last)",
      "\u001b[1;32m<ipython-input-295-5480cef6f913>\u001b[0m in \u001b[0;36m<module>\u001b[1;34m\u001b[0m\n\u001b[0;32m      1\u001b[0m \u001b[0mfig\u001b[0m\u001b[1;33m,\u001b[0m\u001b[0max\u001b[0m \u001b[1;33m=\u001b[0m \u001b[0mplt\u001b[0m\u001b[1;33m.\u001b[0m\u001b[0msubplots\u001b[0m\u001b[1;33m(\u001b[0m\u001b[1;36m1\u001b[0m\u001b[1;33m,\u001b[0m\u001b[1;36m1\u001b[0m\u001b[1;33m,\u001b[0m\u001b[0mfigsize\u001b[0m\u001b[1;33m=\u001b[0m\u001b[1;33m(\u001b[0m\u001b[1;36m20\u001b[0m\u001b[1;33m,\u001b[0m\u001b[1;36m10\u001b[0m\u001b[1;33m)\u001b[0m\u001b[1;33m)\u001b[0m\u001b[1;33m\u001b[0m\u001b[1;33m\u001b[0m\u001b[0m\n\u001b[0;32m      2\u001b[0m \u001b[0mdum\u001b[0m \u001b[1;33m=\u001b[0m \u001b[0mdf\u001b[0m\u001b[1;33m.\u001b[0m\u001b[0mgroupby\u001b[0m\u001b[1;33m(\u001b[0m\u001b[1;33m[\u001b[0m\u001b[1;34m'year'\u001b[0m\u001b[1;33m,\u001b[0m\u001b[1;34m'month'\u001b[0m\u001b[1;33m,\u001b[0m\u001b[1;34m'day'\u001b[0m\u001b[1;33m]\u001b[0m\u001b[1;33m)\u001b[0m\u001b[1;33m[\u001b[0m\u001b[1;34m'daily_units'\u001b[0m\u001b[1;33m]\u001b[0m\u001b[1;33m.\u001b[0m\u001b[0msum\u001b[0m\u001b[1;33m(\u001b[0m\u001b[1;33m)\u001b[0m\u001b[1;33m.\u001b[0m\u001b[0miloc\u001b[0m\u001b[1;33m[\u001b[0m\u001b[1;36m530\u001b[0m\u001b[1;33m:\u001b[0m\u001b[1;36m555\u001b[0m\u001b[1;33m]\u001b[0m\u001b[1;33m\u001b[0m\u001b[1;33m\u001b[0m\u001b[0m\n\u001b[1;32m----> 3\u001b[1;33m \u001b[0mdum\u001b[0m\u001b[1;33m.\u001b[0m\u001b[0mplot\u001b[0m\u001b[1;33m(\u001b[0m\u001b[1;33m)\u001b[0m\u001b[1;33m.\u001b[0m\u001b[0mbar\u001b[0m\u001b[1;33m(\u001b[0m\u001b[0max\u001b[0m\u001b[1;33m=\u001b[0m\u001b[0max\u001b[0m\u001b[1;33m)\u001b[0m\u001b[1;33m\u001b[0m\u001b[1;33m\u001b[0m\u001b[0m\n\u001b[0m",
      "\u001b[1;31mTypeError\u001b[0m: inner() got multiple values for argument 'ax'"
     ]
    },
    {
     "data": {
      "image/png": "[encoded data removed]",
      "text/plain": [
       "<Figure size 1440x720 with 1 Axes>"
      ]
     },
     "metadata": {
      "needs_background": "light"
     },
     "output_type": "display_data"
    }
   ],
   "source": [
    "fig,ax = plt.subplots(1,1,figsize=(20,10))\n",
    "dum = df.groupby(['year','month','day'])['daily_units'].sum().iloc[530:555]\n",
    "dum.plot().bar(ax=ax)"
   ]
  },
  {
   "cell_type": "code",
   "execution_count": 264,
   "metadata": {
    "collapsed": false,
    "pycharm": {
     "name": "#%%\n"
    }
   },
   "outputs": [
    {
     "data": {
      "text/plain": [
       "year  month  day\n",
       "2019  11     29     47056\n",
       "2020  11     27     32389\n",
       "2019  11     28     28144\n",
       "2021  11     26     23455\n",
       "2019  12     19     20874\n",
       "                    ...  \n",
       "2017  6      1          0\n",
       "      5      31         0\n",
       "             30         0\n",
       "             29         0\n",
       "             28         0\n",
       "Name: daily_units, Length: 1891, dtype: int32"
      ]
     },
     "execution_count": 264,
     "metadata": {},
     "output_type": "execute_result"
    }
   ],
   "source": [
    "df.groupby(['year','month','day'])['daily_units'].sum().sort_values(ascending=False)"
   ]
  },
  {
   "cell_type": "code",
   "execution_count": 16,
   "metadata": {
    "collapsed": false,
    "pycharm": {
     "name": "#%%\n"
    }
   },
   "outputs": [
    {
     "data": {
      "text/plain": [
       "0    0\n",
       "1    4\n",
       "2    0\n",
       "3    1\n",
       "4    9\n",
       "Name: daily_units, dtype: int32"
      ]
     },
     "execution_count": 16,
     "metadata": {},
     "output_type": "execute_result"
    }
   ],
   "source": [
    "yts.head()"
   ]
  },
  {
   "cell_type": "code",
   "execution_count": 17,
   "metadata": {
    "collapsed": false,
    "pycharm": {
     "name": "#%%\n"
    }
   },
   "outputs": [
    {
     "data": {
      "text/html": [
       "<div>\n",
       "<style scoped>\n",
       "    .dataframe tbody tr th:only-of-type {\n",
       "        vertical-align: middle;\n",
       "    }\n",
       "\n",
       "    .dataframe tbody tr th {\n",
       "        vertical-align: top;\n",
       "    }\n",
       "\n",
       "    .dataframe thead th {\n",
       "        text-align: right;\n",
       "    }\n",
       "</style>\n",
       "<table border=\"1\" class=\"dataframe\">\n",
       "  <thead>\n",
       "    <tr style=\"text-align: right;\">\n",
       "      <th></th>\n",
       "      <th></th>\n",
       "      <th>encoded_sku_id</th>\n",
       "      <th>sales_date</th>\n",
       "      <th>subclass_name</th>\n",
       "      <th>class_name</th>\n",
       "      <th>ml_name</th>\n",
       "      <th>category_name</th>\n",
       "      <th>retail_price</th>\n",
       "      <th>promo_price</th>\n",
       "      <th>competitor_price</th>\n",
       "      <th>inventory</th>\n",
       "      <th>daily_units</th>\n",
       "      <th>day</th>\n",
       "      <th>month</th>\n",
       "      <th>year</th>\n",
       "      <th>day_of_week</th>\n",
       "      <th>units_mean7</th>\n",
       "    </tr>\n",
       "  </thead>\n",
       "  <tbody>\n",
       "    <tr>\n",
       "      <th rowspan=\"5\" valign=\"top\">0</th>\n",
       "      <th>0</th>\n",
       "      <td>1</td>\n",
       "      <td>1.658707e+09</td>\n",
       "      <td>43</td>\n",
       "      <td>7</td>\n",
       "      <td>1</td>\n",
       "      <td>0</td>\n",
       "      <td>89.99</td>\n",
       "      <td>NaN</td>\n",
       "      <td>68.90</td>\n",
       "      <td>1</td>\n",
       "      <td>1.581630</td>\n",
       "      <td>25</td>\n",
       "      <td>7</td>\n",
       "      <td>2022</td>\n",
       "      <td>1</td>\n",
       "      <td>1.551020</td>\n",
       "    </tr>\n",
       "    <tr>\n",
       "      <th>1</th>\n",
       "      <td>1</td>\n",
       "      <td>1.658794e+09</td>\n",
       "      <td>43</td>\n",
       "      <td>7</td>\n",
       "      <td>1</td>\n",
       "      <td>0</td>\n",
       "      <td>89.99</td>\n",
       "      <td>NaN</td>\n",
       "      <td>NaN</td>\n",
       "      <td>1</td>\n",
       "      <td>0.883752</td>\n",
       "      <td>26</td>\n",
       "      <td>7</td>\n",
       "      <td>2022</td>\n",
       "      <td>5</td>\n",
       "      <td>1.568513</td>\n",
       "    </tr>\n",
       "    <tr>\n",
       "      <th>2</th>\n",
       "      <td>1</td>\n",
       "      <td>1.658880e+09</td>\n",
       "      <td>43</td>\n",
       "      <td>7</td>\n",
       "      <td>1</td>\n",
       "      <td>0</td>\n",
       "      <td>89.99</td>\n",
       "      <td>NaN</td>\n",
       "      <td>NaN</td>\n",
       "      <td>1</td>\n",
       "      <td>0.883752</td>\n",
       "      <td>27</td>\n",
       "      <td>7</td>\n",
       "      <td>2022</td>\n",
       "      <td>6</td>\n",
       "      <td>1.608913</td>\n",
       "    </tr>\n",
       "    <tr>\n",
       "      <th>3</th>\n",
       "      <td>1</td>\n",
       "      <td>1.658966e+09</td>\n",
       "      <td>43</td>\n",
       "      <td>7</td>\n",
       "      <td>1</td>\n",
       "      <td>0</td>\n",
       "      <td>89.99</td>\n",
       "      <td>NaN</td>\n",
       "      <td>NaN</td>\n",
       "      <td>1</td>\n",
       "      <td>1.218379</td>\n",
       "      <td>28</td>\n",
       "      <td>7</td>\n",
       "      <td>2022</td>\n",
       "      <td>4</td>\n",
       "      <td>1.593860</td>\n",
       "    </tr>\n",
       "    <tr>\n",
       "      <th>4</th>\n",
       "      <td>1</td>\n",
       "      <td>1.659053e+09</td>\n",
       "      <td>43</td>\n",
       "      <td>7</td>\n",
       "      <td>1</td>\n",
       "      <td>0</td>\n",
       "      <td>89.99</td>\n",
       "      <td>NaN</td>\n",
       "      <td>69.95</td>\n",
       "      <td>1</td>\n",
       "      <td>1.725366</td>\n",
       "      <td>29</td>\n",
       "      <td>7</td>\n",
       "      <td>2022</td>\n",
       "      <td>0</td>\n",
       "      <td>1.556248</td>\n",
       "    </tr>\n",
       "  </tbody>\n",
       "</table>\n",
       "</div>"
      ],
      "text/plain": [
       "     encoded_sku_id    sales_date  subclass_name  class_name  ml_name  \\\n",
       "0 0               1  1.658707e+09             43           7        1   \n",
       "  1               1  1.658794e+09             43           7        1   \n",
       "  2               1  1.658880e+09             43           7        1   \n",
       "  3               1  1.658966e+09             43           7        1   \n",
       "  4               1  1.659053e+09             43           7        1   \n",
       "\n",
       "     category_name  retail_price  promo_price  competitor_price  inventory  \\\n",
       "0 0              0         89.99          NaN             68.90          1   \n",
       "  1              0         89.99          NaN               NaN          1   \n",
       "  2              0         89.99          NaN               NaN          1   \n",
       "  3              0         89.99          NaN               NaN          1   \n",
       "  4              0         89.99          NaN             69.95          1   \n",
       "\n",
       "     daily_units  day  month  year  day_of_week  units_mean7  \n",
       "0 0     1.581630   25      7  2022            1     1.551020  \n",
       "  1     0.883752   26      7  2022            5     1.568513  \n",
       "  2     0.883752   27      7  2022            6     1.608913  \n",
       "  3     1.218379   28      7  2022            4     1.593860  \n",
       "  4     1.725366   29      7  2022            0     1.556248  "
      ]
     },
     "execution_count": 17,
     "metadata": {},
     "output_type": "execute_result"
    }
   ],
   "source": [
    "ts.head()"
   ]
  },
  {
   "cell_type": "code",
   "execution_count": 15,
   "metadata": {
    "collapsed": false,
    "pycharm": {
     "name": "#%%\n"
    }
   },
   "outputs": [
    {
     "data": {
      "text/html": [
       "<div>\n",
       "<style scoped>\n",
       "    .dataframe tbody tr th:only-of-type {\n",
       "        vertical-align: middle;\n",
       "    }\n",
       "\n",
       "    .dataframe tbody tr th {\n",
       "        vertical-align: top;\n",
       "    }\n",
       "\n",
       "    .dataframe thead th {\n",
       "        text-align: right;\n",
       "    }\n",
       "</style>\n",
       "<table border=\"1\" class=\"dataframe\">\n",
       "  <thead>\n",
       "    <tr style=\"text-align: right;\">\n",
       "      <th></th>\n",
       "      <th>feature_imp</th>\n",
       "    </tr>\n",
       "  </thead>\n",
       "  <tbody>\n",
       "    <tr>\n",
       "      <th>units_mean7</th>\n",
       "      <td>168</td>\n",
       "    </tr>\n",
       "    <tr>\n",
       "      <th>promo_price</th>\n",
       "      <td>64</td>\n",
       "    </tr>\n",
       "    <tr>\n",
       "      <th>day_of_week</th>\n",
       "      <td>35</td>\n",
       "    </tr>\n",
       "    <tr>\n",
       "      <th>retail_price</th>\n",
       "      <td>11</td>\n",
       "    </tr>\n",
       "    <tr>\n",
       "      <th>encoded_sku_id</th>\n",
       "      <td>9</td>\n",
       "    </tr>\n",
       "    <tr>\n",
       "      <th>inventory</th>\n",
       "      <td>9</td>\n",
       "    </tr>\n",
       "    <tr>\n",
       "      <th>day</th>\n",
       "      <td>2</td>\n",
       "    </tr>\n",
       "    <tr>\n",
       "      <th>sales_date</th>\n",
       "      <td>1</td>\n",
       "    </tr>\n",
       "    <tr>\n",
       "      <th>month</th>\n",
       "      <td>1</td>\n",
       "    </tr>\n",
       "    <tr>\n",
       "      <th>subclass_name</th>\n",
       "      <td>0</td>\n",
       "    </tr>\n",
       "    <tr>\n",
       "      <th>class_name</th>\n",
       "      <td>0</td>\n",
       "    </tr>\n",
       "    <tr>\n",
       "      <th>ml_name</th>\n",
       "      <td>0</td>\n",
       "    </tr>\n",
       "    <tr>\n",
       "      <th>category_name</th>\n",
       "      <td>0</td>\n",
       "    </tr>\n",
       "    <tr>\n",
       "      <th>competitor_price</th>\n",
       "      <td>0</td>\n",
       "    </tr>\n",
       "    <tr>\n",
       "      <th>year</th>\n",
       "      <td>0</td>\n",
       "    </tr>\n",
       "  </tbody>\n",
       "</table>\n",
       "</div>"
      ],
      "text/plain": [
       "                  feature_imp\n",
       "units_mean7               168\n",
       "promo_price                64\n",
       "day_of_week                35\n",
       "retail_price               11\n",
       "encoded_sku_id              9\n",
       "inventory                   9\n",
       "day                         2\n",
       "sales_date                  1\n",
       "month                       1\n",
       "subclass_name               0\n",
       "class_name                  0\n",
       "ml_name                     0\n",
       "category_name               0\n",
       "competitor_price            0\n",
       "year                        0"
      ]
     },
     "execution_count": 15,
     "metadata": {},
     "output_type": "execute_result"
    }
   ],
   "source": [
    "pd.DataFrame(reg.feature_importances_ , index= xtr.columns.tolist(), columns = [\"feature_imp\"]).sort_values(\"feature_imp\", ascending = False)"
   ]
  },
  {
   "cell_type": "code",
   "execution_count": 115,
   "metadata": {
    "collapsed": false,
    "pycharm": {
     "name": "#%%\n"
    }
   },
   "outputs": [
    {
     "data": {
      "text/plain": [
       "<AxesSubplot: >"
      ]
     },
     "execution_count": 115,
     "metadata": {},
     "output_type": "execute_result"
    },
    {
     "data": {
      "image/png": "[encoded data removed]",
      "text/plain": [
       "<Figure size 432x288 with 2 Axes>"
      ]
     },
     "metadata": {
      "needs_background": "light"
     },
     "output_type": "display_data"
    }
   ],
   "source": [
    "import seaborn as sns\n",
    "sns.heatmap(df.corr())"
   ]
  },
  {
   "cell_type": "code",
   "execution_count": 86,
   "metadata": {
    "collapsed": false,
    "pycharm": {
     "name": "#%%\n"
    }
   },
   "outputs": [
    {
     "data": {
      "text/plain": [
       "encoded_sku_id\n",
       "97     1023.159634\n",
       "237     436.547715\n",
       "469     383.666380\n",
       "347     207.240784\n",
       "557     180.306569\n",
       "          ...     \n",
       "318       0.687534\n",
       "177       0.679731\n",
       "329       0.663020\n",
       "158       0.650474\n",
       "166       0.612381\n",
       "Name: daily_units, Length: 575, dtype: float64"
      ]
     },
     "execution_count": 86,
     "metadata": {},
     "output_type": "execute_result"
    }
   ],
   "source": [
    "df.groupby(\"encoded_sku_id\")[\"daily_units\"].mean().sort_values(ascending=False)"
   ]
  },
  {
   "cell_type": "code",
   "execution_count": 178,
   "metadata": {
    "collapsed": false,
    "pycharm": {
     "name": "#%%\n"
    }
   },
   "outputs": [],
   "source": [
    "def createTrTs(df, splits=10, test_size=7):\n",
    "    dates = np.array(sorted(df.sales_date.unique()))\n",
    "    test = dates[-test_size:]\n",
    "    dates = dates[:-test_size]\n",
    "    trains = np.array_split(dates,splits)\n",
    "    tests = [i[:test_size] for i in trains[1:]] + [test]\n",
    "    return trains, tests\n",
    "\n",
    "def generateTimeSeriesSplits(trains, tests, df):\n",
    "    for i, ts in enumerate(tests):\n",
    "        tr = np.concatenate(trains[:i+1])\n",
    "        tr,ts = df[df.sales_date.isin(tr)].copy(), df[df.sales_date.isin(ts)].copy()\n",
    "        yield tr,ts\n",
    "\n",
    "trains, tests = createTrTs(df)"
   ]
  },
  {
   "cell_type": "code",
   "execution_count": 180,
   "metadata": {
    "collapsed": false,
    "pycharm": {
     "name": "#%%\n"
    }
   },
   "outputs": [],
   "source": []
  },
  {
   "cell_type": "code",
   "execution_count": 179,
   "metadata": {
    "collapsed": false,
    "pycharm": {
     "name": "#%%\n"
    }
   },
   "outputs": [],
   "source": []
  },
  {
   "cell_type": "code",
   "execution_count": 192,
   "metadata": {
    "collapsed": false,
    "pycharm": {
     "name": "#%%\n"
    }
   },
   "outputs": [
    {
     "data": {
      "text/html": [
       "<div>\n",
       "<style scoped>\n",
       "    .dataframe tbody tr th:only-of-type {\n",
       "        vertical-align: middle;\n",
       "    }\n",
       "\n",
       "    .dataframe tbody tr th {\n",
       "        vertical-align: top;\n",
       "    }\n",
       "\n",
       "    .dataframe thead th {\n",
       "        text-align: right;\n",
       "    }\n",
       "</style>\n",
       "<table border=\"1\" class=\"dataframe\">\n",
       "  <thead>\n",
       "    <tr style=\"text-align: right;\">\n",
       "      <th></th>\n",
       "      <th>encoded_sku_id</th>\n",
       "      <th>sales_date</th>\n",
       "      <th>subclass_name</th>\n",
       "      <th>class_name</th>\n",
       "      <th>ml_name</th>\n",
       "      <th>category_name</th>\n",
       "      <th>retail_price</th>\n",
       "      <th>promo_price</th>\n",
       "      <th>competitor_price</th>\n",
       "      <th>inventory</th>\n",
       "      <th>daily_units</th>\n",
       "      <th>day</th>\n",
       "      <th>month</th>\n",
       "      <th>year</th>\n",
       "      <th>day_of_week</th>\n",
       "    </tr>\n",
       "  </thead>\n",
       "  <tbody>\n",
       "    <tr>\n",
       "      <th>0</th>\n",
       "      <td>1</td>\n",
       "      <td>1.495930e+09</td>\n",
       "      <td>43</td>\n",
       "      <td>7</td>\n",
       "      <td>1</td>\n",
       "      <td>0</td>\n",
       "      <td>89.99</td>\n",
       "      <td>NaN</td>\n",
       "      <td>NaN</td>\n",
       "      <td>1</td>\n",
       "      <td>0</td>\n",
       "      <td>28</td>\n",
       "      <td>5</td>\n",
       "      <td>2017</td>\n",
       "      <td>3</td>\n",
       "    </tr>\n",
       "    <tr>\n",
       "      <th>1</th>\n",
       "      <td>2</td>\n",
       "      <td>1.495930e+09</td>\n",
       "      <td>7</td>\n",
       "      <td>7</td>\n",
       "      <td>1</td>\n",
       "      <td>0</td>\n",
       "      <td>39.99</td>\n",
       "      <td>NaN</td>\n",
       "      <td>NaN</td>\n",
       "      <td>3</td>\n",
       "      <td>0</td>\n",
       "      <td>28</td>\n",
       "      <td>5</td>\n",
       "      <td>2017</td>\n",
       "      <td>3</td>\n",
       "    </tr>\n",
       "    <tr>\n",
       "      <th>2</th>\n",
       "      <td>5</td>\n",
       "      <td>1.495930e+09</td>\n",
       "      <td>61</td>\n",
       "      <td>18</td>\n",
       "      <td>0</td>\n",
       "      <td>1</td>\n",
       "      <td>16.99</td>\n",
       "      <td>NaN</td>\n",
       "      <td>NaN</td>\n",
       "      <td>1</td>\n",
       "      <td>0</td>\n",
       "      <td>28</td>\n",
       "      <td>5</td>\n",
       "      <td>2017</td>\n",
       "      <td>3</td>\n",
       "    </tr>\n",
       "    <tr>\n",
       "      <th>3</th>\n",
       "      <td>6</td>\n",
       "      <td>1.495930e+09</td>\n",
       "      <td>107</td>\n",
       "      <td>18</td>\n",
       "      <td>0</td>\n",
       "      <td>1</td>\n",
       "      <td>62.99</td>\n",
       "      <td>NaN</td>\n",
       "      <td>NaN</td>\n",
       "      <td>1</td>\n",
       "      <td>0</td>\n",
       "      <td>28</td>\n",
       "      <td>5</td>\n",
       "      <td>2017</td>\n",
       "      <td>3</td>\n",
       "    </tr>\n",
       "    <tr>\n",
       "      <th>4</th>\n",
       "      <td>7</td>\n",
       "      <td>1.495930e+09</td>\n",
       "      <td>61</td>\n",
       "      <td>18</td>\n",
       "      <td>0</td>\n",
       "      <td>1</td>\n",
       "      <td>16.99</td>\n",
       "      <td>NaN</td>\n",
       "      <td>NaN</td>\n",
       "      <td>3</td>\n",
       "      <td>0</td>\n",
       "      <td>28</td>\n",
       "      <td>5</td>\n",
       "      <td>2017</td>\n",
       "      <td>3</td>\n",
       "    </tr>\n",
       "    <tr>\n",
       "      <th>...</th>\n",
       "      <td>...</td>\n",
       "      <td>...</td>\n",
       "      <td>...</td>\n",
       "      <td>...</td>\n",
       "      <td>...</td>\n",
       "      <td>...</td>\n",
       "      <td>...</td>\n",
       "      <td>...</td>\n",
       "      <td>...</td>\n",
       "      <td>...</td>\n",
       "      <td>...</td>\n",
       "      <td>...</td>\n",
       "      <td>...</td>\n",
       "      <td>...</td>\n",
       "      <td>...</td>\n",
       "    </tr>\n",
       "    <tr>\n",
       "      <th>846627</th>\n",
       "      <td>571</td>\n",
       "      <td>1.659226e+09</td>\n",
       "      <td>11</td>\n",
       "      <td>7</td>\n",
       "      <td>1</td>\n",
       "      <td>0</td>\n",
       "      <td>599.99</td>\n",
       "      <td>NaN</td>\n",
       "      <td>488.88</td>\n",
       "      <td>1</td>\n",
       "      <td>1</td>\n",
       "      <td>31</td>\n",
       "      <td>7</td>\n",
       "      <td>2022</td>\n",
       "      <td>3</td>\n",
       "    </tr>\n",
       "    <tr>\n",
       "      <th>846628</th>\n",
       "      <td>572</td>\n",
       "      <td>1.659226e+09</td>\n",
       "      <td>48</td>\n",
       "      <td>7</td>\n",
       "      <td>1</td>\n",
       "      <td>0</td>\n",
       "      <td>129.99</td>\n",
       "      <td>NaN</td>\n",
       "      <td>NaN</td>\n",
       "      <td>1</td>\n",
       "      <td>2</td>\n",
       "      <td>31</td>\n",
       "      <td>7</td>\n",
       "      <td>2022</td>\n",
       "      <td>3</td>\n",
       "    </tr>\n",
       "    <tr>\n",
       "      <th>846629</th>\n",
       "      <td>573</td>\n",
       "      <td>1.659226e+09</td>\n",
       "      <td>112</td>\n",
       "      <td>7</td>\n",
       "      <td>1</td>\n",
       "      <td>0</td>\n",
       "      <td>104.99</td>\n",
       "      <td>NaN</td>\n",
       "      <td>NaN</td>\n",
       "      <td>1</td>\n",
       "      <td>0</td>\n",
       "      <td>31</td>\n",
       "      <td>7</td>\n",
       "      <td>2022</td>\n",
       "      <td>3</td>\n",
       "    </tr>\n",
       "    <tr>\n",
       "      <th>846630</th>\n",
       "      <td>574</td>\n",
       "      <td>1.659226e+09</td>\n",
       "      <td>35</td>\n",
       "      <td>7</td>\n",
       "      <td>1</td>\n",
       "      <td>0</td>\n",
       "      <td>21.99</td>\n",
       "      <td>NaN</td>\n",
       "      <td>21.51</td>\n",
       "      <td>1</td>\n",
       "      <td>2</td>\n",
       "      <td>31</td>\n",
       "      <td>7</td>\n",
       "      <td>2022</td>\n",
       "      <td>3</td>\n",
       "    </tr>\n",
       "    <tr>\n",
       "      <th>846631</th>\n",
       "      <td>575</td>\n",
       "      <td>1.659226e+09</td>\n",
       "      <td>36</td>\n",
       "      <td>3</td>\n",
       "      <td>6</td>\n",
       "      <td>0</td>\n",
       "      <td>149.99</td>\n",
       "      <td>NaN</td>\n",
       "      <td>124.95</td>\n",
       "      <td>1</td>\n",
       "      <td>1</td>\n",
       "      <td>31</td>\n",
       "      <td>7</td>\n",
       "      <td>2022</td>\n",
       "      <td>3</td>\n",
       "    </tr>\n",
       "  </tbody>\n",
       "</table>\n",
       "<p>845898 rows × 15 columns</p>\n",
       "</div>"
      ],
      "text/plain": [
       "        encoded_sku_id    sales_date  subclass_name  class_name  ml_name  \\\n",
       "0                    1  1.495930e+09             43           7        1   \n",
       "1                    2  1.495930e+09              7           7        1   \n",
       "2                    5  1.495930e+09             61          18        0   \n",
       "3                    6  1.495930e+09            107          18        0   \n",
       "4                    7  1.495930e+09             61          18        0   \n",
       "...                ...           ...            ...         ...      ...   \n",
       "846627             571  1.659226e+09             11           7        1   \n",
       "846628             572  1.659226e+09             48           7        1   \n",
       "846629             573  1.659226e+09            112           7        1   \n",
       "846630             574  1.659226e+09             35           7        1   \n",
       "846631             575  1.659226e+09             36           3        6   \n",
       "\n",
       "        category_name  retail_price  promo_price  competitor_price  inventory  \\\n",
       "0                   0         89.99          NaN               NaN          1   \n",
       "1                   0         39.99          NaN               NaN          3   \n",
       "2                   1         16.99          NaN               NaN          1   \n",
       "3                   1         62.99          NaN               NaN          1   \n",
       "4                   1         16.99          NaN               NaN          3   \n",
       "...               ...           ...          ...               ...        ...   \n",
       "846627              0        599.99          NaN            488.88          1   \n",
       "846628              0        129.99          NaN               NaN          1   \n",
       "846629              0        104.99          NaN               NaN          1   \n",
       "846630              0         21.99          NaN             21.51          1   \n",
       "846631              0        149.99          NaN            124.95          1   \n",
       "\n",
       "        daily_units  day  month  year  day_of_week  \n",
       "0                 0   28      5  2017            3  \n",
       "1                 0   28      5  2017            3  \n",
       "2                 0   28      5  2017            3  \n",
       "3                 0   28      5  2017            3  \n",
       "4                 0   28      5  2017            3  \n",
       "...             ...  ...    ...   ...          ...  \n",
       "846627            1   31      7  2022            3  \n",
       "846628            2   31      7  2022            3  \n",
       "846629            0   31      7  2022            3  \n",
       "846630            2   31      7  2022            3  \n",
       "846631            1   31      7  2022            3  \n",
       "\n",
       "[845898 rows x 15 columns]"
      ]
     },
     "execution_count": 192,
     "metadata": {},
     "output_type": "execute_result"
    }
   ],
   "source": [
    "df"
   ]
  },
  {
   "cell_type": "code",
   "execution_count": 215,
   "metadata": {
    "collapsed": false,
    "pycharm": {
     "name": "#%%\n"
    }
   },
   "outputs": [
    {
     "name": "stdout",
     "output_type": "stream",
     "text": [
      "(98, 15) (7, 15)\n",
      "2244.1505193693733\n",
      "(287, 15) (7, 15)\n",
      "389.09209301860915\n",
      "(475, 15) (7, 15)\n",
      "515.846501328693\n",
      "(663, 15) (7, 15)\n",
      "360.5916842730171\n",
      "(851, 15) (7, 15)\n",
      "195.9887269146779\n",
      "(1039, 15) (7, 15)\n",
      "546.7192924801974\n",
      "(1227, 15) (7, 15)\n",
      "97.18458022453784\n",
      "(1415, 15) (7, 15)\n",
      "0.779770019232772\n"
     ]
    }
   ],
   "source": [
    "data_gen = generateTimeSeriesSplits(trains, tests, df)\n",
    "for i,ts in enumerate(tests):\n",
    "    tr,ts = next(data_gen)\n",
    "    tr = tr[tr.encoded_sku_id==97].reset_index(drop=True)\n",
    "    ts = ts[ts.encoded_sku_id==97].reset_index(drop=True)\n",
    "    if not tr.shape[0]:\n",
    "        continue\n",
    "    print(tr.shape, ts.shape)\n",
    "    forecast_period = ts.shape[0]\n",
    "    model = sm.tsa.SARIMAX(tr[\"daily_units\"], order=(3,0,0))\n",
    "    res = model.fit(disp=False)\n",
    "    pred_future = res.get_prediction(start = tr.shape[0], end=tr.shape[0]+6)\n",
    "    pred_future = pred_future.predicted_mean\n",
    "    print(mean_squared_error(pred_future, ts.daily_units, squared=False))"
   ]
  },
  {
   "cell_type": "code",
   "execution_count": 197,
   "metadata": {
    "collapsed": false,
    "pycharm": {
     "name": "#%%\n"
    }
   },
   "outputs": [],
   "source": [
    "from sklearn.metrics import mean_absolute_percentage_error"
   ]
  },
  {
   "cell_type": "code",
   "execution_count": 172,
   "metadata": {
    "collapsed": false,
    "pycharm": {
     "name": "#%%\n"
    }
   },
   "outputs": [],
   "source": []
  },
  {
   "cell_type": "code",
   "execution_count": 173,
   "metadata": {
    "collapsed": false,
    "pycharm": {
     "name": "#%%\n"
    }
   },
   "outputs": [],
   "source": []
  },
  {
   "cell_type": "code",
   "execution_count": 174,
   "metadata": {
    "collapsed": false,
    "pycharm": {
     "name": "#%%\n"
    }
   },
   "outputs": [
    {
     "name": "stdout",
     "output_type": "stream",
     "text": [
      "                               SARIMAX Results                                \n",
      "==============================================================================\n",
      "Dep. Variable:            daily_units   No. Observations:                 1422\n",
      "Model:               SARIMAX(1, 0, 0)   Log Likelihood              -11636.884\n",
      "Date:                Sun, 15 Jan 2023   AIC                          23277.768\n",
      "Time:                        14:19:51   BIC                          23288.287\n",
      "Sample:                             0   HQIC                         23281.697\n",
      "                               - 1422                                         \n",
      "Covariance Type:                  opg                                         \n",
      "==============================================================================\n",
      "                 coef    std err          z      P>|z|      [0.025      0.975]\n",
      "------------------------------------------------------------------------------\n",
      "ar.L1          0.8102      0.003    254.609      0.000       0.804       0.816\n",
      "sigma2      7.509e+05   4817.968    155.850      0.000    7.41e+05     7.6e+05\n",
      "===================================================================================\n",
      "Ljung-Box (Q):                      188.29   Jarque-Bera (JB):            301393.84\n",
      "Prob(Q):                              0.00   Prob(JB):                         0.00\n",
      "Heteroskedasticity (H):               0.17   Skew:                             3.41\n",
      "Prob(H) (two-sided):                  0.00   Kurtosis:                        74.00\n",
      "===================================================================================\n",
      "\n",
      "Warnings:\n",
      "[1] Covariance matrix calculated using the outer product of gradients (complex-step).\n"
     ]
    }
   ],
   "source": [
    "\n",
    "print(res.summary())"
   ]
  },
  {
   "cell_type": "code",
   "execution_count": 171,
   "metadata": {
    "collapsed": false,
    "pycharm": {
     "name": "#%%\n"
    }
   },
   "outputs": [
    {
     "data": {
      "image/png": "[encoded data removed]",
      "text/plain": [
       "<Figure size 432x288 with 1 Axes>"
      ]
     },
     "execution_count": 171,
     "metadata": {},
     "output_type": "execute_result"
    },
    {
     "data": {
      "image/png": "[encoded data removed]",
      "text/plain": [
       "<Figure size 432x288 with 1 Axes>"
      ]
     },
     "metadata": {
      "needs_background": "light"
     },
     "output_type": "display_data"
    }
   ],
   "source": [
    "tsaplots.plot_pacf(dfs[\"daily_units\"], lags=30)"
   ]
  },
  {
   "cell_type": "code",
   "execution_count": null,
   "metadata": {
    "collapsed": false,
    "pycharm": {
     "name": "#%%\n"
    }
   },
   "outputs": [],
   "source": []
  },
  {
   "cell_type": "code",
   "execution_count": 143,
   "metadata": {
    "collapsed": false,
    "pycharm": {
     "name": "#%%\n"
    }
   },
   "outputs": [],
   "source": []
  },
  {
   "cell_type": "code",
   "execution_count": 150,
   "metadata": {
    "collapsed": false,
    "pycharm": {
     "name": "#%%\n"
    }
   },
   "outputs": [],
   "source": [
    "predict = res.get_prediction()\n",
    "predict = predict.predicted_mean"
   ]
  },
  {
   "cell_type": "code",
   "execution_count": 151,
   "metadata": {
    "collapsed": false,
    "pycharm": {
     "name": "#%%\n"
    }
   },
   "outputs": [
    {
     "data": {
      "text/plain": [
       "0       0.000000\n",
       "1       0.000000\n",
       "2       0.000000\n",
       "3       0.000000\n",
       "4       2.485544\n",
       "          ...   \n",
       "1417    0.809413\n",
       "1418    0.223691\n",
       "1419    0.061820\n",
       "1420    0.638393\n",
       "1421    0.797736\n",
       "Length: 1422, dtype: float64"
      ]
     },
     "execution_count": 151,
     "metadata": {},
     "output_type": "execute_result"
    }
   ],
   "source": [
    "predict"
   ]
  },
  {
   "cell_type": "code",
   "execution_count": 152,
   "metadata": {
    "collapsed": false,
    "pycharm": {
     "name": "#%%\n"
    }
   },
   "outputs": [
    {
     "data": {
      "image/png": "[encoded data removed]",
      "text/plain": [
       "<Figure size 1440x720 with 1 Axes>"
      ]
     },
     "metadata": {
      "needs_background": "light"
     },
     "output_type": "display_data"
    }
   ],
   "source": [
    "fig,ax = plt.subplots(1,1,figsize=(20,10))\n",
    "ax.plot(predict, color = \"g\")\n",
    "dfs[\"daily_units\"].plot(ax=ax, color = \"b\")\n",
    "plt.show()"
   ]
  },
  {
   "cell_type": "code",
   "execution_count": 153,
   "metadata": {
    "collapsed": false,
    "pycharm": {
     "name": "#%%\n"
    }
   },
   "outputs": [
    {
     "data": {
      "image/png": "[encoded data removed]",
      "text/plain": [
       "<Figure size 1440x720 with 1 Axes>"
      ]
     },
     "metadata": {
      "needs_background": "light"
     },
     "output_type": "display_data"
    }
   ],
   "source": [
    "fig,ax = plt.subplots(1,1,figsize=(20,10))\n",
    "ax.plot(dfs[\"daily_units\"] - predict, color = \"g\")\n",
    "plt.show()"
   ]
  },
  {
   "cell_type": "code",
   "execution_count": 154,
   "metadata": {
    "collapsed": false,
    "pycharm": {
     "name": "#%%\n"
    }
   },
   "outputs": [],
   "source": [
    "dfs[\"error\"] = dfs[\"daily_units\"] - predict"
   ]
  },
  {
   "cell_type": "code",
   "execution_count": 127,
   "metadata": {
    "collapsed": false,
    "pycharm": {
     "name": "#%%\n"
    }
   },
   "outputs": [],
   "source": [
    "import seaborn as sns"
   ]
  },
  {
   "cell_type": "code",
   "execution_count": 155,
   "metadata": {
    "collapsed": false,
    "pycharm": {
     "name": "#%%\n"
    }
   },
   "outputs": [
    {
     "data": {
      "text/plain": [
       "<AxesSubplot: >"
      ]
     },
     "execution_count": 155,
     "metadata": {},
     "output_type": "execute_result"
    },
    {
     "data": {
      "image/png": "[encoded data removed]",
      "text/plain": [
       "<Figure size 1008x720 with 2 Axes>"
      ]
     },
     "metadata": {
      "needs_background": "light"
     },
     "output_type": "display_data"
    }
   ],
   "source": [
    "fig,ax =plt.subplots(1,1,figsize=(14,10))\n",
    "sns.heatmap(dfs.corr(), annot=True, ax=ax)"
   ]
  },
  {
   "cell_type": "code",
   "execution_count": 163,
   "metadata": {
    "collapsed": false,
    "pycharm": {
     "name": "#%%\n"
    }
   },
   "outputs": [
    {
     "data": {
      "text/plain": [
       "1415    75.815102\n",
       "1416    74.560930\n",
       "1417    72.744584\n",
       "1418    70.355253\n",
       "1419    68.618061\n",
       "1420    67.541596\n",
       "1421    65.898569\n",
       "1422    64.296112\n",
       "dtype: float64"
      ]
     },
     "execution_count": 163,
     "metadata": {},
     "output_type": "execute_result"
    }
   ],
   "source": []
  },
  {
   "cell_type": "code",
   "execution_count": 112,
   "metadata": {
    "collapsed": false,
    "pycharm": {
     "name": "#%%\n"
    }
   },
   "outputs": [
    {
     "data": {
      "text/plain": [
       "1415    1\n",
       "1416    1\n",
       "1417    0\n",
       "1418    0\n",
       "1419    1\n",
       "1420    1\n",
       "1421    1\n",
       "Name: daily_units, dtype: int32"
      ]
     },
     "execution_count": 112,
     "metadata": {},
     "output_type": "execute_result"
    }
   ],
   "source": [
    "dfs.daily_units.iloc[-7:]"
   ]
  },
  {
   "cell_type": "code",
   "execution_count": 160,
   "metadata": {
    "collapsed": false,
    "pycharm": {
     "name": "#%%\n"
    }
   },
   "outputs": [
    {
     "data": {
      "text/plain": [
       "853.9166424924791"
      ]
     },
     "execution_count": 160,
     "metadata": {},
     "output_type": "execute_result"
    }
   ],
   "source": []
  },
  {
   "cell_type": "code",
   "execution_count": null,
   "metadata": {
    "collapsed": false,
    "pycharm": {
     "name": "#%%\n"
    }
   },
   "outputs": [],
   "source": []
  },
  {
   "cell_type": "code",
   "execution_count": null,
   "metadata": {
    "collapsed": false,
    "pycharm": {
     "name": "#%%\n"
    }
   },
   "outputs": [],
   "source": []
  },
  {
   "cell_type": "code",
   "execution_count": null,
   "metadata": {
    "collapsed": false,
    "pycharm": {
     "name": "#%%\n"
    }
   },
   "outputs": [],
   "source": []
  }
 ],
 "metadata": {
  "kernelspec": {
   "display_name": "dva",
   "language": "python",
   "name": "python3"
  },
  "language_info": {
   "codemirror_mode": {
    "name": "ipython",
    "version": 2
   },
   "file_extension": ".py",
   "mimetype": "text/x-python",
   "name": "python",
   "nbconvert_exporter": "python",
   "pygments_lexer": "ipython2",
   "version": "3.7.13 (default, Apr 24 2022, 01:06:43) \n[GCC 11.2.0]"
  },
  "vscode": {
   "interpreter": {
    "hash": "eaf9a9fceec5e43d9ce9e2d52a964c899366bcb119e3afcfb5ac874210cecdfa"
   }
  }
 },
 "nbformat": 4,
 "nbformat_minor": 0
}
